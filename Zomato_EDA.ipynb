{
  "cells": [
    {
      "cell_type": "markdown",
      "metadata": {
        "id": "view-in-github",
        "colab_type": "text"
      },
      "source": [
        "<a href=\"https://colab.research.google.com/github/TanD18/Exploratory-Data-Analysis-on-Zomato-Data/blob/main/Zomato_EDA.ipynb\" target=\"_parent\"><img src=\"https://colab.research.google.com/assets/colab-badge.svg\" alt=\"Open In Colab\"/></a>"
      ]
    },
    {
      "cell_type": "markdown",
      "source": [
        "##Importing Dependencies/Library"
      ],
      "metadata": {
        "id": "_WVXveS3lrV3"
      }
    },
    {
      "cell_type": "code",
      "source": [
        "pip install geopandas"
      ],
      "metadata": {
        "colab": {
          "base_uri": "https://localhost:8080/"
        },
        "id": "yy_pqbnRiIsR",
        "outputId": "1db0b2ff-5aaf-4cd3-b6fb-cba080a42f4d"
      },
      "execution_count": null,
      "outputs": [
        {
          "output_type": "stream",
          "name": "stdout",
          "text": [
            "Looking in indexes: https://pypi.org/simple, https://us-python.pkg.dev/colab-wheels/public/simple/\n",
            "Collecting geopandas\n",
            "  Downloading geopandas-0.10.2-py2.py3-none-any.whl (1.0 MB)\n",
            "\u001b[K     |████████████████████████████████| 1.0 MB 7.1 MB/s \n",
            "\u001b[?25hRequirement already satisfied: shapely>=1.6 in /usr/local/lib/python3.7/dist-packages (from geopandas) (1.8.4)\n",
            "Collecting fiona>=1.8\n",
            "  Downloading Fiona-1.8.21-cp37-cp37m-manylinux2014_x86_64.whl (16.7 MB)\n",
            "\u001b[K     |████████████████████████████████| 16.7 MB 251 kB/s \n",
            "\u001b[?25hCollecting pyproj>=2.2.0\n",
            "  Downloading pyproj-3.2.1-cp37-cp37m-manylinux2010_x86_64.whl (6.3 MB)\n",
            "\u001b[K     |████████████████████████████████| 6.3 MB 23.8 MB/s \n",
            "\u001b[?25hRequirement already satisfied: pandas>=0.25.0 in /usr/local/lib/python3.7/dist-packages (from geopandas) (1.3.5)\n",
            "Requirement already satisfied: six>=1.7 in /usr/local/lib/python3.7/dist-packages (from fiona>=1.8->geopandas) (1.15.0)\n",
            "Requirement already satisfied: setuptools in /usr/local/lib/python3.7/dist-packages (from fiona>=1.8->geopandas) (57.4.0)\n",
            "Collecting cligj>=0.5\n",
            "  Downloading cligj-0.7.2-py3-none-any.whl (7.1 kB)\n",
            "Requirement already satisfied: click>=4.0 in /usr/local/lib/python3.7/dist-packages (from fiona>=1.8->geopandas) (7.1.2)\n",
            "Requirement already satisfied: attrs>=17 in /usr/local/lib/python3.7/dist-packages (from fiona>=1.8->geopandas) (22.1.0)\n",
            "Collecting click-plugins>=1.0\n",
            "  Downloading click_plugins-1.1.1-py2.py3-none-any.whl (7.5 kB)\n",
            "Collecting munch\n",
            "  Downloading munch-2.5.0-py2.py3-none-any.whl (10 kB)\n",
            "Requirement already satisfied: certifi in /usr/local/lib/python3.7/dist-packages (from fiona>=1.8->geopandas) (2022.6.15)\n",
            "Requirement already satisfied: pytz>=2017.3 in /usr/local/lib/python3.7/dist-packages (from pandas>=0.25.0->geopandas) (2022.2.1)\n",
            "Requirement already satisfied: numpy>=1.17.3 in /usr/local/lib/python3.7/dist-packages (from pandas>=0.25.0->geopandas) (1.21.6)\n",
            "Requirement already satisfied: python-dateutil>=2.7.3 in /usr/local/lib/python3.7/dist-packages (from pandas>=0.25.0->geopandas) (2.8.2)\n",
            "Installing collected packages: munch, cligj, click-plugins, pyproj, fiona, geopandas\n",
            "Successfully installed click-plugins-1.1.1 cligj-0.7.2 fiona-1.8.21 geopandas-0.10.2 munch-2.5.0 pyproj-3.2.1\n"
          ]
        }
      ]
    },
    {
      "cell_type": "code",
      "source": [
        "pip install geopy"
      ],
      "metadata": {
        "colab": {
          "base_uri": "https://localhost:8080/"
        },
        "id": "F5whqPchloaW",
        "outputId": "7182f01f-c1a2-4138-d566-973913c8997a"
      },
      "execution_count": null,
      "outputs": [
        {
          "output_type": "stream",
          "name": "stdout",
          "text": [
            "Looking in indexes: https://pypi.org/simple, https://us-python.pkg.dev/colab-wheels/public/simple/\n",
            "Requirement already satisfied: geopy in /usr/local/lib/python3.7/dist-packages (1.17.0)\n",
            "Requirement already satisfied: geographiclib<2,>=1.49 in /usr/local/lib/python3.7/dist-packages (from geopy) (1.52)\n"
          ]
        }
      ]
    },
    {
      "cell_type": "code",
      "execution_count": null,
      "metadata": {
        "id": "TmFHjc3K9D8a"
      },
      "outputs": [],
      "source": [
        "import numpy as np\n",
        "import pandas as pd\n",
        "import matplotlib.pyplot as plt\n",
        "import geopy\n",
        "import geopandas as gpd\n",
        "import plotly.express as px\n",
        "import torch\n",
        "import seaborn as sns\n",
        "import re\n",
        "from warnings import filterwarnings\n",
        "filterwarnings('ignore')"
      ]
    },
    {
      "cell_type": "markdown",
      "source": [
        "##First Look into the Data"
      ],
      "metadata": {
        "id": "_K51c2V7l573"
      }
    },
    {
      "cell_type": "code",
      "execution_count": null,
      "metadata": {
        "colab": {
          "base_uri": "https://localhost:8080/"
        },
        "id": "ZBpFO6zY4Mzt",
        "outputId": "c89302f4-cb08-4ce1-87ca-47851be9ffc3"
      },
      "outputs": [
        {
          "output_type": "stream",
          "name": "stdout",
          "text": [
            "Archive:  /content/drive/MyDrive/archive.zip\n",
            "  inflating: zomato.csv              \n"
          ]
        }
      ],
      "source": [
        "!unzip /content/drive/MyDrive/archive.zip"
      ]
    },
    {
      "cell_type": "code",
      "execution_count": null,
      "metadata": {
        "id": "0jzX1e6m9xQx",
        "outputId": "dc56df86-c919-4e2a-a42d-d1c8c785313e",
        "colab": {
          "base_uri": "https://localhost:8080/",
          "height": 652
        }
      },
      "outputs": [
        {
          "output_type": "execute_result",
          "data": {
            "text/plain": [
              "                                                 url  \\\n",
              "0  https://www.zomato.com/bangalore/jalsa-banasha...   \n",
              "1  https://www.zomato.com/bangalore/spice-elephan...   \n",
              "2  https://www.zomato.com/SanchurroBangalore?cont...   \n",
              "3  https://www.zomato.com/bangalore/addhuri-udupi...   \n",
              "4  https://www.zomato.com/bangalore/grand-village...   \n",
              "\n",
              "                                             address                   name  \\\n",
              "0  942, 21st Main Road, 2nd Stage, Banashankari, ...                  Jalsa   \n",
              "1  2nd Floor, 80 Feet Road, Near Big Bazaar, 6th ...         Spice Elephant   \n",
              "2  1112, Next to KIMS Medical College, 17th Cross...        San Churro Cafe   \n",
              "3  1st Floor, Annakuteera, 3rd Stage, Banashankar...  Addhuri Udupi Bhojana   \n",
              "4  10, 3rd Floor, Lakshmi Associates, Gandhi Baza...          Grand Village   \n",
              "\n",
              "  online_order book_table   rate  votes                             phone  \\\n",
              "0          Yes        Yes  4.1/5    775    080 42297555\\r\\n+91 9743772233   \n",
              "1          Yes         No  4.1/5    787                      080 41714161   \n",
              "2          Yes         No  3.8/5    918                    +91 9663487993   \n",
              "3           No         No  3.7/5     88                    +91 9620009302   \n",
              "4           No         No  3.8/5    166  +91 8026612447\\r\\n+91 9901210005   \n",
              "\n",
              "       location            rest_type  \\\n",
              "0  Banashankari        Casual Dining   \n",
              "1  Banashankari        Casual Dining   \n",
              "2  Banashankari  Cafe, Casual Dining   \n",
              "3  Banashankari          Quick Bites   \n",
              "4  Basavanagudi        Casual Dining   \n",
              "\n",
              "                                          dish_liked  \\\n",
              "0  Pasta, Lunch Buffet, Masala Papad, Paneer Laja...   \n",
              "1  Momos, Lunch Buffet, Chocolate Nirvana, Thai G...   \n",
              "2  Churros, Cannelloni, Minestrone Soup, Hot Choc...   \n",
              "3                                        Masala Dosa   \n",
              "4                                Panipuri, Gol Gappe   \n",
              "\n",
              "                         cuisines approx_cost(for two people)  \\\n",
              "0  North Indian, Mughlai, Chinese                         800   \n",
              "1     Chinese, North Indian, Thai                         800   \n",
              "2          Cafe, Mexican, Italian                         800   \n",
              "3      South Indian, North Indian                         300   \n",
              "4        North Indian, Rajasthani                         600   \n",
              "\n",
              "                                        reviews_list menu_item  \\\n",
              "0  [('Rated 4.0', 'RATED\\n  A beautiful place to ...        []   \n",
              "1  [('Rated 4.0', 'RATED\\n  Had been here for din...        []   \n",
              "2  [('Rated 3.0', \"RATED\\n  Ambience is not that ...        []   \n",
              "3  [('Rated 4.0', \"RATED\\n  Great food and proper...        []   \n",
              "4  [('Rated 4.0', 'RATED\\n  Very good restaurant ...        []   \n",
              "\n",
              "  listed_in(type) listed_in(city)  \n",
              "0          Buffet    Banashankari  \n",
              "1          Buffet    Banashankari  \n",
              "2          Buffet    Banashankari  \n",
              "3          Buffet    Banashankari  \n",
              "4          Buffet    Banashankari  "
            ],
            "text/html": [
              "\n",
              "  <div id=\"df-1829ab72-aa40-467c-83cd-0f68d472189d\">\n",
              "    <div class=\"colab-df-container\">\n",
              "      <div>\n",
              "<style scoped>\n",
              "    .dataframe tbody tr th:only-of-type {\n",
              "        vertical-align: middle;\n",
              "    }\n",
              "\n",
              "    .dataframe tbody tr th {\n",
              "        vertical-align: top;\n",
              "    }\n",
              "\n",
              "    .dataframe thead th {\n",
              "        text-align: right;\n",
              "    }\n",
              "</style>\n",
              "<table border=\"1\" class=\"dataframe\">\n",
              "  <thead>\n",
              "    <tr style=\"text-align: right;\">\n",
              "      <th></th>\n",
              "      <th>url</th>\n",
              "      <th>address</th>\n",
              "      <th>name</th>\n",
              "      <th>online_order</th>\n",
              "      <th>book_table</th>\n",
              "      <th>rate</th>\n",
              "      <th>votes</th>\n",
              "      <th>phone</th>\n",
              "      <th>location</th>\n",
              "      <th>rest_type</th>\n",
              "      <th>dish_liked</th>\n",
              "      <th>cuisines</th>\n",
              "      <th>approx_cost(for two people)</th>\n",
              "      <th>reviews_list</th>\n",
              "      <th>menu_item</th>\n",
              "      <th>listed_in(type)</th>\n",
              "      <th>listed_in(city)</th>\n",
              "    </tr>\n",
              "  </thead>\n",
              "  <tbody>\n",
              "    <tr>\n",
              "      <th>0</th>\n",
              "      <td>https://www.zomato.com/bangalore/jalsa-banasha...</td>\n",
              "      <td>942, 21st Main Road, 2nd Stage, Banashankari, ...</td>\n",
              "      <td>Jalsa</td>\n",
              "      <td>Yes</td>\n",
              "      <td>Yes</td>\n",
              "      <td>4.1/5</td>\n",
              "      <td>775</td>\n",
              "      <td>080 42297555\\r\\n+91 9743772233</td>\n",
              "      <td>Banashankari</td>\n",
              "      <td>Casual Dining</td>\n",
              "      <td>Pasta, Lunch Buffet, Masala Papad, Paneer Laja...</td>\n",
              "      <td>North Indian, Mughlai, Chinese</td>\n",
              "      <td>800</td>\n",
              "      <td>[('Rated 4.0', 'RATED\\n  A beautiful place to ...</td>\n",
              "      <td>[]</td>\n",
              "      <td>Buffet</td>\n",
              "      <td>Banashankari</td>\n",
              "    </tr>\n",
              "    <tr>\n",
              "      <th>1</th>\n",
              "      <td>https://www.zomato.com/bangalore/spice-elephan...</td>\n",
              "      <td>2nd Floor, 80 Feet Road, Near Big Bazaar, 6th ...</td>\n",
              "      <td>Spice Elephant</td>\n",
              "      <td>Yes</td>\n",
              "      <td>No</td>\n",
              "      <td>4.1/5</td>\n",
              "      <td>787</td>\n",
              "      <td>080 41714161</td>\n",
              "      <td>Banashankari</td>\n",
              "      <td>Casual Dining</td>\n",
              "      <td>Momos, Lunch Buffet, Chocolate Nirvana, Thai G...</td>\n",
              "      <td>Chinese, North Indian, Thai</td>\n",
              "      <td>800</td>\n",
              "      <td>[('Rated 4.0', 'RATED\\n  Had been here for din...</td>\n",
              "      <td>[]</td>\n",
              "      <td>Buffet</td>\n",
              "      <td>Banashankari</td>\n",
              "    </tr>\n",
              "    <tr>\n",
              "      <th>2</th>\n",
              "      <td>https://www.zomato.com/SanchurroBangalore?cont...</td>\n",
              "      <td>1112, Next to KIMS Medical College, 17th Cross...</td>\n",
              "      <td>San Churro Cafe</td>\n",
              "      <td>Yes</td>\n",
              "      <td>No</td>\n",
              "      <td>3.8/5</td>\n",
              "      <td>918</td>\n",
              "      <td>+91 9663487993</td>\n",
              "      <td>Banashankari</td>\n",
              "      <td>Cafe, Casual Dining</td>\n",
              "      <td>Churros, Cannelloni, Minestrone Soup, Hot Choc...</td>\n",
              "      <td>Cafe, Mexican, Italian</td>\n",
              "      <td>800</td>\n",
              "      <td>[('Rated 3.0', \"RATED\\n  Ambience is not that ...</td>\n",
              "      <td>[]</td>\n",
              "      <td>Buffet</td>\n",
              "      <td>Banashankari</td>\n",
              "    </tr>\n",
              "    <tr>\n",
              "      <th>3</th>\n",
              "      <td>https://www.zomato.com/bangalore/addhuri-udupi...</td>\n",
              "      <td>1st Floor, Annakuteera, 3rd Stage, Banashankar...</td>\n",
              "      <td>Addhuri Udupi Bhojana</td>\n",
              "      <td>No</td>\n",
              "      <td>No</td>\n",
              "      <td>3.7/5</td>\n",
              "      <td>88</td>\n",
              "      <td>+91 9620009302</td>\n",
              "      <td>Banashankari</td>\n",
              "      <td>Quick Bites</td>\n",
              "      <td>Masala Dosa</td>\n",
              "      <td>South Indian, North Indian</td>\n",
              "      <td>300</td>\n",
              "      <td>[('Rated 4.0', \"RATED\\n  Great food and proper...</td>\n",
              "      <td>[]</td>\n",
              "      <td>Buffet</td>\n",
              "      <td>Banashankari</td>\n",
              "    </tr>\n",
              "    <tr>\n",
              "      <th>4</th>\n",
              "      <td>https://www.zomato.com/bangalore/grand-village...</td>\n",
              "      <td>10, 3rd Floor, Lakshmi Associates, Gandhi Baza...</td>\n",
              "      <td>Grand Village</td>\n",
              "      <td>No</td>\n",
              "      <td>No</td>\n",
              "      <td>3.8/5</td>\n",
              "      <td>166</td>\n",
              "      <td>+91 8026612447\\r\\n+91 9901210005</td>\n",
              "      <td>Basavanagudi</td>\n",
              "      <td>Casual Dining</td>\n",
              "      <td>Panipuri, Gol Gappe</td>\n",
              "      <td>North Indian, Rajasthani</td>\n",
              "      <td>600</td>\n",
              "      <td>[('Rated 4.0', 'RATED\\n  Very good restaurant ...</td>\n",
              "      <td>[]</td>\n",
              "      <td>Buffet</td>\n",
              "      <td>Banashankari</td>\n",
              "    </tr>\n",
              "  </tbody>\n",
              "</table>\n",
              "</div>\n",
              "      <button class=\"colab-df-convert\" onclick=\"convertToInteractive('df-1829ab72-aa40-467c-83cd-0f68d472189d')\"\n",
              "              title=\"Convert this dataframe to an interactive table.\"\n",
              "              style=\"display:none;\">\n",
              "        \n",
              "  <svg xmlns=\"http://www.w3.org/2000/svg\" height=\"24px\"viewBox=\"0 0 24 24\"\n",
              "       width=\"24px\">\n",
              "    <path d=\"M0 0h24v24H0V0z\" fill=\"none\"/>\n",
              "    <path d=\"M18.56 5.44l.94 2.06.94-2.06 2.06-.94-2.06-.94-.94-2.06-.94 2.06-2.06.94zm-11 1L8.5 8.5l.94-2.06 2.06-.94-2.06-.94L8.5 2.5l-.94 2.06-2.06.94zm10 10l.94 2.06.94-2.06 2.06-.94-2.06-.94-.94-2.06-.94 2.06-2.06.94z\"/><path d=\"M17.41 7.96l-1.37-1.37c-.4-.4-.92-.59-1.43-.59-.52 0-1.04.2-1.43.59L10.3 9.45l-7.72 7.72c-.78.78-.78 2.05 0 2.83L4 21.41c.39.39.9.59 1.41.59.51 0 1.02-.2 1.41-.59l7.78-7.78 2.81-2.81c.8-.78.8-2.07 0-2.86zM5.41 20L4 18.59l7.72-7.72 1.47 1.35L5.41 20z\"/>\n",
              "  </svg>\n",
              "      </button>\n",
              "      \n",
              "  <style>\n",
              "    .colab-df-container {\n",
              "      display:flex;\n",
              "      flex-wrap:wrap;\n",
              "      gap: 12px;\n",
              "    }\n",
              "\n",
              "    .colab-df-convert {\n",
              "      background-color: #E8F0FE;\n",
              "      border: none;\n",
              "      border-radius: 50%;\n",
              "      cursor: pointer;\n",
              "      display: none;\n",
              "      fill: #1967D2;\n",
              "      height: 32px;\n",
              "      padding: 0 0 0 0;\n",
              "      width: 32px;\n",
              "    }\n",
              "\n",
              "    .colab-df-convert:hover {\n",
              "      background-color: #E2EBFA;\n",
              "      box-shadow: 0px 1px 2px rgba(60, 64, 67, 0.3), 0px 1px 3px 1px rgba(60, 64, 67, 0.15);\n",
              "      fill: #174EA6;\n",
              "    }\n",
              "\n",
              "    [theme=dark] .colab-df-convert {\n",
              "      background-color: #3B4455;\n",
              "      fill: #D2E3FC;\n",
              "    }\n",
              "\n",
              "    [theme=dark] .colab-df-convert:hover {\n",
              "      background-color: #434B5C;\n",
              "      box-shadow: 0px 1px 3px 1px rgba(0, 0, 0, 0.15);\n",
              "      filter: drop-shadow(0px 1px 2px rgba(0, 0, 0, 0.3));\n",
              "      fill: #FFFFFF;\n",
              "    }\n",
              "  </style>\n",
              "\n",
              "      <script>\n",
              "        const buttonEl =\n",
              "          document.querySelector('#df-1829ab72-aa40-467c-83cd-0f68d472189d button.colab-df-convert');\n",
              "        buttonEl.style.display =\n",
              "          google.colab.kernel.accessAllowed ? 'block' : 'none';\n",
              "\n",
              "        async function convertToInteractive(key) {\n",
              "          const element = document.querySelector('#df-1829ab72-aa40-467c-83cd-0f68d472189d');\n",
              "          const dataTable =\n",
              "            await google.colab.kernel.invokeFunction('convertToInteractive',\n",
              "                                                     [key], {});\n",
              "          if (!dataTable) return;\n",
              "\n",
              "          const docLinkHtml = 'Like what you see? Visit the ' +\n",
              "            '<a target=\"_blank\" href=https://colab.research.google.com/notebooks/data_table.ipynb>data table notebook</a>'\n",
              "            + ' to learn more about interactive tables.';\n",
              "          element.innerHTML = '';\n",
              "          dataTable['output_type'] = 'display_data';\n",
              "          await google.colab.output.renderOutput(dataTable, element);\n",
              "          const docLink = document.createElement('div');\n",
              "          docLink.innerHTML = docLinkHtml;\n",
              "          element.appendChild(docLink);\n",
              "        }\n",
              "      </script>\n",
              "    </div>\n",
              "  </div>\n",
              "  "
            ]
          },
          "metadata": {},
          "execution_count": 5
        }
      ],
      "source": [
        "df=pd.read_csv('/content/zomato.csv')\n",
        "df.head()"
      ]
    },
    {
      "cell_type": "code",
      "execution_count": null,
      "metadata": {
        "id": "AZw5TqEv5VY0",
        "colab": {
          "base_uri": "https://localhost:8080/"
        },
        "outputId": "15e03aca-cbca-447e-f7b7-295d4980d717"
      },
      "outputs": [
        {
          "output_type": "execute_result",
          "data": {
            "text/plain": [
              "url                            https://www.zomato.com/bangalore/jalsa-banasha...\n",
              "address                        942, 21st Main Road, 2nd Stage, Banashankari, ...\n",
              "name                                                                       Jalsa\n",
              "online_order                                                                 Yes\n",
              "book_table                                                                   Yes\n",
              "rate                                                                       4.1/5\n",
              "votes                                                                        775\n",
              "phone                                             080 42297555\\r\\n+91 9743772233\n",
              "location                                                            Banashankari\n",
              "rest_type                                                          Casual Dining\n",
              "dish_liked                     Pasta, Lunch Buffet, Masala Papad, Paneer Laja...\n",
              "cuisines                                          North Indian, Mughlai, Chinese\n",
              "approx_cost(for two people)                                                  800\n",
              "reviews_list                   [('Rated 4.0', 'RATED\\n  A beautiful place to ...\n",
              "menu_item                                                                     []\n",
              "listed_in(type)                                                           Buffet\n",
              "listed_in(city)                                                     Banashankari\n",
              "Name: 0, dtype: object"
            ]
          },
          "metadata": {},
          "execution_count": 6
        }
      ],
      "source": [
        "df.iloc[0]"
      ]
    },
    {
      "cell_type": "code",
      "execution_count": null,
      "metadata": {
        "colab": {
          "base_uri": "https://localhost:8080/"
        },
        "id": "RrRo7rMN-jIm",
        "outputId": "61ad13ea-2647-42bb-d980-72ed531e042a"
      },
      "outputs": [
        {
          "output_type": "execute_result",
          "data": {
            "text/plain": [
              "(51717, 17)"
            ]
          },
          "metadata": {},
          "execution_count": 7
        }
      ],
      "source": [
        "df.shape"
      ]
    },
    {
      "cell_type": "code",
      "execution_count": null,
      "metadata": {
        "colab": {
          "base_uri": "https://localhost:8080/"
        },
        "id": "uO9sIdVO-qZ2",
        "outputId": "5b81eacc-ea7c-4dde-d76e-822ab45d99ca"
      },
      "outputs": [
        {
          "output_type": "execute_result",
          "data": {
            "text/plain": [
              "url                            object\n",
              "address                        object\n",
              "name                           object\n",
              "online_order                   object\n",
              "book_table                     object\n",
              "rate                           object\n",
              "votes                           int64\n",
              "phone                          object\n",
              "location                       object\n",
              "rest_type                      object\n",
              "dish_liked                     object\n",
              "cuisines                       object\n",
              "approx_cost(for two people)    object\n",
              "reviews_list                   object\n",
              "menu_item                      object\n",
              "listed_in(type)                object\n",
              "listed_in(city)                object\n",
              "dtype: object"
            ]
          },
          "metadata": {},
          "execution_count": 8
        }
      ],
      "source": [
        "df.dtypes"
      ]
    },
    {
      "cell_type": "code",
      "source": [
        "#Removing string sequence ',' from approx_cost(for two people) column Eg: 1,000->1000\n",
        "df['approx_cost(for two people)']=df['approx_cost(for two people)'].str.replace(',','')"
      ],
      "metadata": {
        "id": "MiTNaAZejCPD"
      },
      "execution_count": null,
      "outputs": []
    },
    {
      "cell_type": "markdown",
      "metadata": {
        "id": "PbdOfVSDf5AD"
      },
      "source": [
        "##Null Value Analysis"
      ]
    },
    {
      "cell_type": "code",
      "execution_count": null,
      "metadata": {
        "colab": {
          "base_uri": "https://localhost:8080/"
        },
        "id": "Qckve-loBCKU",
        "outputId": "0f8171a8-56e9-48ba-cc23-79c198a1b061"
      },
      "outputs": [
        {
          "output_type": "stream",
          "name": "stdout",
          "text": [
            "<class 'pandas.core.frame.DataFrame'>\n",
            "RangeIndex: 51717 entries, 0 to 51716\n",
            "Data columns (total 17 columns):\n",
            " #   Column                       Non-Null Count  Dtype \n",
            "---  ------                       --------------  ----- \n",
            " 0   url                          51717 non-null  object\n",
            " 1   address                      51717 non-null  object\n",
            " 2   name                         51717 non-null  object\n",
            " 3   online_order                 51717 non-null  object\n",
            " 4   book_table                   51717 non-null  object\n",
            " 5   rate                         43942 non-null  object\n",
            " 6   votes                        51717 non-null  int64 \n",
            " 7   phone                        50509 non-null  object\n",
            " 8   location                     51696 non-null  object\n",
            " 9   rest_type                    51490 non-null  object\n",
            " 10  dish_liked                   23639 non-null  object\n",
            " 11  cuisines                     51672 non-null  object\n",
            " 12  approx_cost(for two people)  51371 non-null  object\n",
            " 13  reviews_list                 51717 non-null  object\n",
            " 14  menu_item                    51717 non-null  object\n",
            " 15  listed_in(type)              51717 non-null  object\n",
            " 16  listed_in(city)              51717 non-null  object\n",
            "dtypes: int64(1), object(16)\n",
            "memory usage: 6.7+ MB\n"
          ]
        }
      ],
      "source": [
        "df.info()"
      ]
    },
    {
      "cell_type": "code",
      "execution_count": null,
      "metadata": {
        "colab": {
          "base_uri": "https://localhost:8080/"
        },
        "id": "YHqLz9gh-ujx",
        "outputId": "3ed70c20-4cd1-4272-9020-58232369d9dc"
      },
      "outputs": [
        {
          "output_type": "execute_result",
          "data": {
            "text/plain": [
              "(8792,)"
            ]
          },
          "metadata": {},
          "execution_count": 11
        }
      ],
      "source": [
        "#Total number of Restaurants\n",
        "df['name'].unique().shape"
      ]
    },
    {
      "cell_type": "code",
      "execution_count": null,
      "metadata": {
        "colab": {
          "base_uri": "https://localhost:8080/"
        },
        "id": "4ddN8u3QChyK",
        "outputId": "59a985b8-b0f8-4ff6-ad10-98821803d9b0"
      },
      "outputs": [
        {
          "output_type": "execute_result",
          "data": {
            "text/plain": [
              "7775"
            ]
          },
          "metadata": {},
          "execution_count": 12
        }
      ],
      "source": [
        "df[df.columns[5]].isnull().sum()"
      ]
    },
    {
      "cell_type": "code",
      "execution_count": null,
      "metadata": {
        "colab": {
          "base_uri": "https://localhost:8080/"
        },
        "id": "8beOnSUj_j7a",
        "outputId": "fef787a0-5f10-44ce-f3d0-4dfc61e50b39"
      },
      "outputs": [
        {
          "output_type": "execute_result",
          "data": {
            "text/plain": [
              "url                                0\n",
              "address                            0\n",
              "name                               0\n",
              "online_order                       0\n",
              "book_table                         0\n",
              "rate                            7775\n",
              "votes                              0\n",
              "phone                           1208\n",
              "location                          21\n",
              "rest_type                        227\n",
              "dish_liked                     28078\n",
              "cuisines                          45\n",
              "approx_cost(for two people)      346\n",
              "reviews_list                       0\n",
              "menu_item                          0\n",
              "listed_in(type)                    0\n",
              "listed_in(city)                    0\n",
              "dtype: int64"
            ]
          },
          "metadata": {},
          "execution_count": 13
        }
      ],
      "source": [
        "#Finding Null total number of values\n",
        "df.isna().sum()"
      ]
    },
    {
      "cell_type": "code",
      "execution_count": null,
      "metadata": {
        "colab": {
          "base_uri": "https://localhost:8080/"
        },
        "id": "FmqZfs_WAt-0",
        "outputId": "9d3f709b-0c9d-43eb-8f0d-5d5cb95cbca0"
      },
      "outputs": [
        {
          "output_type": "execute_result",
          "data": {
            "text/plain": [
              "['rate',\n",
              " 'phone',\n",
              " 'location',\n",
              " 'rest_type',\n",
              " 'dish_liked',\n",
              " 'cuisines',\n",
              " 'approx_cost(for two people)']"
            ]
          },
          "metadata": {},
          "execution_count": 14
        }
      ],
      "source": [
        "#Features with containing atleast 1 null value\n",
        "feature_na=[feature for feature in df.columns if df[feature].isnull().sum()>0]\n",
        "feature_na"
      ]
    },
    {
      "cell_type": "code",
      "execution_count": null,
      "metadata": {
        "colab": {
          "base_uri": "https://localhost:8080/"
        },
        "id": "XfuYxKJsCwV2",
        "outputId": "903d279a-8790-4d34-ae35-e6024405b113"
      },
      "outputs": [
        {
          "output_type": "stream",
          "name": "stdout",
          "text": [
            "Missing Value Percentage: \n",
            "rate  :  15.0337\n",
            "phone  :  2.3358\n",
            "location  :  0.0406\n",
            "rest_type  :  0.4389\n",
            "dish_liked  :  54.2916\n",
            "cuisines  :  0.087\n",
            "approx_cost(for two people)  :  0.669\n"
          ]
        }
      ],
      "source": [
        "#Missing Value Percentage on each attribute\n",
        "print(\"Missing Value Percentage: \")\n",
        "for feature in feature_na:\n",
        "  print(feature,\" : \",np.round(df[feature].isnull().sum()/len(df)*100,4))"
      ]
    },
    {
      "cell_type": "markdown",
      "metadata": {
        "id": "0DKcIZSUgQzW"
      },
      "source": [
        "##Drop rows with null value in **rate** and **approx_cost(for two people)**"
      ]
    },
    {
      "cell_type": "code",
      "execution_count": null,
      "metadata": {
        "colab": {
          "base_uri": "https://localhost:8080/"
        },
        "id": "I_n9lBU5HM0q",
        "outputId": "fb7e545e-9c74-482d-eb75-1399779c527f"
      },
      "outputs": [
        {
          "output_type": "execute_result",
          "data": {
            "text/plain": [
              "43690"
            ]
          },
          "metadata": {},
          "execution_count": 16
        }
      ],
      "source": [
        "#Removing records with null value in the 'rate' and 'approx_cost(for two people)' columns\n",
        "df.dropna(axis=0,subset=['rate'],inplace=True)\n",
        "df.dropna(axis=0,subset=['approx_cost(for two people)'],inplace=True)\n",
        "len(df)"
      ]
    },
    {
      "cell_type": "markdown",
      "metadata": {
        "id": "KJK8R6rXdx3_"
      },
      "source": [
        "##Converting **rate** from string to integer"
      ]
    },
    {
      "cell_type": "code",
      "execution_count": null,
      "metadata": {
        "id": "GVHBygpyKWZd"
      },
      "outputs": [],
      "source": [
        "def split_(x):\n",
        "  return x.split('/')[0]"
      ]
    },
    {
      "cell_type": "code",
      "execution_count": null,
      "metadata": {
        "colab": {
          "base_uri": "https://localhost:8080/"
        },
        "id": "eoBk26TyTHR5",
        "outputId": "724c8aab-ecac-4156-d166-1790a61dbdc7"
      },
      "outputs": [
        {
          "output_type": "execute_result",
          "data": {
            "text/plain": [
              "43690"
            ]
          },
          "metadata": {},
          "execution_count": 18
        }
      ],
      "source": [
        "#Removing '/' from the 'rate' column value\n",
        "df['rate']=df['rate'].apply(split_)\n",
        "len(df)"
      ]
    },
    {
      "cell_type": "code",
      "execution_count": null,
      "metadata": {
        "colab": {
          "base_uri": "https://localhost:8080/"
        },
        "id": "__q9MnCPQAj3",
        "outputId": "41207c5d-e903-4453-f528-d744009f3c61"
      },
      "outputs": [
        {
          "output_type": "execute_result",
          "data": {
            "text/plain": [
              "array(['4.1', '3.8', '3.7', '3.6', '4.6', '4.0', '4.2', '3.9', '3.1',\n",
              "       '3.0', '3.2', '3.3', '2.8', '4.4', '4.3', 'NEW', '2.9', '3.5',\n",
              "       '2.6', '3.8 ', '3.4', '4.5', '2.5', '2.7', '4.7', '2.4', '2.2',\n",
              "       '2.3', '3.4 ', '-', '3.6 ', '4.8', '3.9 ', '4.2 ', '4.0 ', '4.1 ',\n",
              "       '3.7 ', '3.1 ', '2.9 ', '3.3 ', '2.8 ', '3.5 ', '2.7 ', '2.5 ',\n",
              "       '3.2 ', '2.6 ', '4.5 ', '4.3 ', '4.4 ', '4.9', '2.1', '2.0', '1.8',\n",
              "       '4.6 ', '4.9 ', '3.0 ', '4.8 ', '2.3 ', '4.7 ', '2.4 ', '2.1 ',\n",
              "       '2.2 ', '2.0 ', '1.8 '], dtype=object)"
            ]
          },
          "metadata": {},
          "execution_count": 19
        }
      ],
      "source": [
        "df['rate'].unique()"
      ]
    },
    {
      "cell_type": "code",
      "execution_count": null,
      "metadata": {
        "colab": {
          "base_uri": "https://localhost:8080/"
        },
        "id": "nfLs2O4nXYl_",
        "outputId": "6c0beba5-afaa-4b6a-b1a0-187f67206cca"
      },
      "outputs": [
        {
          "output_type": "execute_result",
          "data": {
            "text/plain": [
              "Int64Index([   72,    75,   110,   130,   131,   132,   143,   144,   154,\n",
              "              276,\n",
              "            ...\n",
              "            51386, 51393, 51500, 51575, 51576, 51585, 51586, 51603, 51604,\n",
              "            51605],\n",
              "           dtype='int64', length=2272)"
            ]
          },
          "metadata": {},
          "execution_count": 20
        }
      ],
      "source": [
        "df1=df.loc[df['rate'].isin(['NEW','-'])]\n",
        "df1.index"
      ]
    },
    {
      "cell_type": "code",
      "execution_count": null,
      "metadata": {
        "id": "scAM0kRKWtuf"
      },
      "outputs": [],
      "source": [
        "df.drop(axis=0,index=df.loc[df['rate'].isin(['NEW','-'])].index,inplace=True)"
      ]
    },
    {
      "cell_type": "code",
      "execution_count": null,
      "metadata": {
        "id": "xIHZ27nWcm6F"
      },
      "outputs": [],
      "source": [
        "#Converting Rate column value from string to float type\n",
        "df['rate']=df['rate'].astype('float')"
      ]
    },
    {
      "cell_type": "code",
      "source": [
        "#Converting approx_cost column value from string to float type\n",
        "df['approx_cost(for two people)']=df['approx_cost(for two people)'].astype('float')"
      ],
      "metadata": {
        "id": "8QSl2NNoEfmp"
      },
      "execution_count": null,
      "outputs": []
    },
    {
      "cell_type": "markdown",
      "metadata": {
        "id": "ZYedc43-i69b"
      },
      "source": [
        "##Chain and Solo Restaurants"
      ]
    },
    {
      "cell_type": "code",
      "source": [
        "#There are many records which have similar value on every column except 'listed_in(city)', we treat them as duplicate and remove them\n",
        "df=df.drop_duplicates(\n",
        "  subset = ['name', 'address'],\n",
        "  keep = 'last').reset_index(drop = True)"
      ],
      "metadata": {
        "id": "twLvW5xUs8Vn"
      },
      "execution_count": null,
      "outputs": []
    },
    {
      "cell_type": "code",
      "execution_count": null,
      "metadata": {
        "colab": {
          "base_uri": "https://localhost:8080/"
        },
        "id": "HCXFZPXzi-e4",
        "outputId": "63eb795e-8814-4d81-8ba8-05d5347f120d"
      },
      "outputs": [
        {
          "output_type": "execute_result",
          "data": {
            "text/plain": [
              "name\n",
              "1522 - The Pub                      3\n",
              "1947                                4\n",
              "3B's - Buddies, Bar & Barbecues     2\n",
              "7 Plates                            4\n",
              "99 Pancakes                         2\n",
              "                                   ..\n",
              "Zee5 Loft                           2\n",
              "Zeeshan                             5\n",
              "Zu's Doner Kebaps                   2\n",
              "eat.fit                            10\n",
              "nu.tree                             3\n",
              "Name: rate, Length: 976, dtype: int64"
            ]
          },
          "metadata": {},
          "execution_count": 25
        }
      ],
      "source": [
        "#Finding Restaurants groups with atleast 2 outlets\n",
        "restaurants=df.groupby('name')['rate'].count()\n",
        "chain_res=restaurants.loc[restaurants>1]\n",
        "chain_res"
      ]
    },
    {
      "cell_type": "code",
      "execution_count": null,
      "metadata": {
        "colab": {
          "base_uri": "https://localhost:8080/"
        },
        "id": "9bBA4NCsp_Pe",
        "outputId": "fc7d46e1-ea90-4080-8556-8466eafc5479"
      },
      "outputs": [
        {
          "output_type": "execute_result",
          "data": {
            "text/plain": [
              "name\n",
              "#FeelTheROLL                                    1\n",
              "#L-81 Cafe                                      1\n",
              "#refuel                                         1\n",
              "1000 B.C                                        1\n",
              "100ÃÂÃÂÃÂÃÂÃÂÃÂÃÂÃÂ°C            1\n",
              "                                               ..\n",
              "de Ranthal                                      1\n",
              "i-Bar - The Park Bangalore                      1\n",
              "iFruit Live Ice Creams                          1\n",
              "iSpice Resto Cafe                               1\n",
              "re:cess - Hilton Bangalore Embassy GolfLinks    1\n",
              "Name: rate, Length: 5651, dtype: int64"
            ]
          },
          "metadata": {},
          "execution_count": 26
        }
      ],
      "source": [
        "#Finding Restaurants groups with just 1 outlet\n",
        "restaurants=df.groupby('name')['rate'].count()\n",
        "solo_res=restaurants.loc[restaurants==1]\n",
        "solo_res"
      ]
    },
    {
      "cell_type": "code",
      "execution_count": null,
      "metadata": {
        "colab": {
          "base_uri": "https://localhost:8080/"
        },
        "id": "kqaYG4a-oHjK",
        "outputId": "015d5bbc-77d4-41fb-8257-7d13f7bed5cc"
      },
      "outputs": [
        {
          "output_type": "execute_result",
          "data": {
            "text/plain": [
              "(name\n",
              " 1522 - The Pub                     4.233333\n",
              " 1947                               4.000000\n",
              " 3B's - Buddies, Bar & Barbecues    4.450000\n",
              " 7 Plates                           3.750000\n",
              " 99 Pancakes                        4.300000\n",
              "                                      ...   \n",
              " Zee5 Loft                          4.400000\n",
              " Zeeshan                            3.180000\n",
              " Zu's Doner Kebaps                  3.650000\n",
              " eat.fit                            4.280000\n",
              " nu.tree                            4.266667\n",
              " Name: rate, Length: 976, dtype: float64, name\n",
              " #FeelTheROLL                                    3.4\n",
              " #L-81 Cafe                                      3.9\n",
              " #refuel                                         3.7\n",
              " 1000 B.C                                        3.2\n",
              " 100ÃÂÃÂÃÂÃÂÃÂÃÂÃÂÃÂ°C            3.7\n",
              "                                                ... \n",
              " de Ranthal                                      3.8\n",
              " i-Bar - The Park Bangalore                      3.8\n",
              " iFruit Live Ice Creams                          3.4\n",
              " iSpice Resto Cafe                               3.7\n",
              " re:cess - Hilton Bangalore Embassy GolfLinks    4.1\n",
              " Name: rate, Length: 5651, dtype: float64)"
            ]
          },
          "metadata": {},
          "execution_count": 27
        }
      ],
      "source": [
        "#Creating data frames with chain and solo restaurants\n",
        "df_chain=df[df['name'].isin(chain_res.index)].groupby('name')\n",
        "df_solo=df[df['name'].isin(solo_res.index)].groupby('name')\n",
        "df_chain['rate'].mean(),df_solo['rate'].mean()"
      ]
    },
    {
      "cell_type": "code",
      "execution_count": null,
      "metadata": {
        "colab": {
          "base_uri": "https://localhost:8080/"
        },
        "id": "bJS56v5tiL-G",
        "outputId": "85771637-b5c9-46ba-a74a-34b86809dba6"
      },
      "outputs": [
        {
          "output_type": "execute_result",
          "data": {
            "text/plain": [
              "Text(0.5, 1.0, 'Highest Rated Solo Restaurant')"
            ]
          },
          "metadata": {},
          "execution_count": 28
        },
        {
          "output_type": "display_data",
          "data": {
            "text/plain": [
              "<Figure size 432x288 with 1 Axes>"
            ],
            "image/png": "[encoded data removed]"
          },
          "metadata": {
            "needs_background": "light"
          }
        }
      ],
      "source": [
        "#Plotting Highest Rated Solo Restaurant\n",
        "df_solo['rate'].mean().nlargest(15).plot.bar()\n",
        "plt.title('Highest Rated Solo Restaurant')"
      ]
    },
    {
      "cell_type": "code",
      "source": [
        "#Plotting Highest Rated Chain Restaurant\n",
        "df_chain['rate'].mean().nlargest(15).plot.bar()\n",
        "plt.title('Highest Rated Chain Restaurant')\n",
        "plt.ylabel('Rate')"
      ],
      "metadata": {
        "colab": {
          "base_uri": "https://localhost:8080/"
        },
        "id": "Lav3YviUwJuf",
        "outputId": "b42537b1-ea43-4309-d63e-d874c755f99f"
      },
      "execution_count": null,
      "outputs": [
        {
          "output_type": "execute_result",
          "data": {
            "text/plain": [
              "Text(0, 0.5, 'Rate')"
            ]
          },
          "metadata": {},
          "execution_count": 29
        },
        {
          "output_type": "display_data",
          "data": {
            "text/plain": [
              "<Figure size 432x288 with 1 Axes>"
            ],
            "image/png": "[encoded data removed]"
          },
          "metadata": {
            "needs_background": "light"
          }
        }
      ]
    },
    {
      "cell_type": "code",
      "execution_count": null,
      "metadata": {
        "colab": {
          "base_uri": "https://localhost:8080/"
        },
        "id": "iRQXo1mGitjv",
        "outputId": "da97c7d1-72cd-4e45-9759-ea06cd5746e5"
      },
      "outputs": [
        {
          "output_type": "execute_result",
          "data": {
            "text/plain": [
              "                                        restaurant  rating\n",
              "0                                     #FeelTheROLL     3.4\n",
              "1                                       #L-81 Cafe     3.9\n",
              "2                                          #refuel     3.7\n",
              "3                                         1000 B.C     3.2\n",
              "4             100ÃÂÃÂÃÂÃÂÃÂÃÂÃÂÃÂ°C     3.7\n",
              "...                                            ...     ...\n",
              "5646                                    de Ranthal     3.8\n",
              "5647                    i-Bar - The Park Bangalore     3.8\n",
              "5648                        iFruit Live Ice Creams     3.4\n",
              "5649                             iSpice Resto Cafe     3.7\n",
              "5650  re:cess - Hilton Bangalore Embassy GolfLinks     4.1\n",
              "\n",
              "[5651 rows x 2 columns]"
            ],
            "text/html": [
              "\n",
              "  <div id=\"df-657ca322-491c-4ec2-b326-b4a6a75b684e\">\n",
              "    <div class=\"colab-df-container\">\n",
              "      <div>\n",
              "<style scoped>\n",
              "    .dataframe tbody tr th:only-of-type {\n",
              "        vertical-align: middle;\n",
              "    }\n",
              "\n",
              "    .dataframe tbody tr th {\n",
              "        vertical-align: top;\n",
              "    }\n",
              "\n",
              "    .dataframe thead th {\n",
              "        text-align: right;\n",
              "    }\n",
              "</style>\n",
              "<table border=\"1\" class=\"dataframe\">\n",
              "  <thead>\n",
              "    <tr style=\"text-align: right;\">\n",
              "      <th></th>\n",
              "      <th>restaurant</th>\n",
              "      <th>rating</th>\n",
              "    </tr>\n",
              "  </thead>\n",
              "  <tbody>\n",
              "    <tr>\n",
              "      <th>0</th>\n",
              "      <td>#FeelTheROLL</td>\n",
              "      <td>3.4</td>\n",
              "    </tr>\n",
              "    <tr>\n",
              "      <th>1</th>\n",
              "      <td>#L-81 Cafe</td>\n",
              "      <td>3.9</td>\n",
              "    </tr>\n",
              "    <tr>\n",
              "      <th>2</th>\n",
              "      <td>#refuel</td>\n",
              "      <td>3.7</td>\n",
              "    </tr>\n",
              "    <tr>\n",
              "      <th>3</th>\n",
              "      <td>1000 B.C</td>\n",
              "      <td>3.2</td>\n",
              "    </tr>\n",
              "    <tr>\n",
              "      <th>4</th>\n",
              "      <td>100ÃÂÃÂÃÂÃÂÃÂÃÂÃÂÃÂ°C</td>\n",
              "      <td>3.7</td>\n",
              "    </tr>\n",
              "    <tr>\n",
              "      <th>...</th>\n",
              "      <td>...</td>\n",
              "      <td>...</td>\n",
              "    </tr>\n",
              "    <tr>\n",
              "      <th>5646</th>\n",
              "      <td>de Ranthal</td>\n",
              "      <td>3.8</td>\n",
              "    </tr>\n",
              "    <tr>\n",
              "      <th>5647</th>\n",
              "      <td>i-Bar - The Park Bangalore</td>\n",
              "      <td>3.8</td>\n",
              "    </tr>\n",
              "    <tr>\n",
              "      <th>5648</th>\n",
              "      <td>iFruit Live Ice Creams</td>\n",
              "      <td>3.4</td>\n",
              "    </tr>\n",
              "    <tr>\n",
              "      <th>5649</th>\n",
              "      <td>iSpice Resto Cafe</td>\n",
              "      <td>3.7</td>\n",
              "    </tr>\n",
              "    <tr>\n",
              "      <th>5650</th>\n",
              "      <td>re:cess - Hilton Bangalore Embassy GolfLinks</td>\n",
              "      <td>4.1</td>\n",
              "    </tr>\n",
              "  </tbody>\n",
              "</table>\n",
              "<p>5651 rows × 2 columns</p>\n",
              "</div>\n",
              "      <button class=\"colab-df-convert\" onclick=\"convertToInteractive('df-657ca322-491c-4ec2-b326-b4a6a75b684e')\"\n",
              "              title=\"Convert this dataframe to an interactive table.\"\n",
              "              style=\"display:none;\">\n",
              "        \n",
              "  <svg xmlns=\"http://www.w3.org/2000/svg\" height=\"24px\"viewBox=\"0 0 24 24\"\n",
              "       width=\"24px\">\n",
              "    <path d=\"M0 0h24v24H0V0z\" fill=\"none\"/>\n",
              "    <path d=\"M18.56 5.44l.94 2.06.94-2.06 2.06-.94-2.06-.94-.94-2.06-.94 2.06-2.06.94zm-11 1L8.5 8.5l.94-2.06 2.06-.94-2.06-.94L8.5 2.5l-.94 2.06-2.06.94zm10 10l.94 2.06.94-2.06 2.06-.94-2.06-.94-.94-2.06-.94 2.06-2.06.94z\"/><path d=\"M17.41 7.96l-1.37-1.37c-.4-.4-.92-.59-1.43-.59-.52 0-1.04.2-1.43.59L10.3 9.45l-7.72 7.72c-.78.78-.78 2.05 0 2.83L4 21.41c.39.39.9.59 1.41.59.51 0 1.02-.2 1.41-.59l7.78-7.78 2.81-2.81c.8-.78.8-2.07 0-2.86zM5.41 20L4 18.59l7.72-7.72 1.47 1.35L5.41 20z\"/>\n",
              "  </svg>\n",
              "      </button>\n",
              "      \n",
              "  <style>\n",
              "    .colab-df-container {\n",
              "      display:flex;\n",
              "      flex-wrap:wrap;\n",
              "      gap: 12px;\n",
              "    }\n",
              "\n",
              "    .colab-df-convert {\n",
              "      background-color: #E8F0FE;\n",
              "      border: none;\n",
              "      border-radius: 50%;\n",
              "      cursor: pointer;\n",
              "      display: none;\n",
              "      fill: #1967D2;\n",
              "      height: 32px;\n",
              "      padding: 0 0 0 0;\n",
              "      width: 32px;\n",
              "    }\n",
              "\n",
              "    .colab-df-convert:hover {\n",
              "      background-color: #E2EBFA;\n",
              "      box-shadow: 0px 1px 2px rgba(60, 64, 67, 0.3), 0px 1px 3px 1px rgba(60, 64, 67, 0.15);\n",
              "      fill: #174EA6;\n",
              "    }\n",
              "\n",
              "    [theme=dark] .colab-df-convert {\n",
              "      background-color: #3B4455;\n",
              "      fill: #D2E3FC;\n",
              "    }\n",
              "\n",
              "    [theme=dark] .colab-df-convert:hover {\n",
              "      background-color: #434B5C;\n",
              "      box-shadow: 0px 1px 3px 1px rgba(0, 0, 0, 0.15);\n",
              "      filter: drop-shadow(0px 1px 2px rgba(0, 0, 0, 0.3));\n",
              "      fill: #FFFFFF;\n",
              "    }\n",
              "  </style>\n",
              "\n",
              "      <script>\n",
              "        const buttonEl =\n",
              "          document.querySelector('#df-657ca322-491c-4ec2-b326-b4a6a75b684e button.colab-df-convert');\n",
              "        buttonEl.style.display =\n",
              "          google.colab.kernel.accessAllowed ? 'block' : 'none';\n",
              "\n",
              "        async function convertToInteractive(key) {\n",
              "          const element = document.querySelector('#df-657ca322-491c-4ec2-b326-b4a6a75b684e');\n",
              "          const dataTable =\n",
              "            await google.colab.kernel.invokeFunction('convertToInteractive',\n",
              "                                                     [key], {});\n",
              "          if (!dataTable) return;\n",
              "\n",
              "          const docLinkHtml = 'Like what you see? Visit the ' +\n",
              "            '<a target=\"_blank\" href=https://colab.research.google.com/notebooks/data_table.ipynb>data table notebook</a>'\n",
              "            + ' to learn more about interactive tables.';\n",
              "          element.innerHTML = '';\n",
              "          dataTable['output_type'] = 'display_data';\n",
              "          await google.colab.output.renderOutput(dataTable, element);\n",
              "          const docLink = document.createElement('div');\n",
              "          docLink.innerHTML = docLinkHtml;\n",
              "          element.appendChild(docLink);\n",
              "        }\n",
              "      </script>\n",
              "    </div>\n",
              "  </div>\n",
              "  "
            ]
          },
          "metadata": {},
          "execution_count": 30
        }
      ],
      "source": [
        "#Converting 'SeriesGroupBy' object df_solo to data frame object\n",
        "df_solo_rate=df_solo['rate'].mean().to_frame()\n",
        "df_solo_rate=df_solo_rate.reset_index()\n",
        "df_solo_rate.columns=['restaurant','rating']\n",
        "df_solo_rate"
      ]
    },
    {
      "cell_type": "code",
      "execution_count": null,
      "metadata": {
        "colab": {
          "base_uri": "https://localhost:8080/"
        },
        "id": "be3OycQSmw9B",
        "outputId": "640cf703-439c-4829-f186-1bc4c4d68ed7"
      },
      "outputs": [
        {
          "output_type": "execute_result",
          "data": {
            "text/plain": [
              "                          restaurant    rating\n",
              "0                     1522 - The Pub  4.233333\n",
              "1                               1947  4.000000\n",
              "2    3B's - Buddies, Bar & Barbecues  4.450000\n",
              "3                           7 Plates  3.750000\n",
              "4                        99 Pancakes  4.300000\n",
              "..                               ...       ...\n",
              "971                        Zee5 Loft  4.400000\n",
              "972                          Zeeshan  3.180000\n",
              "973                Zu's Doner Kebaps  3.650000\n",
              "974                          eat.fit  4.280000\n",
              "975                          nu.tree  4.266667\n",
              "\n",
              "[976 rows x 2 columns]"
            ],
            "text/html": [
              "\n",
              "  <div id=\"df-a404e116-01fe-4481-8327-19a955208acb\">\n",
              "    <div class=\"colab-df-container\">\n",
              "      <div>\n",
              "<style scoped>\n",
              "    .dataframe tbody tr th:only-of-type {\n",
              "        vertical-align: middle;\n",
              "    }\n",
              "\n",
              "    .dataframe tbody tr th {\n",
              "        vertical-align: top;\n",
              "    }\n",
              "\n",
              "    .dataframe thead th {\n",
              "        text-align: right;\n",
              "    }\n",
              "</style>\n",
              "<table border=\"1\" class=\"dataframe\">\n",
              "  <thead>\n",
              "    <tr style=\"text-align: right;\">\n",
              "      <th></th>\n",
              "      <th>restaurant</th>\n",
              "      <th>rating</th>\n",
              "    </tr>\n",
              "  </thead>\n",
              "  <tbody>\n",
              "    <tr>\n",
              "      <th>0</th>\n",
              "      <td>1522 - The Pub</td>\n",
              "      <td>4.233333</td>\n",
              "    </tr>\n",
              "    <tr>\n",
              "      <th>1</th>\n",
              "      <td>1947</td>\n",
              "      <td>4.000000</td>\n",
              "    </tr>\n",
              "    <tr>\n",
              "      <th>2</th>\n",
              "      <td>3B's - Buddies, Bar &amp; Barbecues</td>\n",
              "      <td>4.450000</td>\n",
              "    </tr>\n",
              "    <tr>\n",
              "      <th>3</th>\n",
              "      <td>7 Plates</td>\n",
              "      <td>3.750000</td>\n",
              "    </tr>\n",
              "    <tr>\n",
              "      <th>4</th>\n",
              "      <td>99 Pancakes</td>\n",
              "      <td>4.300000</td>\n",
              "    </tr>\n",
              "    <tr>\n",
              "      <th>...</th>\n",
              "      <td>...</td>\n",
              "      <td>...</td>\n",
              "    </tr>\n",
              "    <tr>\n",
              "      <th>971</th>\n",
              "      <td>Zee5 Loft</td>\n",
              "      <td>4.400000</td>\n",
              "    </tr>\n",
              "    <tr>\n",
              "      <th>972</th>\n",
              "      <td>Zeeshan</td>\n",
              "      <td>3.180000</td>\n",
              "    </tr>\n",
              "    <tr>\n",
              "      <th>973</th>\n",
              "      <td>Zu's Doner Kebaps</td>\n",
              "      <td>3.650000</td>\n",
              "    </tr>\n",
              "    <tr>\n",
              "      <th>974</th>\n",
              "      <td>eat.fit</td>\n",
              "      <td>4.280000</td>\n",
              "    </tr>\n",
              "    <tr>\n",
              "      <th>975</th>\n",
              "      <td>nu.tree</td>\n",
              "      <td>4.266667</td>\n",
              "    </tr>\n",
              "  </tbody>\n",
              "</table>\n",
              "<p>976 rows × 2 columns</p>\n",
              "</div>\n",
              "      <button class=\"colab-df-convert\" onclick=\"convertToInteractive('df-a404e116-01fe-4481-8327-19a955208acb')\"\n",
              "              title=\"Convert this dataframe to an interactive table.\"\n",
              "              style=\"display:none;\">\n",
              "        \n",
              "  <svg xmlns=\"http://www.w3.org/2000/svg\" height=\"24px\"viewBox=\"0 0 24 24\"\n",
              "       width=\"24px\">\n",
              "    <path d=\"M0 0h24v24H0V0z\" fill=\"none\"/>\n",
              "    <path d=\"M18.56 5.44l.94 2.06.94-2.06 2.06-.94-2.06-.94-.94-2.06-.94 2.06-2.06.94zm-11 1L8.5 8.5l.94-2.06 2.06-.94-2.06-.94L8.5 2.5l-.94 2.06-2.06.94zm10 10l.94 2.06.94-2.06 2.06-.94-2.06-.94-.94-2.06-.94 2.06-2.06.94z\"/><path d=\"M17.41 7.96l-1.37-1.37c-.4-.4-.92-.59-1.43-.59-.52 0-1.04.2-1.43.59L10.3 9.45l-7.72 7.72c-.78.78-.78 2.05 0 2.83L4 21.41c.39.39.9.59 1.41.59.51 0 1.02-.2 1.41-.59l7.78-7.78 2.81-2.81c.8-.78.8-2.07 0-2.86zM5.41 20L4 18.59l7.72-7.72 1.47 1.35L5.41 20z\"/>\n",
              "  </svg>\n",
              "      </button>\n",
              "      \n",
              "  <style>\n",
              "    .colab-df-container {\n",
              "      display:flex;\n",
              "      flex-wrap:wrap;\n",
              "      gap: 12px;\n",
              "    }\n",
              "\n",
              "    .colab-df-convert {\n",
              "      background-color: #E8F0FE;\n",
              "      border: none;\n",
              "      border-radius: 50%;\n",
              "      cursor: pointer;\n",
              "      display: none;\n",
              "      fill: #1967D2;\n",
              "      height: 32px;\n",
              "      padding: 0 0 0 0;\n",
              "      width: 32px;\n",
              "    }\n",
              "\n",
              "    .colab-df-convert:hover {\n",
              "      background-color: #E2EBFA;\n",
              "      box-shadow: 0px 1px 2px rgba(60, 64, 67, 0.3), 0px 1px 3px 1px rgba(60, 64, 67, 0.15);\n",
              "      fill: #174EA6;\n",
              "    }\n",
              "\n",
              "    [theme=dark] .colab-df-convert {\n",
              "      background-color: #3B4455;\n",
              "      fill: #D2E3FC;\n",
              "    }\n",
              "\n",
              "    [theme=dark] .colab-df-convert:hover {\n",
              "      background-color: #434B5C;\n",
              "      box-shadow: 0px 1px 3px 1px rgba(0, 0, 0, 0.15);\n",
              "      filter: drop-shadow(0px 1px 2px rgba(0, 0, 0, 0.3));\n",
              "      fill: #FFFFFF;\n",
              "    }\n",
              "  </style>\n",
              "\n",
              "      <script>\n",
              "        const buttonEl =\n",
              "          document.querySelector('#df-a404e116-01fe-4481-8327-19a955208acb button.colab-df-convert');\n",
              "        buttonEl.style.display =\n",
              "          google.colab.kernel.accessAllowed ? 'block' : 'none';\n",
              "\n",
              "        async function convertToInteractive(key) {\n",
              "          const element = document.querySelector('#df-a404e116-01fe-4481-8327-19a955208acb');\n",
              "          const dataTable =\n",
              "            await google.colab.kernel.invokeFunction('convertToInteractive',\n",
              "                                                     [key], {});\n",
              "          if (!dataTable) return;\n",
              "\n",
              "          const docLinkHtml = 'Like what you see? Visit the ' +\n",
              "            '<a target=\"_blank\" href=https://colab.research.google.com/notebooks/data_table.ipynb>data table notebook</a>'\n",
              "            + ' to learn more about interactive tables.';\n",
              "          element.innerHTML = '';\n",
              "          dataTable['output_type'] = 'display_data';\n",
              "          await google.colab.output.renderOutput(dataTable, element);\n",
              "          const docLink = document.createElement('div');\n",
              "          docLink.innerHTML = docLinkHtml;\n",
              "          element.appendChild(docLink);\n",
              "        }\n",
              "      </script>\n",
              "    </div>\n",
              "  </div>\n",
              "  "
            ]
          },
          "metadata": {},
          "execution_count": 31
        }
      ],
      "source": [
        "#Creating dataframe of chain restaurant with its mean rating from all of its outlets/records\n",
        "df_chain_rate=df_chain['rate'].mean().to_frame()\n",
        "df_chain_rate=df_chain_rate.reset_index()\n",
        "df_chain_rate.columns=['restaurant','rating']\n",
        "df_chain_rate"
      ]
    },
    {
      "cell_type": "code",
      "execution_count": null,
      "metadata": {
        "colab": {
          "base_uri": "https://localhost:8080/"
        },
        "id": "f9_mADVRm_YQ",
        "outputId": "3ad2a3df-cc2f-4b19-e870-71b0f5c1552c"
      },
      "outputs": [
        {
          "output_type": "execute_result",
          "data": {
            "text/plain": [
              "                                        restaurant    rating\n",
              "0                                     #FeelTheROLL  3.400000\n",
              "1                                       #L-81 Cafe  3.900000\n",
              "2                                          #refuel  3.700000\n",
              "3                                         1000 B.C  3.200000\n",
              "4             100ÃÂÃÂÃÂÃÂÃÂÃÂÃÂÃÂ°C  3.700000\n",
              "...                                            ...       ...\n",
              "6622                    i-Bar - The Park Bangalore  3.800000\n",
              "6623                        iFruit Live Ice Creams  3.400000\n",
              "6624                             iSpice Resto Cafe  3.700000\n",
              "6625                                       nu.tree  4.266667\n",
              "6626  re:cess - Hilton Bangalore Embassy GolfLinks  4.100000\n",
              "\n",
              "[6627 rows x 2 columns]"
            ],
            "text/html": [
              "\n",
              "  <div id=\"df-468440bf-2725-4c63-a281-f651fd49ac62\">\n",
              "    <div class=\"colab-df-container\">\n",
              "      <div>\n",
              "<style scoped>\n",
              "    .dataframe tbody tr th:only-of-type {\n",
              "        vertical-align: middle;\n",
              "    }\n",
              "\n",
              "    .dataframe tbody tr th {\n",
              "        vertical-align: top;\n",
              "    }\n",
              "\n",
              "    .dataframe thead th {\n",
              "        text-align: right;\n",
              "    }\n",
              "</style>\n",
              "<table border=\"1\" class=\"dataframe\">\n",
              "  <thead>\n",
              "    <tr style=\"text-align: right;\">\n",
              "      <th></th>\n",
              "      <th>restaurant</th>\n",
              "      <th>rating</th>\n",
              "    </tr>\n",
              "  </thead>\n",
              "  <tbody>\n",
              "    <tr>\n",
              "      <th>0</th>\n",
              "      <td>#FeelTheROLL</td>\n",
              "      <td>3.400000</td>\n",
              "    </tr>\n",
              "    <tr>\n",
              "      <th>1</th>\n",
              "      <td>#L-81 Cafe</td>\n",
              "      <td>3.900000</td>\n",
              "    </tr>\n",
              "    <tr>\n",
              "      <th>2</th>\n",
              "      <td>#refuel</td>\n",
              "      <td>3.700000</td>\n",
              "    </tr>\n",
              "    <tr>\n",
              "      <th>3</th>\n",
              "      <td>1000 B.C</td>\n",
              "      <td>3.200000</td>\n",
              "    </tr>\n",
              "    <tr>\n",
              "      <th>4</th>\n",
              "      <td>100ÃÂÃÂÃÂÃÂÃÂÃÂÃÂÃÂ°C</td>\n",
              "      <td>3.700000</td>\n",
              "    </tr>\n",
              "    <tr>\n",
              "      <th>...</th>\n",
              "      <td>...</td>\n",
              "      <td>...</td>\n",
              "    </tr>\n",
              "    <tr>\n",
              "      <th>6622</th>\n",
              "      <td>i-Bar - The Park Bangalore</td>\n",
              "      <td>3.800000</td>\n",
              "    </tr>\n",
              "    <tr>\n",
              "      <th>6623</th>\n",
              "      <td>iFruit Live Ice Creams</td>\n",
              "      <td>3.400000</td>\n",
              "    </tr>\n",
              "    <tr>\n",
              "      <th>6624</th>\n",
              "      <td>iSpice Resto Cafe</td>\n",
              "      <td>3.700000</td>\n",
              "    </tr>\n",
              "    <tr>\n",
              "      <th>6625</th>\n",
              "      <td>nu.tree</td>\n",
              "      <td>4.266667</td>\n",
              "    </tr>\n",
              "    <tr>\n",
              "      <th>6626</th>\n",
              "      <td>re:cess - Hilton Bangalore Embassy GolfLinks</td>\n",
              "      <td>4.100000</td>\n",
              "    </tr>\n",
              "  </tbody>\n",
              "</table>\n",
              "<p>6627 rows × 2 columns</p>\n",
              "</div>\n",
              "      <button class=\"colab-df-convert\" onclick=\"convertToInteractive('df-468440bf-2725-4c63-a281-f651fd49ac62')\"\n",
              "              title=\"Convert this dataframe to an interactive table.\"\n",
              "              style=\"display:none;\">\n",
              "        \n",
              "  <svg xmlns=\"http://www.w3.org/2000/svg\" height=\"24px\"viewBox=\"0 0 24 24\"\n",
              "       width=\"24px\">\n",
              "    <path d=\"M0 0h24v24H0V0z\" fill=\"none\"/>\n",
              "    <path d=\"M18.56 5.44l.94 2.06.94-2.06 2.06-.94-2.06-.94-.94-2.06-.94 2.06-2.06.94zm-11 1L8.5 8.5l.94-2.06 2.06-.94-2.06-.94L8.5 2.5l-.94 2.06-2.06.94zm10 10l.94 2.06.94-2.06 2.06-.94-2.06-.94-.94-2.06-.94 2.06-2.06.94z\"/><path d=\"M17.41 7.96l-1.37-1.37c-.4-.4-.92-.59-1.43-.59-.52 0-1.04.2-1.43.59L10.3 9.45l-7.72 7.72c-.78.78-.78 2.05 0 2.83L4 21.41c.39.39.9.59 1.41.59.51 0 1.02-.2 1.41-.59l7.78-7.78 2.81-2.81c.8-.78.8-2.07 0-2.86zM5.41 20L4 18.59l7.72-7.72 1.47 1.35L5.41 20z\"/>\n",
              "  </svg>\n",
              "      </button>\n",
              "      \n",
              "  <style>\n",
              "    .colab-df-container {\n",
              "      display:flex;\n",
              "      flex-wrap:wrap;\n",
              "      gap: 12px;\n",
              "    }\n",
              "\n",
              "    .colab-df-convert {\n",
              "      background-color: #E8F0FE;\n",
              "      border: none;\n",
              "      border-radius: 50%;\n",
              "      cursor: pointer;\n",
              "      display: none;\n",
              "      fill: #1967D2;\n",
              "      height: 32px;\n",
              "      padding: 0 0 0 0;\n",
              "      width: 32px;\n",
              "    }\n",
              "\n",
              "    .colab-df-convert:hover {\n",
              "      background-color: #E2EBFA;\n",
              "      box-shadow: 0px 1px 2px rgba(60, 64, 67, 0.3), 0px 1px 3px 1px rgba(60, 64, 67, 0.15);\n",
              "      fill: #174EA6;\n",
              "    }\n",
              "\n",
              "    [theme=dark] .colab-df-convert {\n",
              "      background-color: #3B4455;\n",
              "      fill: #D2E3FC;\n",
              "    }\n",
              "\n",
              "    [theme=dark] .colab-df-convert:hover {\n",
              "      background-color: #434B5C;\n",
              "      box-shadow: 0px 1px 3px 1px rgba(0, 0, 0, 0.15);\n",
              "      filter: drop-shadow(0px 1px 2px rgba(0, 0, 0, 0.3));\n",
              "      fill: #FFFFFF;\n",
              "    }\n",
              "  </style>\n",
              "\n",
              "      <script>\n",
              "        const buttonEl =\n",
              "          document.querySelector('#df-468440bf-2725-4c63-a281-f651fd49ac62 button.colab-df-convert');\n",
              "        buttonEl.style.display =\n",
              "          google.colab.kernel.accessAllowed ? 'block' : 'none';\n",
              "\n",
              "        async function convertToInteractive(key) {\n",
              "          const element = document.querySelector('#df-468440bf-2725-4c63-a281-f651fd49ac62');\n",
              "          const dataTable =\n",
              "            await google.colab.kernel.invokeFunction('convertToInteractive',\n",
              "                                                     [key], {});\n",
              "          if (!dataTable) return;\n",
              "\n",
              "          const docLinkHtml = 'Like what you see? Visit the ' +\n",
              "            '<a target=\"_blank\" href=https://colab.research.google.com/notebooks/data_table.ipynb>data table notebook</a>'\n",
              "            + ' to learn more about interactive tables.';\n",
              "          element.innerHTML = '';\n",
              "          dataTable['output_type'] = 'display_data';\n",
              "          await google.colab.output.renderOutput(dataTable, element);\n",
              "          const docLink = document.createElement('div');\n",
              "          docLink.innerHTML = docLinkHtml;\n",
              "          element.appendChild(docLink);\n",
              "        }\n",
              "      </script>\n",
              "    </div>\n",
              "  </div>\n",
              "  "
            ]
          },
          "metadata": {},
          "execution_count": 32
        }
      ],
      "source": [
        "df_rate=df.groupby('name')['rate'].mean().to_frame()\n",
        "df_rate=df_rate.reset_index()\n",
        "df_rate.columns=['restaurant','rating']\n",
        "df_rate"
      ]
    },
    {
      "cell_type": "markdown",
      "source": [
        "###Solo vs Chain Restaurants plots"
      ],
      "metadata": {
        "id": "fDymS2q6iTnA"
      }
    },
    {
      "cell_type": "code",
      "execution_count": null,
      "metadata": {
        "colab": {
          "base_uri": "https://localhost:8080/"
        },
        "id": "FWIFrvLImAjX",
        "outputId": "26353ce8-ac42-4e68-eb8f-fcbe089e4d69"
      },
      "outputs": [
        {
          "output_type": "stream",
          "name": "stdout",
          "text": [
            "Median\n",
            "All restaurants: rating    3.6\n",
            "dtype: float64 Chain Restaurants: rating    3.65\n",
            "dtype: float64 Solo Restaurants: rating    3.6\n",
            "dtype: float64\n",
            "\n",
            "Mean\n",
            " All Restaurants: rating    3.618608\n",
            "dtype: float64 Chain Restaurants: rating    3.648785\n",
            "dtype: float64 Solo Restaurants: rating    3.613396\n",
            "dtype: float64\n"
          ]
        },
        {
          "output_type": "display_data",
          "data": {
            "text/plain": [
              "<Figure size 1440x360 with 3 Axes>"
            ],
            "image/png": "[encoded data removed]"
          },
          "metadata": {
            "needs_background": "light"
          }
        }
      ],
      "source": [
        "fig,axes=plt.subplots(1,3,figsize=(20,5))\n",
        "fig.suptitle('Rating Distribution')\n",
        "sns.set_style(style='whitegrid')\n",
        "sns.distplot(ax=axes[0],a=df_rate['rating'],bins=50)\n",
        "axes[0].set_title('All Restaurants')\n",
        "sns.distplot(ax=axes[1],a=df_chain_rate['rating'],bins=50)\n",
        "axes[1].set_title('Chain Restaurants')\n",
        "sns.distplot(ax=axes[2],a=df_solo_rate['rating'],bins=50)\n",
        "axes[2].set_title('Solo Restaurants')\n",
        "print('Median\\nAll restaurants:',df_rate.median(),'Chain Restaurants:',df_chain_rate.median(),'Solo Restaurants:',df_solo_rate.median())\n",
        "print('\\nMean\\n All Restaurants:',df_rate.mean(),'Chain Restaurants:',df_chain_rate.mean(),'Solo Restaurants:',df_solo_rate.mean())"
      ]
    },
    {
      "cell_type": "markdown",
      "metadata": {
        "id": "taoKIOSKuvka"
      },
      "source": [
        "***Observation***\n",
        "\n",
        "\n",
        "*   Majority of ratings lie between 3 and 4.\n",
        "\n",
        "*   Rating above 4.5 and below 2.7 is very rare\n",
        "\n",
        "\n",
        "*   Solo Restaurants and Chain Restaurants have similar distribution on the rating density. Their mean and median also give out similar values. Thus, having more number of outlets, does not indicate higher rating.\n",
        "\n"
      ]
    },
    {
      "cell_type": "markdown",
      "source": [
        "###Compare effect of Rating with respect to number of outlets"
      ],
      "metadata": {
        "id": "KEIvTWoWh_3d"
      }
    },
    {
      "cell_type": "code",
      "source": [
        "restaurants.columns=['name','frequency']"
      ],
      "metadata": {
        "id": "Ex6N5U_VxshB"
      },
      "execution_count": null,
      "outputs": []
    },
    {
      "cell_type": "code",
      "source": [
        "restaurants"
      ],
      "metadata": {
        "colab": {
          "base_uri": "https://localhost:8080/"
        },
        "id": "XD8uPM2yB6be",
        "outputId": "81e7acc1-20a9-42d6-f374-7f3e389bdfac"
      },
      "execution_count": null,
      "outputs": [
        {
          "output_type": "execute_result",
          "data": {
            "text/plain": [
              "name\n",
              "#FeelTheROLL                                    1\n",
              "#L-81 Cafe                                      1\n",
              "#refuel                                         1\n",
              "1000 B.C                                        1\n",
              "100ÃÂÃÂÃÂÃÂÃÂÃÂÃÂÃÂ°C            1\n",
              "                                               ..\n",
              "i-Bar - The Park Bangalore                      1\n",
              "iFruit Live Ice Creams                          1\n",
              "iSpice Resto Cafe                               1\n",
              "nu.tree                                         3\n",
              "re:cess - Hilton Bangalore Embassy GolfLinks    1\n",
              "Name: rate, Length: 6627, dtype: int64"
            ]
          },
          "metadata": {},
          "execution_count": 35
        }
      ]
    },
    {
      "cell_type": "code",
      "source": [
        "#Creating DataFrame which contains Restaurant names, their frequency and their mean rating from all their outlets\n",
        "df_res=restaurants.to_frame()\n",
        "df_res=df_res.reset_index()\n",
        "df_res.columns=['Restaurant','Frequency']\n",
        "df_res['Rating']=np.NAN\n",
        "for name,value in restaurants.items():\n",
        "  index=df_res[df_res['Restaurant']==name].index[0]\n",
        "  df_res.at[index,'Rating']=df_rate[df_rate['restaurant']==name]['rating']\n",
        "df_res"
      ],
      "metadata": {
        "colab": {
          "base_uri": "https://localhost:8080/"
        },
        "id": "UmZ6H3JPnUHd",
        "outputId": "6296092d-ed86-4244-9ee7-651e84462ecb"
      },
      "execution_count": null,
      "outputs": [
        {
          "output_type": "execute_result",
          "data": {
            "text/plain": [
              "                                        Restaurant  Frequency    Rating\n",
              "0                                     #FeelTheROLL          1  3.400000\n",
              "1                                       #L-81 Cafe          1  3.900000\n",
              "2                                          #refuel          1  3.700000\n",
              "3                                         1000 B.C          1  3.200000\n",
              "4             100ÃÂÃÂÃÂÃÂÃÂÃÂÃÂÃÂ°C          1  3.700000\n",
              "...                                            ...        ...       ...\n",
              "6622                    i-Bar - The Park Bangalore          1  3.800000\n",
              "6623                        iFruit Live Ice Creams          1  3.400000\n",
              "6624                             iSpice Resto Cafe          1  3.700000\n",
              "6625                                       nu.tree          3  4.266667\n",
              "6626  re:cess - Hilton Bangalore Embassy GolfLinks          1  4.100000\n",
              "\n",
              "[6627 rows x 3 columns]"
            ],
            "text/html": [
              "\n",
              "  <div id=\"df-ab85eea2-6792-4964-91c4-6748e34ab600\">\n",
              "    <div class=\"colab-df-container\">\n",
              "      <div>\n",
              "<style scoped>\n",
              "    .dataframe tbody tr th:only-of-type {\n",
              "        vertical-align: middle;\n",
              "    }\n",
              "\n",
              "    .dataframe tbody tr th {\n",
              "        vertical-align: top;\n",
              "    }\n",
              "\n",
              "    .dataframe thead th {\n",
              "        text-align: right;\n",
              "    }\n",
              "</style>\n",
              "<table border=\"1\" class=\"dataframe\">\n",
              "  <thead>\n",
              "    <tr style=\"text-align: right;\">\n",
              "      <th></th>\n",
              "      <th>Restaurant</th>\n",
              "      <th>Frequency</th>\n",
              "      <th>Rating</th>\n",
              "    </tr>\n",
              "  </thead>\n",
              "  <tbody>\n",
              "    <tr>\n",
              "      <th>0</th>\n",
              "      <td>#FeelTheROLL</td>\n",
              "      <td>1</td>\n",
              "      <td>3.400000</td>\n",
              "    </tr>\n",
              "    <tr>\n",
              "      <th>1</th>\n",
              "      <td>#L-81 Cafe</td>\n",
              "      <td>1</td>\n",
              "      <td>3.900000</td>\n",
              "    </tr>\n",
              "    <tr>\n",
              "      <th>2</th>\n",
              "      <td>#refuel</td>\n",
              "      <td>1</td>\n",
              "      <td>3.700000</td>\n",
              "    </tr>\n",
              "    <tr>\n",
              "      <th>3</th>\n",
              "      <td>1000 B.C</td>\n",
              "      <td>1</td>\n",
              "      <td>3.200000</td>\n",
              "    </tr>\n",
              "    <tr>\n",
              "      <th>4</th>\n",
              "      <td>100ÃÂÃÂÃÂÃÂÃÂÃÂÃÂÃÂ°C</td>\n",
              "      <td>1</td>\n",
              "      <td>3.700000</td>\n",
              "    </tr>\n",
              "    <tr>\n",
              "      <th>...</th>\n",
              "      <td>...</td>\n",
              "      <td>...</td>\n",
              "      <td>...</td>\n",
              "    </tr>\n",
              "    <tr>\n",
              "      <th>6622</th>\n",
              "      <td>i-Bar - The Park Bangalore</td>\n",
              "      <td>1</td>\n",
              "      <td>3.800000</td>\n",
              "    </tr>\n",
              "    <tr>\n",
              "      <th>6623</th>\n",
              "      <td>iFruit Live Ice Creams</td>\n",
              "      <td>1</td>\n",
              "      <td>3.400000</td>\n",
              "    </tr>\n",
              "    <tr>\n",
              "      <th>6624</th>\n",
              "      <td>iSpice Resto Cafe</td>\n",
              "      <td>1</td>\n",
              "      <td>3.700000</td>\n",
              "    </tr>\n",
              "    <tr>\n",
              "      <th>6625</th>\n",
              "      <td>nu.tree</td>\n",
              "      <td>3</td>\n",
              "      <td>4.266667</td>\n",
              "    </tr>\n",
              "    <tr>\n",
              "      <th>6626</th>\n",
              "      <td>re:cess - Hilton Bangalore Embassy GolfLinks</td>\n",
              "      <td>1</td>\n",
              "      <td>4.100000</td>\n",
              "    </tr>\n",
              "  </tbody>\n",
              "</table>\n",
              "<p>6627 rows × 3 columns</p>\n",
              "</div>\n",
              "      <button class=\"colab-df-convert\" onclick=\"convertToInteractive('df-ab85eea2-6792-4964-91c4-6748e34ab600')\"\n",
              "              title=\"Convert this dataframe to an interactive table.\"\n",
              "              style=\"display:none;\">\n",
              "        \n",
              "  <svg xmlns=\"http://www.w3.org/2000/svg\" height=\"24px\"viewBox=\"0 0 24 24\"\n",
              "       width=\"24px\">\n",
              "    <path d=\"M0 0h24v24H0V0z\" fill=\"none\"/>\n",
              "    <path d=\"M18.56 5.44l.94 2.06.94-2.06 2.06-.94-2.06-.94-.94-2.06-.94 2.06-2.06.94zm-11 1L8.5 8.5l.94-2.06 2.06-.94-2.06-.94L8.5 2.5l-.94 2.06-2.06.94zm10 10l.94 2.06.94-2.06 2.06-.94-2.06-.94-.94-2.06-.94 2.06-2.06.94z\"/><path d=\"M17.41 7.96l-1.37-1.37c-.4-.4-.92-.59-1.43-.59-.52 0-1.04.2-1.43.59L10.3 9.45l-7.72 7.72c-.78.78-.78 2.05 0 2.83L4 21.41c.39.39.9.59 1.41.59.51 0 1.02-.2 1.41-.59l7.78-7.78 2.81-2.81c.8-.78.8-2.07 0-2.86zM5.41 20L4 18.59l7.72-7.72 1.47 1.35L5.41 20z\"/>\n",
              "  </svg>\n",
              "      </button>\n",
              "      \n",
              "  <style>\n",
              "    .colab-df-container {\n",
              "      display:flex;\n",
              "      flex-wrap:wrap;\n",
              "      gap: 12px;\n",
              "    }\n",
              "\n",
              "    .colab-df-convert {\n",
              "      background-color: #E8F0FE;\n",
              "      border: none;\n",
              "      border-radius: 50%;\n",
              "      cursor: pointer;\n",
              "      display: none;\n",
              "      fill: #1967D2;\n",
              "      height: 32px;\n",
              "      padding: 0 0 0 0;\n",
              "      width: 32px;\n",
              "    }\n",
              "\n",
              "    .colab-df-convert:hover {\n",
              "      background-color: #E2EBFA;\n",
              "      box-shadow: 0px 1px 2px rgba(60, 64, 67, 0.3), 0px 1px 3px 1px rgba(60, 64, 67, 0.15);\n",
              "      fill: #174EA6;\n",
              "    }\n",
              "\n",
              "    [theme=dark] .colab-df-convert {\n",
              "      background-color: #3B4455;\n",
              "      fill: #D2E3FC;\n",
              "    }\n",
              "\n",
              "    [theme=dark] .colab-df-convert:hover {\n",
              "      background-color: #434B5C;\n",
              "      box-shadow: 0px 1px 3px 1px rgba(0, 0, 0, 0.15);\n",
              "      filter: drop-shadow(0px 1px 2px rgba(0, 0, 0, 0.3));\n",
              "      fill: #FFFFFF;\n",
              "    }\n",
              "  </style>\n",
              "\n",
              "      <script>\n",
              "        const buttonEl =\n",
              "          document.querySelector('#df-ab85eea2-6792-4964-91c4-6748e34ab600 button.colab-df-convert');\n",
              "        buttonEl.style.display =\n",
              "          google.colab.kernel.accessAllowed ? 'block' : 'none';\n",
              "\n",
              "        async function convertToInteractive(key) {\n",
              "          const element = document.querySelector('#df-ab85eea2-6792-4964-91c4-6748e34ab600');\n",
              "          const dataTable =\n",
              "            await google.colab.kernel.invokeFunction('convertToInteractive',\n",
              "                                                     [key], {});\n",
              "          if (!dataTable) return;\n",
              "\n",
              "          const docLinkHtml = 'Like what you see? Visit the ' +\n",
              "            '<a target=\"_blank\" href=https://colab.research.google.com/notebooks/data_table.ipynb>data table notebook</a>'\n",
              "            + ' to learn more about interactive tables.';\n",
              "          element.innerHTML = '';\n",
              "          dataTable['output_type'] = 'display_data';\n",
              "          await google.colab.output.renderOutput(dataTable, element);\n",
              "          const docLink = document.createElement('div');\n",
              "          docLink.innerHTML = docLinkHtml;\n",
              "          element.appendChild(docLink);\n",
              "        }\n",
              "      </script>\n",
              "    </div>\n",
              "  </div>\n",
              "  "
            ]
          },
          "metadata": {},
          "execution_count": 36
        }
      ]
    },
    {
      "cell_type": "code",
      "source": [
        "#Grouping Restaurants with same number of outlet/frequency and for each frequency computing the mean for all the restaurants with same frequency value\n",
        "df_res.groupby('Frequency')['Rating'].mean().plot.bar()\n",
        "plt.title('Number of Outlets Vs Rating')\n",
        "plt.ylabel('Mean Rating')\n",
        "plt.xlabel('Number of outlets')"
      ],
      "metadata": {
        "colab": {
          "base_uri": "https://localhost:8080/"
        },
        "id": "6GnlhJ1zb2oH",
        "outputId": "f29812f5-f3a5-421e-931f-f98136097bdb"
      },
      "execution_count": null,
      "outputs": [
        {
          "output_type": "execute_result",
          "data": {
            "text/plain": [
              "Text(0.5, 0, 'Number of outlets')"
            ]
          },
          "metadata": {},
          "execution_count": 37
        },
        {
          "output_type": "display_data",
          "data": {
            "text/plain": [
              "<Figure size 432x288 with 1 Axes>"
            ],
            "image/png": "[encoded data removed]"
          },
          "metadata": {}
        }
      ]
    },
    {
      "cell_type": "markdown",
      "source": [
        "**Observation**\n",
        "\n",
        "*   The general trend reveals that Rating value increase with increase in the  number of outlet upto a certain number of outlet value(~18) after which Rating value decreases with increase in the number of outlet.\n",
        "\n"
      ],
      "metadata": {
        "id": "lBDKW78Si15n"
      }
    },
    {
      "cell_type": "code",
      "execution_count": null,
      "metadata": {
        "colab": {
          "base_uri": "https://localhost:8080/"
        },
        "id": "43XwK9JatiKU",
        "outputId": "6b30911b-cb9c-4837-c5a9-3a1b09a25135"
      },
      "outputs": [
        {
          "output_type": "execute_result",
          "data": {
            "text/plain": [
              "Text(0.5, 0, 'Number of Outlets')"
            ]
          },
          "metadata": {},
          "execution_count": 39
        },
        {
          "output_type": "display_data",
          "data": {
            "text/plain": [
              "<Figure size 504x360 with 1 Axes>"
            ],
            "image/png": "[encoded data removed]"
          },
          "metadata": {}
        }
      ],
      "source": [
        "#Plotting Restaurants with most number of chains\n",
        "plt.figure(figsize=(7,5))\n",
        "most_chain=df['name'].value_counts()[0:20]\n",
        "sns.barplot(x=most_chain,y=most_chain.index,palette='deep')\n",
        "plt.title('Restaurants with Most number of Chains in Bangalore')\n",
        "plt.xlabel('Number of Outlets')"
      ]
    },
    {
      "cell_type": "markdown",
      "source": [
        "##Vote vs Rating Analysis"
      ],
      "metadata": {
        "id": "gwZfZSOnfAf1"
      }
    },
    {
      "cell_type": "code",
      "source": [
        "sns.histplot(df['rate'])\n",
        "plt.title('Rating Count')"
      ],
      "metadata": {
        "colab": {
          "base_uri": "https://localhost:8080/"
        },
        "id": "x_YmmyfWqcD-",
        "outputId": "ff9294be-c921-4f3c-eb80-8a0ad02a7778"
      },
      "execution_count": null,
      "outputs": [
        {
          "output_type": "execute_result",
          "data": {
            "text/plain": [
              "Text(0.5, 1.0, 'Rating Count')"
            ]
          },
          "metadata": {},
          "execution_count": 40
        },
        {
          "output_type": "display_data",
          "data": {
            "text/plain": [
              "<Figure size 432x288 with 1 Axes>"
            ],
            "image/png": "[encoded data removed]"
          },
          "metadata": {}
        }
      ]
    },
    {
      "cell_type": "code",
      "source": [
        "sns.boxplot(df['rate'])\n",
        "plt.title('Rating Distribution')"
      ],
      "metadata": {
        "colab": {
          "base_uri": "https://localhost:8080/"
        },
        "id": "aqkhAiGkyeDL",
        "outputId": "f34eac06-e0f9-4bc2-a98d-5ee7d5dbe825"
      },
      "execution_count": null,
      "outputs": [
        {
          "output_type": "execute_result",
          "data": {
            "text/plain": [
              "Text(0.5, 1.0, 'Rating Distribution')"
            ]
          },
          "metadata": {},
          "execution_count": 41
        },
        {
          "output_type": "display_data",
          "data": {
            "text/plain": [
              "<Figure size 432x288 with 1 Axes>"
            ],
            "image/png": "[encoded data removed]"
          },
          "metadata": {}
        }
      ]
    },
    {
      "cell_type": "code",
      "source": [
        "sns.histplot(df['votes'],bins=50,kde=True)"
      ],
      "metadata": {
        "colab": {
          "base_uri": "https://localhost:8080/"
        },
        "id": "VzOCw1KGr-uO",
        "outputId": "9613c30d-b30c-40e1-c0ef-14fe1e861309"
      },
      "execution_count": null,
      "outputs": [
        {
          "output_type": "execute_result",
          "data": {
            "text/plain": [
              "<matplotlib.axes._subplots.AxesSubplot at 0x7f345bf67750>"
            ]
          },
          "metadata": {},
          "execution_count": 42
        },
        {
          "output_type": "display_data",
          "data": {
            "text/plain": [
              "<Figure size 432x288 with 1 Axes>"
            ],
            "image/png": "[encoded data removed]"
          },
          "metadata": {}
        }
      ]
    },
    {
      "cell_type": "code",
      "execution_count": null,
      "metadata": {
        "colab": {
          "base_uri": "https://localhost:8080/"
        },
        "id": "75TkYwyoKCMo",
        "outputId": "a12295ad-35dc-4663-d3a6-efdfa2f4da51"
      },
      "outputs": [
        {
          "output_type": "execute_result",
          "data": {
            "text/plain": [
              "<matplotlib.legend.Legend at 0x7f345bf20f90>"
            ]
          },
          "metadata": {},
          "execution_count": 43
        },
        {
          "output_type": "display_data",
          "data": {
            "text/plain": [
              "<Figure size 720x360 with 1 Axes>"
            ],
            "image/png": "[encoded data removed]"
          },
          "metadata": {}
        }
      ],
      "source": [
        "df_rate_votes=df[['rate','votes']]\n",
        "plt.figure(figsize=(10,5))\n",
        "sns.scatterplot(x=df_rate_votes['rate'],y=df_rate_votes['votes'])\n",
        "df_rate_votes=df_rate_votes.groupby('rate').mean()\n",
        "plt.scatter(x=df_rate_votes.index,y=df_rate_votes['votes'],c='red',s=25)\n",
        "plt.legend(labels=['Number of Votes','Mean number of votes for each rating value'])"
      ]
    },
    {
      "cell_type": "markdown",
      "source": [
        "Upto certain value of rating (3.5), the votes seems to have no effect on the ratings. However, above 3.5 rating, mean votes increases with ratings or vice-versa."
      ],
      "metadata": {
        "id": "I1FGo9cSbhGw"
      }
    },
    {
      "cell_type": "markdown",
      "source": [
        "##Online Order and Book Table "
      ],
      "metadata": {
        "id": "6WDqh5bbfMXu"
      }
    },
    {
      "cell_type": "code",
      "execution_count": null,
      "metadata": {
        "id": "Eqx3EKNAd54X",
        "colab": {
          "base_uri": "https://localhost:8080/"
        },
        "outputId": "231e361a-a7fb-4da8-fc6e-0a08d86e3c6d"
      },
      "outputs": [
        {
          "output_type": "execute_result",
          "data": {
            "text/plain": [
              "Text(0.5, 1.0, 'Online Order')"
            ]
          },
          "metadata": {},
          "execution_count": 44
        },
        {
          "output_type": "display_data",
          "data": {
            "text/plain": [
              "<Figure size 504x504 with 1 Axes>"
            ],
            "image/png": "[encoded data removed]"
          },
          "metadata": {}
        }
      ],
      "source": [
        "online=df['online_order'].value_counts()\n",
        "labels=['Accepted','Not Accepted']\n",
        "plt.figure(figsize=(7,7))\n",
        "plt.pie(online,labels=labels,explode=[0.0,0.01],autopct='%1.1f%%')\n",
        "plt.title('Online Order')"
      ]
    },
    {
      "cell_type": "markdown",
      "source": [
        "Majority Restaurant accepts online order, however, quite a significant percent(40.3%) does not accept online order."
      ],
      "metadata": {
        "id": "rITc1MuCWULS"
      }
    },
    {
      "cell_type": "code",
      "source": [
        "book_table=df['book_table'].value_counts()\n",
        "labels=['Bookable','Not Bookable']\n",
        "plt.figure(figsize=(7,7))\n",
        "plt.pie(book_table,labels=labels,explode=[0.01,0.01],autopct='%.1f%%')\n",
        "plt.title('Book Table')"
      ],
      "metadata": {
        "colab": {
          "base_uri": "https://localhost:8080/"
        },
        "id": "im6fztTcc_1i",
        "outputId": "8707cb28-82ef-4823-8835-d1ac8c21b878"
      },
      "execution_count": null,
      "outputs": [
        {
          "output_type": "execute_result",
          "data": {
            "text/plain": [
              "Text(0.5, 1.0, 'Book Table')"
            ]
          },
          "metadata": {},
          "execution_count": 45
        },
        {
          "output_type": "display_data",
          "data": {
            "text/plain": [
              "<Figure size 504x504 with 1 Axes>"
            ],
            "image/png": "[encoded data removed]"
          },
          "metadata": {}
        }
      ]
    },
    {
      "cell_type": "markdown",
      "source": [
        "We see most restaurants listed in Zomato are Book-able."
      ],
      "metadata": {
        "id": "HiTlsonPWG2j"
      }
    },
    {
      "cell_type": "markdown",
      "source": [
        "##Approx Cost For Two"
      ],
      "metadata": {
        "id": "3jI-kn0WC5Nt"
      }
    },
    {
      "cell_type": "code",
      "source": [
        "#Normal Distribution of Approx_cost(for two people)\n",
        "sns.displot(df['approx_cost(for two people)'],kde=True)\n",
        "plt.title('Normal Distribution of Approx Cost for Two people')\n",
        "plt.xticks(rotation=90)"
      ],
      "metadata": {
        "colab": {
          "base_uri": "https://localhost:8080/"
        },
        "id": "6qsal0npC8lO",
        "outputId": "63d72cd1-e2fc-4759-e3a1-e546ec8380ad"
      },
      "execution_count": null,
      "outputs": [
        {
          "output_type": "execute_result",
          "data": {
            "text/plain": [
              "(array([-1000.,     0.,  1000.,  2000.,  3000.,  4000.,  5000.,  6000.,\n",
              "         7000.]), <a list of 9 Text major ticklabel objects>)"
            ]
          },
          "metadata": {},
          "execution_count": 46
        },
        {
          "output_type": "display_data",
          "data": {
            "text/plain": [
              "<Figure size 360x360 with 1 Axes>"
            ],
            "image/png": "[encoded data removed]"
          },
          "metadata": {}
        }
      ]
    },
    {
      "cell_type": "markdown",
      "source": [
        "Restaurant seems to have approx_cost(for two people) from just above 0 to 6000.<br>\n",
        "However, most Restaurants seems to have approx_cost(for two people) less than 1000, with the mean being less than 500."
      ],
      "metadata": {
        "id": "OTgTDPVnTRyM"
      }
    },
    {
      "cell_type": "code",
      "source": [
        "plt.figure(figsize=(10,5))\n",
        "sns.barplot(x=df['rate'],y=df['approx_cost(for two people)'])\n",
        "plt.title('Mean Approx_cost(for two people) vs Rate')\n",
        "plt.xticks(rotation=90)"
      ],
      "metadata": {
        "colab": {
          "base_uri": "https://localhost:8080/"
        },
        "id": "FKj--lAXIl9o",
        "outputId": "7d1603d7-524a-4319-88aa-b3d621ea62e0"
      },
      "execution_count": null,
      "outputs": [
        {
          "output_type": "execute_result",
          "data": {
            "text/plain": [
              "(array([ 0,  1,  2,  3,  4,  5,  6,  7,  8,  9, 10, 11, 12, 13, 14, 15, 16,\n",
              "        17, 18, 19, 20, 21, 22, 23, 24, 25, 26, 27, 28, 29, 30]),\n",
              " <a list of 31 Text major ticklabel objects>)"
            ]
          },
          "metadata": {},
          "execution_count": 47
        },
        {
          "output_type": "display_data",
          "data": {
            "text/plain": [
              "<Figure size 720x360 with 1 Axes>"
            ],
            "image/png": "[encoded data removed]"
          },
          "metadata": {}
        }
      ]
    },
    {
      "cell_type": "markdown",
      "source": [
        "**Observation**<br>\n",
        "Although there is no clear cut trend visible for approx_cost for two people \n",
        "against rate upto the **rating value of 3.2**. However, above the rating value of 3.2, the approx_cost increases with increase in the rating. <br>The black line above each bar represents uncertainty. This uncertainty is low for the mid-rating values and high towards extreme.<br>\n",
        "Thus we can conclude that *above a certain rating, higher cost restaurants seems to have higher ratings*."
      ],
      "metadata": {
        "id": "vmAYe8yGRAvq"
      }
    },
    {
      "cell_type": "markdown",
      "source": [
        "##Top Restaurant Types "
      ],
      "metadata": {
        "id": "WLEaaTuO9NyK"
      }
    },
    {
      "cell_type": "code",
      "source": [
        "#Top Restaurant types by number of outlets\n",
        "rest_types=df['rest_type'].value_counts()[:20].plot.bar()\n",
        "plt.title('Top Restaurant by number of outlets')"
      ],
      "metadata": {
        "colab": {
          "base_uri": "https://localhost:8080/"
        },
        "id": "qqxd_YdZk3Bg",
        "outputId": "239c46dc-3ee8-4dad-d5ea-2b2f708e26e2"
      },
      "execution_count": null,
      "outputs": [
        {
          "output_type": "execute_result",
          "data": {
            "text/plain": [
              "Text(0.5, 1.0, 'Top Restaurant by number of outlets')"
            ]
          },
          "metadata": {},
          "execution_count": 48
        },
        {
          "output_type": "display_data",
          "data": {
            "text/plain": [
              "<Figure size 432x288 with 1 Axes>"
            ],
            "image/png": "[encoded data removed]"
          },
          "metadata": {}
        }
      ]
    },
    {
      "cell_type": "markdown",
      "source": [
        "In terms of number of outlets, Quick Bites seems to be most common restaurant types. Along with it other most common restaurant types one can find in Bangalore are Casual Dining, Delivery, Cafe, Dessert Parlor,etc."
      ],
      "metadata": {
        "id": "VsHp2vgHAUp_"
      }
    },
    {
      "cell_type": "code",
      "source": [
        "#Top 10 Restaurant Type by Mean Rating\n",
        "top10_typeby_rate=df.groupby('rest_type')['rate'].mean().sort_values(ascending=False)[:10]\n",
        "sns.barplot(x=top10_typeby_rate.index,y=top10_typeby_rate)\n",
        "plt.title('Top 10 Restaurant Types by Ratings')\n",
        "plt.xticks(rotation=90)"
      ],
      "metadata": {
        "colab": {
          "base_uri": "https://localhost:8080/"
        },
        "id": "SNdx5rFd4Auf",
        "outputId": "35ea021d-1904-4f41-a61e-a0237edc9274"
      },
      "execution_count": null,
      "outputs": [
        {
          "output_type": "execute_result",
          "data": {
            "text/plain": [
              "(array([0, 1, 2, 3, 4, 5, 6, 7, 8, 9]),\n",
              " <a list of 10 Text major ticklabel objects>)"
            ]
          },
          "metadata": {},
          "execution_count": 49
        },
        {
          "output_type": "display_data",
          "data": {
            "text/plain": [
              "<Figure size 432x288 with 1 Axes>"
            ],
            "image/png": "[encoded data removed]"
          },
          "metadata": {}
        }
      ]
    },
    {
      "cell_type": "markdown",
      "source": [
        "In terms of Restaurant performance and Rating, 'Bar,Pub' type seems to do more good than others. Other top performing restaurant types in Bangalore are Pub-Cafe, Microbrewery-Bar,etc. It seems the Pub-Brewery-Bar_Cafe seems to give an enjoyable and likeable experience in Bangalore."
      ],
      "metadata": {
        "id": "Ck44kLz6BdD_"
      }
    },
    {
      "cell_type": "code",
      "source": [
        "#Top 10 restaurant type by Mean Votes\n",
        "top10_typeby_vote=df.groupby('rest_type')['votes'].mean().sort_values(ascending=False)[:10]\n",
        "sns.barplot(x=top10_typeby_vote.index,y=top10_typeby_vote)\n",
        "plt.title('Top 10 Restaurant Types by Votes')\n",
        "plt.xticks(rotation=90)"
      ],
      "metadata": {
        "colab": {
          "base_uri": "https://localhost:8080/"
        },
        "id": "fldtL1Rp7LDl",
        "outputId": "a1b679ec-178f-419e-eb70-e069fe8a857d"
      },
      "execution_count": null,
      "outputs": [
        {
          "output_type": "execute_result",
          "data": {
            "text/plain": [
              "(array([0, 1, 2, 3, 4, 5, 6, 7, 8, 9]),\n",
              " <a list of 10 Text major ticklabel objects>)"
            ]
          },
          "metadata": {},
          "execution_count": 50
        },
        {
          "output_type": "display_data",
          "data": {
            "text/plain": [
              "<Figure size 432x288 with 1 Axes>"
            ],
            "image/png": "[encoded data removed]"
          },
          "metadata": {}
        }
      ]
    },
    {
      "cell_type": "markdown",
      "source": [
        "Voting indicates the popularity of a restaurant. The most popular restaurant type in Bangalore are Microbrewery, Microbrewery-Pub, Lounge-Microbrewery. It seems to be again the Pub-Brewery-Bar-Cafe are the most popular restaurant types in Bangalore."
      ],
      "metadata": {
        "id": "YNBlhTyNCo6Y"
      }
    },
    {
      "cell_type": "markdown",
      "source": [
        "##Cuisine Type"
      ],
      "metadata": {
        "id": "hkCFuqOq_4g4"
      }
    },
    {
      "cell_type": "code",
      "source": [
        "#Split restaurant record into different rows based on different cuisines value. Done by using .explode()\n",
        "df_cuisine=df['cuisines'].str.split(',')\n",
        "df_cuisine=df.assign(cuisines=df['cuisines'].str.split(',')).explode('cuisines')\n",
        "df_cuisine.head()"
      ],
      "metadata": {
        "colab": {
          "base_uri": "https://localhost:8080/",
          "height": 652
        },
        "id": "uJTq0ehbREpu",
        "outputId": "ce15fd9c-923c-42c8-a2c1-867765ab3085"
      },
      "execution_count": null,
      "outputs": [
        {
          "output_type": "execute_result",
          "data": {
            "text/plain": [
              "                                                 url  \\\n",
              "0  https://www.zomato.com/bangalore/cafe-coffee-d...   \n",
              "0  https://www.zomato.com/bangalore/cafe-coffee-d...   \n",
              "1  https://www.zomato.com/bangalore/cuppa-1-banas...   \n",
              "1  https://www.zomato.com/bangalore/cuppa-1-banas...   \n",
              "2  https://www.zomato.com/bangalore/beijing-bites...   \n",
              "\n",
              "                                             address             name  \\\n",
              "0  SRF Complex, Near BDA Complex, Kathreguppe Mai...  Cafe Coffee Day   \n",
              "0  SRF Complex, Near BDA Complex, Kathreguppe Mai...  Cafe Coffee Day   \n",
              "1  940, Shantha Complex, 20th Main, 2nd Stage, Ba...            Cuppa   \n",
              "1  940, Shantha Complex, 20th Main, 2nd Stage, Ba...            Cuppa   \n",
              "2  179, 1st Floor, Jawarlalnehru Road, BEML Layou...    Beijing Bites   \n",
              "\n",
              "  online_order book_table  rate  votes                         phone  \\\n",
              "0           No         No   3.6     28                  080 32486296   \n",
              "0           No         No   3.6     28                  080 32486296   \n",
              "1           No         No   3.3     23                +91 9591111123   \n",
              "1           No         No   3.3     23                +91 9591111123   \n",
              "2          Yes         No   3.7    679  080 28606888\\r\\n080 28606886   \n",
              "\n",
              "               location      rest_type  \\\n",
              "0          Banashankari           Cafe   \n",
              "0          Banashankari           Cafe   \n",
              "1          Banashankari           Cafe   \n",
              "1          Banashankari           Cafe   \n",
              "2  Rajarajeshwari Nagar  Casual Dining   \n",
              "\n",
              "                                          dish_liked    cuisines  \\\n",
              "0                                                NaN        Cafe   \n",
              "0                                                NaN   Fast Food   \n",
              "1                                                NaN        Cafe   \n",
              "1                                                NaN   Fast Food   \n",
              "2  Momos, Dragon Chicken, Hakka Noodles, Chowmein...     Chinese   \n",
              "\n",
              "   approx_cost(for two people)  \\\n",
              "0                        900.0   \n",
              "0                        900.0   \n",
              "1                        550.0   \n",
              "1                        550.0   \n",
              "2                        850.0   \n",
              "\n",
              "                                        reviews_list menu_item  \\\n",
              "0  [('Rated 4.0', 'RATED\\n  This outlet is better...        []   \n",
              "0  [('Rated 4.0', 'RATED\\n  This outlet is better...        []   \n",
              "1  [('Rated 1.5', 'RATED\\n  This place was good t...        []   \n",
              "1  [('Rated 1.5', 'RATED\\n  This place was good t...        []   \n",
              "2  [('Rated 3.0', 'RATED\\n  IÃ\\x83Ã\\x83Ã\\x82Ã...        []   \n",
              "\n",
              "  listed_in(type) listed_in(city)  \n",
              "0           Cafes    Banashankari  \n",
              "0           Cafes    Banashankari  \n",
              "1           Cafes    Banashankari  \n",
              "1           Cafes    Banashankari  \n",
              "2        Delivery    Banashankari  "
            ],
            "text/html": [
              "\n",
              "  <div id=\"df-7e29261d-03f3-4da3-9297-661c8d843968\">\n",
              "    <div class=\"colab-df-container\">\n",
              "      <div>\n",
              "<style scoped>\n",
              "    .dataframe tbody tr th:only-of-type {\n",
              "        vertical-align: middle;\n",
              "    }\n",
              "\n",
              "    .dataframe tbody tr th {\n",
              "        vertical-align: top;\n",
              "    }\n",
              "\n",
              "    .dataframe thead th {\n",
              "        text-align: right;\n",
              "    }\n",
              "</style>\n",
              "<table border=\"1\" class=\"dataframe\">\n",
              "  <thead>\n",
              "    <tr style=\"text-align: right;\">\n",
              "      <th></th>\n",
              "      <th>url</th>\n",
              "      <th>address</th>\n",
              "      <th>name</th>\n",
              "      <th>online_order</th>\n",
              "      <th>book_table</th>\n",
              "      <th>rate</th>\n",
              "      <th>votes</th>\n",
              "      <th>phone</th>\n",
              "      <th>location</th>\n",
              "      <th>rest_type</th>\n",
              "      <th>dish_liked</th>\n",
              "      <th>cuisines</th>\n",
              "      <th>approx_cost(for two people)</th>\n",
              "      <th>reviews_list</th>\n",
              "      <th>menu_item</th>\n",
              "      <th>listed_in(type)</th>\n",
              "      <th>listed_in(city)</th>\n",
              "    </tr>\n",
              "  </thead>\n",
              "  <tbody>\n",
              "    <tr>\n",
              "      <th>0</th>\n",
              "      <td>https://www.zomato.com/bangalore/cafe-coffee-d...</td>\n",
              "      <td>SRF Complex, Near BDA Complex, Kathreguppe Mai...</td>\n",
              "      <td>Cafe Coffee Day</td>\n",
              "      <td>No</td>\n",
              "      <td>No</td>\n",
              "      <td>3.6</td>\n",
              "      <td>28</td>\n",
              "      <td>080 32486296</td>\n",
              "      <td>Banashankari</td>\n",
              "      <td>Cafe</td>\n",
              "      <td>NaN</td>\n",
              "      <td>Cafe</td>\n",
              "      <td>900.0</td>\n",
              "      <td>[('Rated 4.0', 'RATED\\n  This outlet is better...</td>\n",
              "      <td>[]</td>\n",
              "      <td>Cafes</td>\n",
              "      <td>Banashankari</td>\n",
              "    </tr>\n",
              "    <tr>\n",
              "      <th>0</th>\n",
              "      <td>https://www.zomato.com/bangalore/cafe-coffee-d...</td>\n",
              "      <td>SRF Complex, Near BDA Complex, Kathreguppe Mai...</td>\n",
              "      <td>Cafe Coffee Day</td>\n",
              "      <td>No</td>\n",
              "      <td>No</td>\n",
              "      <td>3.6</td>\n",
              "      <td>28</td>\n",
              "      <td>080 32486296</td>\n",
              "      <td>Banashankari</td>\n",
              "      <td>Cafe</td>\n",
              "      <td>NaN</td>\n",
              "      <td>Fast Food</td>\n",
              "      <td>900.0</td>\n",
              "      <td>[('Rated 4.0', 'RATED\\n  This outlet is better...</td>\n",
              "      <td>[]</td>\n",
              "      <td>Cafes</td>\n",
              "      <td>Banashankari</td>\n",
              "    </tr>\n",
              "    <tr>\n",
              "      <th>1</th>\n",
              "      <td>https://www.zomato.com/bangalore/cuppa-1-banas...</td>\n",
              "      <td>940, Shantha Complex, 20th Main, 2nd Stage, Ba...</td>\n",
              "      <td>Cuppa</td>\n",
              "      <td>No</td>\n",
              "      <td>No</td>\n",
              "      <td>3.3</td>\n",
              "      <td>23</td>\n",
              "      <td>+91 9591111123</td>\n",
              "      <td>Banashankari</td>\n",
              "      <td>Cafe</td>\n",
              "      <td>NaN</td>\n",
              "      <td>Cafe</td>\n",
              "      <td>550.0</td>\n",
              "      <td>[('Rated 1.5', 'RATED\\n  This place was good t...</td>\n",
              "      <td>[]</td>\n",
              "      <td>Cafes</td>\n",
              "      <td>Banashankari</td>\n",
              "    </tr>\n",
              "    <tr>\n",
              "      <th>1</th>\n",
              "      <td>https://www.zomato.com/bangalore/cuppa-1-banas...</td>\n",
              "      <td>940, Shantha Complex, 20th Main, 2nd Stage, Ba...</td>\n",
              "      <td>Cuppa</td>\n",
              "      <td>No</td>\n",
              "      <td>No</td>\n",
              "      <td>3.3</td>\n",
              "      <td>23</td>\n",
              "      <td>+91 9591111123</td>\n",
              "      <td>Banashankari</td>\n",
              "      <td>Cafe</td>\n",
              "      <td>NaN</td>\n",
              "      <td>Fast Food</td>\n",
              "      <td>550.0</td>\n",
              "      <td>[('Rated 1.5', 'RATED\\n  This place was good t...</td>\n",
              "      <td>[]</td>\n",
              "      <td>Cafes</td>\n",
              "      <td>Banashankari</td>\n",
              "    </tr>\n",
              "    <tr>\n",
              "      <th>2</th>\n",
              "      <td>https://www.zomato.com/bangalore/beijing-bites...</td>\n",
              "      <td>179, 1st Floor, Jawarlalnehru Road, BEML Layou...</td>\n",
              "      <td>Beijing Bites</td>\n",
              "      <td>Yes</td>\n",
              "      <td>No</td>\n",
              "      <td>3.7</td>\n",
              "      <td>679</td>\n",
              "      <td>080 28606888\\r\\n080 28606886</td>\n",
              "      <td>Rajarajeshwari Nagar</td>\n",
              "      <td>Casual Dining</td>\n",
              "      <td>Momos, Dragon Chicken, Hakka Noodles, Chowmein...</td>\n",
              "      <td>Chinese</td>\n",
              "      <td>850.0</td>\n",
              "      <td>[('Rated 3.0', 'RATED\\n  IÃ\\x83Ã\\x83Ã\\x82Ã...</td>\n",
              "      <td>[]</td>\n",
              "      <td>Delivery</td>\n",
              "      <td>Banashankari</td>\n",
              "    </tr>\n",
              "  </tbody>\n",
              "</table>\n",
              "</div>\n",
              "      <button class=\"colab-df-convert\" onclick=\"convertToInteractive('df-7e29261d-03f3-4da3-9297-661c8d843968')\"\n",
              "              title=\"Convert this dataframe to an interactive table.\"\n",
              "              style=\"display:none;\">\n",
              "        \n",
              "  <svg xmlns=\"http://www.w3.org/2000/svg\" height=\"24px\"viewBox=\"0 0 24 24\"\n",
              "       width=\"24px\">\n",
              "    <path d=\"M0 0h24v24H0V0z\" fill=\"none\"/>\n",
              "    <path d=\"M18.56 5.44l.94 2.06.94-2.06 2.06-.94-2.06-.94-.94-2.06-.94 2.06-2.06.94zm-11 1L8.5 8.5l.94-2.06 2.06-.94-2.06-.94L8.5 2.5l-.94 2.06-2.06.94zm10 10l.94 2.06.94-2.06 2.06-.94-2.06-.94-.94-2.06-.94 2.06-2.06.94z\"/><path d=\"M17.41 7.96l-1.37-1.37c-.4-.4-.92-.59-1.43-.59-.52 0-1.04.2-1.43.59L10.3 9.45l-7.72 7.72c-.78.78-.78 2.05 0 2.83L4 21.41c.39.39.9.59 1.41.59.51 0 1.02-.2 1.41-.59l7.78-7.78 2.81-2.81c.8-.78.8-2.07 0-2.86zM5.41 20L4 18.59l7.72-7.72 1.47 1.35L5.41 20z\"/>\n",
              "  </svg>\n",
              "      </button>\n",
              "      \n",
              "  <style>\n",
              "    .colab-df-container {\n",
              "      display:flex;\n",
              "      flex-wrap:wrap;\n",
              "      gap: 12px;\n",
              "    }\n",
              "\n",
              "    .colab-df-convert {\n",
              "      background-color: #E8F0FE;\n",
              "      border: none;\n",
              "      border-radius: 50%;\n",
              "      cursor: pointer;\n",
              "      display: none;\n",
              "      fill: #1967D2;\n",
              "      height: 32px;\n",
              "      padding: 0 0 0 0;\n",
              "      width: 32px;\n",
              "    }\n",
              "\n",
              "    .colab-df-convert:hover {\n",
              "      background-color: #E2EBFA;\n",
              "      box-shadow: 0px 1px 2px rgba(60, 64, 67, 0.3), 0px 1px 3px 1px rgba(60, 64, 67, 0.15);\n",
              "      fill: #174EA6;\n",
              "    }\n",
              "\n",
              "    [theme=dark] .colab-df-convert {\n",
              "      background-color: #3B4455;\n",
              "      fill: #D2E3FC;\n",
              "    }\n",
              "\n",
              "    [theme=dark] .colab-df-convert:hover {\n",
              "      background-color: #434B5C;\n",
              "      box-shadow: 0px 1px 3px 1px rgba(0, 0, 0, 0.15);\n",
              "      filter: drop-shadow(0px 1px 2px rgba(0, 0, 0, 0.3));\n",
              "      fill: #FFFFFF;\n",
              "    }\n",
              "  </style>\n",
              "\n",
              "      <script>\n",
              "        const buttonEl =\n",
              "          document.querySelector('#df-7e29261d-03f3-4da3-9297-661c8d843968 button.colab-df-convert');\n",
              "        buttonEl.style.display =\n",
              "          google.colab.kernel.accessAllowed ? 'block' : 'none';\n",
              "\n",
              "        async function convertToInteractive(key) {\n",
              "          const element = document.querySelector('#df-7e29261d-03f3-4da3-9297-661c8d843968');\n",
              "          const dataTable =\n",
              "            await google.colab.kernel.invokeFunction('convertToInteractive',\n",
              "                                                     [key], {});\n",
              "          if (!dataTable) return;\n",
              "\n",
              "          const docLinkHtml = 'Like what you see? Visit the ' +\n",
              "            '<a target=\"_blank\" href=https://colab.research.google.com/notebooks/data_table.ipynb>data table notebook</a>'\n",
              "            + ' to learn more about interactive tables.';\n",
              "          element.innerHTML = '';\n",
              "          dataTable['output_type'] = 'display_data';\n",
              "          await google.colab.output.renderOutput(dataTable, element);\n",
              "          const docLink = document.createElement('div');\n",
              "          docLink.innerHTML = docLinkHtml;\n",
              "          element.appendChild(docLink);\n",
              "        }\n",
              "      </script>\n",
              "    </div>\n",
              "  </div>\n",
              "  "
            ]
          },
          "metadata": {},
          "execution_count": 51
        }
      ]
    },
    {
      "cell_type": "code",
      "source": [
        "def remove_space(x):\n",
        "  if isinstance(x, str):\n",
        "    if x[0]==' ':\n",
        "      return x[1:]\n",
        "    else: return x\n",
        "  else: return x\n",
        "\n",
        "df_cuisine['cuisines'] = df_cuisine['cuisines'].apply(remove_space)\n",
        "df_cuisine"
      ],
      "metadata": {
        "colab": {
          "base_uri": "https://localhost:8080/",
          "height": 1000
        },
        "id": "UEF3q1sVjGlv",
        "outputId": "b8cd4cef-935f-4ee9-e44f-d71da68826db"
      },
      "execution_count": null,
      "outputs": [
        {
          "output_type": "execute_result",
          "data": {
            "text/plain": [
              "                                                    url  \\\n",
              "0     https://www.zomato.com/bangalore/cafe-coffee-d...   \n",
              "0     https://www.zomato.com/bangalore/cafe-coffee-d...   \n",
              "1     https://www.zomato.com/bangalore/cuppa-1-banas...   \n",
              "1     https://www.zomato.com/bangalore/cuppa-1-banas...   \n",
              "2     https://www.zomato.com/bangalore/beijing-bites...   \n",
              "...                                                 ...   \n",
              "9475  https://www.zomato.com/bangalore/best-brews-fo...   \n",
              "9476  https://www.zomato.com/bangalore/chime-sherato...   \n",
              "9477  https://www.zomato.com/bangalore/the-nest-the-...   \n",
              "9477  https://www.zomato.com/bangalore/the-nest-the-...   \n",
              "9477  https://www.zomato.com/bangalore/the-nest-the-...   \n",
              "\n",
              "                                                address  \\\n",
              "0     SRF Complex, Near BDA Complex, Kathreguppe Mai...   \n",
              "0     SRF Complex, Near BDA Complex, Kathreguppe Mai...   \n",
              "1     940, Shantha Complex, 20th Main, 2nd Stage, Ba...   \n",
              "1     940, Shantha Complex, 20th Main, 2nd Stage, Ba...   \n",
              "2     179, 1st Floor, Jawarlalnehru Road, BEML Layou...   \n",
              "...                                                 ...   \n",
              "9475  Four Points by Sheraton Bengaluru, 43/3, White...   \n",
              "9476  Sheraton Grand Bengaluru Whitefield Hotel & Co...   \n",
              "9477  ITPL Main Road, KIADB Export Promotion Industr...   \n",
              "9477  ITPL Main Road, KIADB Export Promotion Industr...   \n",
              "9477  ITPL Main Road, KIADB Export Promotion Industr...   \n",
              "\n",
              "                                                   name online_order  \\\n",
              "0                                       Cafe Coffee Day           No   \n",
              "0                                       Cafe Coffee Day           No   \n",
              "1                                                 Cuppa           No   \n",
              "1                                                 Cuppa           No   \n",
              "2                                         Beijing Bites          Yes   \n",
              "...                                                 ...          ...   \n",
              "9475  Best Brews - Four Points by Sheraton Bengaluru...           No   \n",
              "9476  Chime - Sheraton Grand Bengaluru Whitefield Ho...           No   \n",
              "9477                       The Nest - The Den Bengaluru           No   \n",
              "9477                       The Nest - The Den Bengaluru           No   \n",
              "9477                       The Nest - The Den Bengaluru           No   \n",
              "\n",
              "     book_table  rate  votes                         phone  \\\n",
              "0            No   3.6     28                  080 32486296   \n",
              "0            No   3.6     28                  080 32486296   \n",
              "1            No   3.3     23                +91 9591111123   \n",
              "1            No   3.3     23                +91 9591111123   \n",
              "2            No   3.7    679  080 28606888\\r\\n080 28606886   \n",
              "...         ...   ...    ...                           ...   \n",
              "9475         No   3.6     27                  080 40301477   \n",
              "9476        Yes   4.3    236                  080 49652769   \n",
              "9477         No   3.4     13                +91 8071117272   \n",
              "9477         No   3.4     13                +91 8071117272   \n",
              "9477         No   3.4     13                +91 8071117272   \n",
              "\n",
              "                        location           rest_type  \\\n",
              "0                   Banashankari                Cafe   \n",
              "0                   Banashankari                Cafe   \n",
              "1                   Banashankari                Cafe   \n",
              "1                   Banashankari                Cafe   \n",
              "2           Rajarajeshwari Nagar       Casual Dining   \n",
              "...                          ...                 ...   \n",
              "9475                  Whitefield                 Bar   \n",
              "9476  ITPL Main Road, Whitefield                 Bar   \n",
              "9477  ITPL Main Road, Whitefield  Bar, Casual Dining   \n",
              "9477  ITPL Main Road, Whitefield  Bar, Casual Dining   \n",
              "9477  ITPL Main Road, Whitefield  Bar, Casual Dining   \n",
              "\n",
              "                                             dish_liked      cuisines  \\\n",
              "0                                                   NaN          Cafe   \n",
              "0                                                   NaN     Fast Food   \n",
              "1                                                   NaN          Cafe   \n",
              "1                                                   NaN     Fast Food   \n",
              "2     Momos, Dragon Chicken, Hakka Noodles, Chowmein...       Chinese   \n",
              "...                                                 ...           ...   \n",
              "9475                                                NaN   Continental   \n",
              "9476                       Cocktails, Pizza, Buttermilk   Finger Food   \n",
              "9477                                                NaN   Finger Food   \n",
              "9477                                                NaN  North Indian   \n",
              "9477                                                NaN   Continental   \n",
              "\n",
              "      approx_cost(for two people)  \\\n",
              "0                           900.0   \n",
              "0                           900.0   \n",
              "1                           550.0   \n",
              "1                           550.0   \n",
              "2                           850.0   \n",
              "...                           ...   \n",
              "9475                       1500.0   \n",
              "9476                       2500.0   \n",
              "9477                       1500.0   \n",
              "9477                       1500.0   \n",
              "9477                       1500.0   \n",
              "\n",
              "                                           reviews_list menu_item  \\\n",
              "0     [('Rated 4.0', 'RATED\\n  This outlet is better...        []   \n",
              "0     [('Rated 4.0', 'RATED\\n  This outlet is better...        []   \n",
              "1     [('Rated 1.5', 'RATED\\n  This place was good t...        []   \n",
              "1     [('Rated 1.5', 'RATED\\n  This place was good t...        []   \n",
              "2     [('Rated 3.0', 'RATED\\n  IÃ\\x83Ã\\x83Ã\\x82Ã...        []   \n",
              "...                                                 ...       ...   \n",
              "9475  [('Rated 5.0', \"RATED\\n  Food and service are ...        []   \n",
              "9476  [('Rated 4.0', 'RATED\\n  Nice and friendly pla...        []   \n",
              "9477  [('Rated 5.0', 'RATED\\n  Great ambience , look...        []   \n",
              "9477  [('Rated 5.0', 'RATED\\n  Great ambience , look...        []   \n",
              "9477  [('Rated 5.0', 'RATED\\n  Great ambience , look...        []   \n",
              "\n",
              "     listed_in(type) listed_in(city)  \n",
              "0              Cafes    Banashankari  \n",
              "0              Cafes    Banashankari  \n",
              "1              Cafes    Banashankari  \n",
              "1              Cafes    Banashankari  \n",
              "2           Delivery    Banashankari  \n",
              "...              ...             ...  \n",
              "9475   Pubs and bars      Whitefield  \n",
              "9476   Pubs and bars      Whitefield  \n",
              "9477   Pubs and bars      Whitefield  \n",
              "9477   Pubs and bars      Whitefield  \n",
              "9477   Pubs and bars      Whitefield  \n",
              "\n",
              "[22898 rows x 17 columns]"
            ],
            "text/html": [
              "\n",
              "  <div id=\"df-aef42fdf-56fc-4bd4-9661-d34b11adfc27\">\n",
              "    <div class=\"colab-df-container\">\n",
              "      <div>\n",
              "<style scoped>\n",
              "    .dataframe tbody tr th:only-of-type {\n",
              "        vertical-align: middle;\n",
              "    }\n",
              "\n",
              "    .dataframe tbody tr th {\n",
              "        vertical-align: top;\n",
              "    }\n",
              "\n",
              "    .dataframe thead th {\n",
              "        text-align: right;\n",
              "    }\n",
              "</style>\n",
              "<table border=\"1\" class=\"dataframe\">\n",
              "  <thead>\n",
              "    <tr style=\"text-align: right;\">\n",
              "      <th></th>\n",
              "      <th>url</th>\n",
              "      <th>address</th>\n",
              "      <th>name</th>\n",
              "      <th>online_order</th>\n",
              "      <th>book_table</th>\n",
              "      <th>rate</th>\n",
              "      <th>votes</th>\n",
              "      <th>phone</th>\n",
              "      <th>location</th>\n",
              "      <th>rest_type</th>\n",
              "      <th>dish_liked</th>\n",
              "      <th>cuisines</th>\n",
              "      <th>approx_cost(for two people)</th>\n",
              "      <th>reviews_list</th>\n",
              "      <th>menu_item</th>\n",
              "      <th>listed_in(type)</th>\n",
              "      <th>listed_in(city)</th>\n",
              "    </tr>\n",
              "  </thead>\n",
              "  <tbody>\n",
              "    <tr>\n",
              "      <th>0</th>\n",
              "      <td>https://www.zomato.com/bangalore/cafe-coffee-d...</td>\n",
              "      <td>SRF Complex, Near BDA Complex, Kathreguppe Mai...</td>\n",
              "      <td>Cafe Coffee Day</td>\n",
              "      <td>No</td>\n",
              "      <td>No</td>\n",
              "      <td>3.6</td>\n",
              "      <td>28</td>\n",
              "      <td>080 32486296</td>\n",
              "      <td>Banashankari</td>\n",
              "      <td>Cafe</td>\n",
              "      <td>NaN</td>\n",
              "      <td>Cafe</td>\n",
              "      <td>900.0</td>\n",
              "      <td>[('Rated 4.0', 'RATED\\n  This outlet is better...</td>\n",
              "      <td>[]</td>\n",
              "      <td>Cafes</td>\n",
              "      <td>Banashankari</td>\n",
              "    </tr>\n",
              "    <tr>\n",
              "      <th>0</th>\n",
              "      <td>https://www.zomato.com/bangalore/cafe-coffee-d...</td>\n",
              "      <td>SRF Complex, Near BDA Complex, Kathreguppe Mai...</td>\n",
              "      <td>Cafe Coffee Day</td>\n",
              "      <td>No</td>\n",
              "      <td>No</td>\n",
              "      <td>3.6</td>\n",
              "      <td>28</td>\n",
              "      <td>080 32486296</td>\n",
              "      <td>Banashankari</td>\n",
              "      <td>Cafe</td>\n",
              "      <td>NaN</td>\n",
              "      <td>Fast Food</td>\n",
              "      <td>900.0</td>\n",
              "      <td>[('Rated 4.0', 'RATED\\n  This outlet is better...</td>\n",
              "      <td>[]</td>\n",
              "      <td>Cafes</td>\n",
              "      <td>Banashankari</td>\n",
              "    </tr>\n",
              "    <tr>\n",
              "      <th>1</th>\n",
              "      <td>https://www.zomato.com/bangalore/cuppa-1-banas...</td>\n",
              "      <td>940, Shantha Complex, 20th Main, 2nd Stage, Ba...</td>\n",
              "      <td>Cuppa</td>\n",
              "      <td>No</td>\n",
              "      <td>No</td>\n",
              "      <td>3.3</td>\n",
              "      <td>23</td>\n",
              "      <td>+91 9591111123</td>\n",
              "      <td>Banashankari</td>\n",
              "      <td>Cafe</td>\n",
              "      <td>NaN</td>\n",
              "      <td>Cafe</td>\n",
              "      <td>550.0</td>\n",
              "      <td>[('Rated 1.5', 'RATED\\n  This place was good t...</td>\n",
              "      <td>[]</td>\n",
              "      <td>Cafes</td>\n",
              "      <td>Banashankari</td>\n",
              "    </tr>\n",
              "    <tr>\n",
              "      <th>1</th>\n",
              "      <td>https://www.zomato.com/bangalore/cuppa-1-banas...</td>\n",
              "      <td>940, Shantha Complex, 20th Main, 2nd Stage, Ba...</td>\n",
              "      <td>Cuppa</td>\n",
              "      <td>No</td>\n",
              "      <td>No</td>\n",
              "      <td>3.3</td>\n",
              "      <td>23</td>\n",
              "      <td>+91 9591111123</td>\n",
              "      <td>Banashankari</td>\n",
              "      <td>Cafe</td>\n",
              "      <td>NaN</td>\n",
              "      <td>Fast Food</td>\n",
              "      <td>550.0</td>\n",
              "      <td>[('Rated 1.5', 'RATED\\n  This place was good t...</td>\n",
              "      <td>[]</td>\n",
              "      <td>Cafes</td>\n",
              "      <td>Banashankari</td>\n",
              "    </tr>\n",
              "    <tr>\n",
              "      <th>2</th>\n",
              "      <td>https://www.zomato.com/bangalore/beijing-bites...</td>\n",
              "      <td>179, 1st Floor, Jawarlalnehru Road, BEML Layou...</td>\n",
              "      <td>Beijing Bites</td>\n",
              "      <td>Yes</td>\n",
              "      <td>No</td>\n",
              "      <td>3.7</td>\n",
              "      <td>679</td>\n",
              "      <td>080 28606888\\r\\n080 28606886</td>\n",
              "      <td>Rajarajeshwari Nagar</td>\n",
              "      <td>Casual Dining</td>\n",
              "      <td>Momos, Dragon Chicken, Hakka Noodles, Chowmein...</td>\n",
              "      <td>Chinese</td>\n",
              "      <td>850.0</td>\n",
              "      <td>[('Rated 3.0', 'RATED\\n  IÃ\\x83Ã\\x83Ã\\x82Ã...</td>\n",
              "      <td>[]</td>\n",
              "      <td>Delivery</td>\n",
              "      <td>Banashankari</td>\n",
              "    </tr>\n",
              "    <tr>\n",
              "      <th>...</th>\n",
              "      <td>...</td>\n",
              "      <td>...</td>\n",
              "      <td>...</td>\n",
              "      <td>...</td>\n",
              "      <td>...</td>\n",
              "      <td>...</td>\n",
              "      <td>...</td>\n",
              "      <td>...</td>\n",
              "      <td>...</td>\n",
              "      <td>...</td>\n",
              "      <td>...</td>\n",
              "      <td>...</td>\n",
              "      <td>...</td>\n",
              "      <td>...</td>\n",
              "      <td>...</td>\n",
              "      <td>...</td>\n",
              "      <td>...</td>\n",
              "    </tr>\n",
              "    <tr>\n",
              "      <th>9475</th>\n",
              "      <td>https://www.zomato.com/bangalore/best-brews-fo...</td>\n",
              "      <td>Four Points by Sheraton Bengaluru, 43/3, White...</td>\n",
              "      <td>Best Brews - Four Points by Sheraton Bengaluru...</td>\n",
              "      <td>No</td>\n",
              "      <td>No</td>\n",
              "      <td>3.6</td>\n",
              "      <td>27</td>\n",
              "      <td>080 40301477</td>\n",
              "      <td>Whitefield</td>\n",
              "      <td>Bar</td>\n",
              "      <td>NaN</td>\n",
              "      <td>Continental</td>\n",
              "      <td>1500.0</td>\n",
              "      <td>[('Rated 5.0', \"RATED\\n  Food and service are ...</td>\n",
              "      <td>[]</td>\n",
              "      <td>Pubs and bars</td>\n",
              "      <td>Whitefield</td>\n",
              "    </tr>\n",
              "    <tr>\n",
              "      <th>9476</th>\n",
              "      <td>https://www.zomato.com/bangalore/chime-sherato...</td>\n",
              "      <td>Sheraton Grand Bengaluru Whitefield Hotel &amp; Co...</td>\n",
              "      <td>Chime - Sheraton Grand Bengaluru Whitefield Ho...</td>\n",
              "      <td>No</td>\n",
              "      <td>Yes</td>\n",
              "      <td>4.3</td>\n",
              "      <td>236</td>\n",
              "      <td>080 49652769</td>\n",
              "      <td>ITPL Main Road, Whitefield</td>\n",
              "      <td>Bar</td>\n",
              "      <td>Cocktails, Pizza, Buttermilk</td>\n",
              "      <td>Finger Food</td>\n",
              "      <td>2500.0</td>\n",
              "      <td>[('Rated 4.0', 'RATED\\n  Nice and friendly pla...</td>\n",
              "      <td>[]</td>\n",
              "      <td>Pubs and bars</td>\n",
              "      <td>Whitefield</td>\n",
              "    </tr>\n",
              "    <tr>\n",
              "      <th>9477</th>\n",
              "      <td>https://www.zomato.com/bangalore/the-nest-the-...</td>\n",
              "      <td>ITPL Main Road, KIADB Export Promotion Industr...</td>\n",
              "      <td>The Nest - The Den Bengaluru</td>\n",
              "      <td>No</td>\n",
              "      <td>No</td>\n",
              "      <td>3.4</td>\n",
              "      <td>13</td>\n",
              "      <td>+91 8071117272</td>\n",
              "      <td>ITPL Main Road, Whitefield</td>\n",
              "      <td>Bar, Casual Dining</td>\n",
              "      <td>NaN</td>\n",
              "      <td>Finger Food</td>\n",
              "      <td>1500.0</td>\n",
              "      <td>[('Rated 5.0', 'RATED\\n  Great ambience , look...</td>\n",
              "      <td>[]</td>\n",
              "      <td>Pubs and bars</td>\n",
              "      <td>Whitefield</td>\n",
              "    </tr>\n",
              "    <tr>\n",
              "      <th>9477</th>\n",
              "      <td>https://www.zomato.com/bangalore/the-nest-the-...</td>\n",
              "      <td>ITPL Main Road, KIADB Export Promotion Industr...</td>\n",
              "      <td>The Nest - The Den Bengaluru</td>\n",
              "      <td>No</td>\n",
              "      <td>No</td>\n",
              "      <td>3.4</td>\n",
              "      <td>13</td>\n",
              "      <td>+91 8071117272</td>\n",
              "      <td>ITPL Main Road, Whitefield</td>\n",
              "      <td>Bar, Casual Dining</td>\n",
              "      <td>NaN</td>\n",
              "      <td>North Indian</td>\n",
              "      <td>1500.0</td>\n",
              "      <td>[('Rated 5.0', 'RATED\\n  Great ambience , look...</td>\n",
              "      <td>[]</td>\n",
              "      <td>Pubs and bars</td>\n",
              "      <td>Whitefield</td>\n",
              "    </tr>\n",
              "    <tr>\n",
              "      <th>9477</th>\n",
              "      <td>https://www.zomato.com/bangalore/the-nest-the-...</td>\n",
              "      <td>ITPL Main Road, KIADB Export Promotion Industr...</td>\n",
              "      <td>The Nest - The Den Bengaluru</td>\n",
              "      <td>No</td>\n",
              "      <td>No</td>\n",
              "      <td>3.4</td>\n",
              "      <td>13</td>\n",
              "      <td>+91 8071117272</td>\n",
              "      <td>ITPL Main Road, Whitefield</td>\n",
              "      <td>Bar, Casual Dining</td>\n",
              "      <td>NaN</td>\n",
              "      <td>Continental</td>\n",
              "      <td>1500.0</td>\n",
              "      <td>[('Rated 5.0', 'RATED\\n  Great ambience , look...</td>\n",
              "      <td>[]</td>\n",
              "      <td>Pubs and bars</td>\n",
              "      <td>Whitefield</td>\n",
              "    </tr>\n",
              "  </tbody>\n",
              "</table>\n",
              "<p>22898 rows × 17 columns</p>\n",
              "</div>\n",
              "      <button class=\"colab-df-convert\" onclick=\"convertToInteractive('df-aef42fdf-56fc-4bd4-9661-d34b11adfc27')\"\n",
              "              title=\"Convert this dataframe to an interactive table.\"\n",
              "              style=\"display:none;\">\n",
              "        \n",
              "  <svg xmlns=\"http://www.w3.org/2000/svg\" height=\"24px\"viewBox=\"0 0 24 24\"\n",
              "       width=\"24px\">\n",
              "    <path d=\"M0 0h24v24H0V0z\" fill=\"none\"/>\n",
              "    <path d=\"M18.56 5.44l.94 2.06.94-2.06 2.06-.94-2.06-.94-.94-2.06-.94 2.06-2.06.94zm-11 1L8.5 8.5l.94-2.06 2.06-.94-2.06-.94L8.5 2.5l-.94 2.06-2.06.94zm10 10l.94 2.06.94-2.06 2.06-.94-2.06-.94-.94-2.06-.94 2.06-2.06.94z\"/><path d=\"M17.41 7.96l-1.37-1.37c-.4-.4-.92-.59-1.43-.59-.52 0-1.04.2-1.43.59L10.3 9.45l-7.72 7.72c-.78.78-.78 2.05 0 2.83L4 21.41c.39.39.9.59 1.41.59.51 0 1.02-.2 1.41-.59l7.78-7.78 2.81-2.81c.8-.78.8-2.07 0-2.86zM5.41 20L4 18.59l7.72-7.72 1.47 1.35L5.41 20z\"/>\n",
              "  </svg>\n",
              "      </button>\n",
              "      \n",
              "  <style>\n",
              "    .colab-df-container {\n",
              "      display:flex;\n",
              "      flex-wrap:wrap;\n",
              "      gap: 12px;\n",
              "    }\n",
              "\n",
              "    .colab-df-convert {\n",
              "      background-color: #E8F0FE;\n",
              "      border: none;\n",
              "      border-radius: 50%;\n",
              "      cursor: pointer;\n",
              "      display: none;\n",
              "      fill: #1967D2;\n",
              "      height: 32px;\n",
              "      padding: 0 0 0 0;\n",
              "      width: 32px;\n",
              "    }\n",
              "\n",
              "    .colab-df-convert:hover {\n",
              "      background-color: #E2EBFA;\n",
              "      box-shadow: 0px 1px 2px rgba(60, 64, 67, 0.3), 0px 1px 3px 1px rgba(60, 64, 67, 0.15);\n",
              "      fill: #174EA6;\n",
              "    }\n",
              "\n",
              "    [theme=dark] .colab-df-convert {\n",
              "      background-color: #3B4455;\n",
              "      fill: #D2E3FC;\n",
              "    }\n",
              "\n",
              "    [theme=dark] .colab-df-convert:hover {\n",
              "      background-color: #434B5C;\n",
              "      box-shadow: 0px 1px 3px 1px rgba(0, 0, 0, 0.15);\n",
              "      filter: drop-shadow(0px 1px 2px rgba(0, 0, 0, 0.3));\n",
              "      fill: #FFFFFF;\n",
              "    }\n",
              "  </style>\n",
              "\n",
              "      <script>\n",
              "        const buttonEl =\n",
              "          document.querySelector('#df-aef42fdf-56fc-4bd4-9661-d34b11adfc27 button.colab-df-convert');\n",
              "        buttonEl.style.display =\n",
              "          google.colab.kernel.accessAllowed ? 'block' : 'none';\n",
              "\n",
              "        async function convertToInteractive(key) {\n",
              "          const element = document.querySelector('#df-aef42fdf-56fc-4bd4-9661-d34b11adfc27');\n",
              "          const dataTable =\n",
              "            await google.colab.kernel.invokeFunction('convertToInteractive',\n",
              "                                                     [key], {});\n",
              "          if (!dataTable) return;\n",
              "\n",
              "          const docLinkHtml = 'Like what you see? Visit the ' +\n",
              "            '<a target=\"_blank\" href=https://colab.research.google.com/notebooks/data_table.ipynb>data table notebook</a>'\n",
              "            + ' to learn more about interactive tables.';\n",
              "          element.innerHTML = '';\n",
              "          dataTable['output_type'] = 'display_data';\n",
              "          await google.colab.output.renderOutput(dataTable, element);\n",
              "          const docLink = document.createElement('div');\n",
              "          docLink.innerHTML = docLinkHtml;\n",
              "          element.appendChild(docLink);\n",
              "        }\n",
              "      </script>\n",
              "    </div>\n",
              "  </div>\n",
              "  "
            ]
          },
          "metadata": {},
          "execution_count": 52
        }
      ]
    },
    {
      "cell_type": "code",
      "source": [
        "#Top Cuisines based on the number of outlets\n",
        "df_cuisine['cuisines'].value_counts()[:20].plot.bar()"
      ],
      "metadata": {
        "colab": {
          "base_uri": "https://localhost:8080/",
          "height": 335
        },
        "id": "3wSwG-cBhURK",
        "outputId": "145b0756-c881-472f-b86e-590403a1775c"
      },
      "execution_count": null,
      "outputs": [
        {
          "output_type": "execute_result",
          "data": {
            "text/plain": [
              "<matplotlib.axes._subplots.AxesSubplot at 0x7f3458e86b10>"
            ]
          },
          "metadata": {},
          "execution_count": 53
        },
        {
          "output_type": "display_data",
          "data": {
            "text/plain": [
              "<Figure size 432x288 with 1 Axes>"
            ],
            "image/png": "[encoded data removed]"
          },
          "metadata": {}
        }
      ]
    },
    {
      "cell_type": "markdown",
      "source": [
        "The most popular cuisine among the outlets of Bangalore seems to be North Indian, followed by Chinese and South Indian."
      ],
      "metadata": {
        "id": "W2kWAFExiIsq"
      }
    },
    {
      "cell_type": "code",
      "source": [
        "#Top Cuisines based on the mean Rating value for each cuisine\n",
        "top10_cuisinesby_rating=df_cuisine.groupby('cuisines')['rate'].mean().sort_values(ascending=False)[:10]\n",
        "sns.barplot(x=top10_cuisinesby_rating.index,y=top10_cuisinesby_rating)\n",
        "plt.title('Top 10 Cuisines by Rating')\n",
        "plt.xticks(rotation=90)"
      ],
      "metadata": {
        "colab": {
          "base_uri": "https://localhost:8080/",
          "height": 392
        },
        "id": "5812FSjzU3Er",
        "outputId": "7364eb51-5c27-413a-a24f-12ffc36af160"
      },
      "execution_count": null,
      "outputs": [
        {
          "output_type": "execute_result",
          "data": {
            "text/plain": [
              "(array([0, 1, 2, 3, 4, 5, 6, 7, 8, 9]),\n",
              " <a list of 10 Text major ticklabel objects>)"
            ]
          },
          "metadata": {},
          "execution_count": 54
        },
        {
          "output_type": "display_data",
          "data": {
            "text/plain": [
              "<Figure size 432x288 with 1 Axes>"
            ],
            "image/png": "[encoded data removed]"
          },
          "metadata": {}
        }
      ]
    },
    {
      "cell_type": "markdown",
      "source": [
        "Surprisingly, the Top 10 cuisines by Rating are the Foreign ones. Seems like people has been more accepting and aprreciative of ***uncommon foreign cuisines***."
      ],
      "metadata": {
        "id": "6UwuE2ND1ElP"
      }
    },
    {
      "cell_type": "code",
      "source": [
        "#Top Cuisines based on the mean Votes for each cuisine in all restaurants\n",
        "top10_cuisinesby_votes=df_cuisine.groupby('cuisines')['votes'].mean().sort_values(ascending=False)[:10]\n",
        "sns.barplot(x=top10_cuisinesby_votes.index,y=top10_cuisinesby_votes)\n",
        "plt.title('Top 10 Cuisine by Votes')\n",
        "plt.xticks(rotation=90)"
      ],
      "metadata": {
        "colab": {
          "base_uri": "https://localhost:8080/",
          "height": 394
        },
        "id": "aoaUu8syggLP",
        "outputId": "3e0e8911-bd9c-4b17-b0d2-0865671df23f"
      },
      "execution_count": null,
      "outputs": [
        {
          "output_type": "execute_result",
          "data": {
            "text/plain": [
              "(array([0, 1, 2, 3, 4, 5, 6, 7, 8, 9]),\n",
              " <a list of 10 Text major ticklabel objects>)"
            ]
          },
          "metadata": {},
          "execution_count": 55
        },
        {
          "output_type": "display_data",
          "data": {
            "text/plain": [
              "<Figure size 432x288 with 1 Axes>"
            ],
            "image/png": "[encoded data removed]"
          },
          "metadata": {}
        }
      ]
    },
    {
      "cell_type": "markdown",
      "source": [
        "Similar to the Top 10 by ratings, votes seems to accumulate in the uncommon foreign cuisines. People in Bangalore seems to have a broad taste for cuisines and definitely not limited to Indian ones."
      ],
      "metadata": {
        "id": "wgGA09Ve2Eg8"
      }
    },
    {
      "cell_type": "markdown",
      "source": [
        "##Region wise restaurant count on a *Map*"
      ],
      "metadata": {
        "id": "NFPaciwAjFLQ"
      }
    },
    {
      "cell_type": "code",
      "source": [
        "#Creating DataFrame of Location and the number of restaurant counts in it\n",
        "df_loc=pd.DataFrame(df['location'].value_counts())\n",
        "df_loc=df_loc.reset_index()\n",
        "df_loc.columns=['Location','Count']"
      ],
      "metadata": {
        "id": "JC7vtcNpjJcL"
      },
      "execution_count": null,
      "outputs": []
    },
    {
      "cell_type": "code",
      "source": [
        "from geopy.geocoders import Nominatim\n",
        "\n",
        "# Initialize Nominatim API\n",
        "geolocator = Nominatim(user_agent=\"MyApp\",timeout=10)\n",
        "#Creating DataFrame containing the Latitude and Longitude of the Restaurant Location\n",
        "latitude,longitude=[],[]\n",
        "for i in df_loc['Location']:\n",
        "  location=geolocator.geocode(i+', Bangalore')\n",
        "  if location:\n",
        "    latitude.append(geolocator.geocode(i+', Bangalore').latitude)\n",
        "    longitude.append(geolocator.geocode(i+', Bangalore').longitude)\n",
        "  else:\n",
        "    latitude.append(np.nan)\n",
        "    longitude.append(np.nan)\n",
        "\n",
        "df_loc['Latitude'],df_loc['Longitude']=latitude,longitude\n",
        "df_loc"
      ],
      "metadata": {
        "colab": {
          "base_uri": "https://localhost:8080/",
          "height": 424
        },
        "id": "_kxBq6Tiq39d",
        "outputId": "e294607d-499f-467a-fcfd-00fdd3d02cdc"
      },
      "execution_count": null,
      "outputs": [
        {
          "output_type": "execute_result",
          "data": {
            "text/plain": [
              "             Location  Count   Latitude  Longitude\n",
              "0          Whitefield    629  12.969637  77.749745\n",
              "1                 BTM    538  12.911276  77.604565\n",
              "2                 HSR    525  12.909234  77.639867\n",
              "3        Marathahalli    512  12.955257  77.698416\n",
              "4     Electronic City    458  12.848760  77.648253\n",
              "..                ...    ...        ...        ...\n",
              "87  Central Bangalore      2  13.010129  77.554801\n",
              "88      Langford Town      2  12.957998  77.603731\n",
              "89            Kengeri      1  12.917657  77.483757\n",
              "90         Nagarbhavi      1  12.959618  77.511267\n",
              "91             Peenya      1  13.032942  77.527325\n",
              "\n",
              "[92 rows x 4 columns]"
            ],
            "text/html": [
              "\n",
              "  <div id=\"df-b400c264-ad0e-45bf-864e-af289acfb631\">\n",
              "    <div class=\"colab-df-container\">\n",
              "      <div>\n",
              "<style scoped>\n",
              "    .dataframe tbody tr th:only-of-type {\n",
              "        vertical-align: middle;\n",
              "    }\n",
              "\n",
              "    .dataframe tbody tr th {\n",
              "        vertical-align: top;\n",
              "    }\n",
              "\n",
              "    .dataframe thead th {\n",
              "        text-align: right;\n",
              "    }\n",
              "</style>\n",
              "<table border=\"1\" class=\"dataframe\">\n",
              "  <thead>\n",
              "    <tr style=\"text-align: right;\">\n",
              "      <th></th>\n",
              "      <th>Location</th>\n",
              "      <th>Count</th>\n",
              "      <th>Latitude</th>\n",
              "      <th>Longitude</th>\n",
              "    </tr>\n",
              "  </thead>\n",
              "  <tbody>\n",
              "    <tr>\n",
              "      <th>0</th>\n",
              "      <td>Whitefield</td>\n",
              "      <td>629</td>\n",
              "      <td>12.969637</td>\n",
              "      <td>77.749745</td>\n",
              "    </tr>\n",
              "    <tr>\n",
              "      <th>1</th>\n",
              "      <td>BTM</td>\n",
              "      <td>538</td>\n",
              "      <td>12.911276</td>\n",
              "      <td>77.604565</td>\n",
              "    </tr>\n",
              "    <tr>\n",
              "      <th>2</th>\n",
              "      <td>HSR</td>\n",
              "      <td>525</td>\n",
              "      <td>12.909234</td>\n",
              "      <td>77.639867</td>\n",
              "    </tr>\n",
              "    <tr>\n",
              "      <th>3</th>\n",
              "      <td>Marathahalli</td>\n",
              "      <td>512</td>\n",
              "      <td>12.955257</td>\n",
              "      <td>77.698416</td>\n",
              "    </tr>\n",
              "    <tr>\n",
              "      <th>4</th>\n",
              "      <td>Electronic City</td>\n",
              "      <td>458</td>\n",
              "      <td>12.848760</td>\n",
              "      <td>77.648253</td>\n",
              "    </tr>\n",
              "    <tr>\n",
              "      <th>...</th>\n",
              "      <td>...</td>\n",
              "      <td>...</td>\n",
              "      <td>...</td>\n",
              "      <td>...</td>\n",
              "    </tr>\n",
              "    <tr>\n",
              "      <th>87</th>\n",
              "      <td>Central Bangalore</td>\n",
              "      <td>2</td>\n",
              "      <td>13.010129</td>\n",
              "      <td>77.554801</td>\n",
              "    </tr>\n",
              "    <tr>\n",
              "      <th>88</th>\n",
              "      <td>Langford Town</td>\n",
              "      <td>2</td>\n",
              "      <td>12.957998</td>\n",
              "      <td>77.603731</td>\n",
              "    </tr>\n",
              "    <tr>\n",
              "      <th>89</th>\n",
              "      <td>Kengeri</td>\n",
              "      <td>1</td>\n",
              "      <td>12.917657</td>\n",
              "      <td>77.483757</td>\n",
              "    </tr>\n",
              "    <tr>\n",
              "      <th>90</th>\n",
              "      <td>Nagarbhavi</td>\n",
              "      <td>1</td>\n",
              "      <td>12.959618</td>\n",
              "      <td>77.511267</td>\n",
              "    </tr>\n",
              "    <tr>\n",
              "      <th>91</th>\n",
              "      <td>Peenya</td>\n",
              "      <td>1</td>\n",
              "      <td>13.032942</td>\n",
              "      <td>77.527325</td>\n",
              "    </tr>\n",
              "  </tbody>\n",
              "</table>\n",
              "<p>92 rows × 4 columns</p>\n",
              "</div>\n",
              "      <button class=\"colab-df-convert\" onclick=\"convertToInteractive('df-b400c264-ad0e-45bf-864e-af289acfb631')\"\n",
              "              title=\"Convert this dataframe to an interactive table.\"\n",
              "              style=\"display:none;\">\n",
              "        \n",
              "  <svg xmlns=\"http://www.w3.org/2000/svg\" height=\"24px\"viewBox=\"0 0 24 24\"\n",
              "       width=\"24px\">\n",
              "    <path d=\"M0 0h24v24H0V0z\" fill=\"none\"/>\n",
              "    <path d=\"M18.56 5.44l.94 2.06.94-2.06 2.06-.94-2.06-.94-.94-2.06-.94 2.06-2.06.94zm-11 1L8.5 8.5l.94-2.06 2.06-.94-2.06-.94L8.5 2.5l-.94 2.06-2.06.94zm10 10l.94 2.06.94-2.06 2.06-.94-2.06-.94-.94-2.06-.94 2.06-2.06.94z\"/><path d=\"M17.41 7.96l-1.37-1.37c-.4-.4-.92-.59-1.43-.59-.52 0-1.04.2-1.43.59L10.3 9.45l-7.72 7.72c-.78.78-.78 2.05 0 2.83L4 21.41c.39.39.9.59 1.41.59.51 0 1.02-.2 1.41-.59l7.78-7.78 2.81-2.81c.8-.78.8-2.07 0-2.86zM5.41 20L4 18.59l7.72-7.72 1.47 1.35L5.41 20z\"/>\n",
              "  </svg>\n",
              "      </button>\n",
              "      \n",
              "  <style>\n",
              "    .colab-df-container {\n",
              "      display:flex;\n",
              "      flex-wrap:wrap;\n",
              "      gap: 12px;\n",
              "    }\n",
              "\n",
              "    .colab-df-convert {\n",
              "      background-color: #E8F0FE;\n",
              "      border: none;\n",
              "      border-radius: 50%;\n",
              "      cursor: pointer;\n",
              "      display: none;\n",
              "      fill: #1967D2;\n",
              "      height: 32px;\n",
              "      padding: 0 0 0 0;\n",
              "      width: 32px;\n",
              "    }\n",
              "\n",
              "    .colab-df-convert:hover {\n",
              "      background-color: #E2EBFA;\n",
              "      box-shadow: 0px 1px 2px rgba(60, 64, 67, 0.3), 0px 1px 3px 1px rgba(60, 64, 67, 0.15);\n",
              "      fill: #174EA6;\n",
              "    }\n",
              "\n",
              "    [theme=dark] .colab-df-convert {\n",
              "      background-color: #3B4455;\n",
              "      fill: #D2E3FC;\n",
              "    }\n",
              "\n",
              "    [theme=dark] .colab-df-convert:hover {\n",
              "      background-color: #434B5C;\n",
              "      box-shadow: 0px 1px 3px 1px rgba(0, 0, 0, 0.15);\n",
              "      filter: drop-shadow(0px 1px 2px rgba(0, 0, 0, 0.3));\n",
              "      fill: #FFFFFF;\n",
              "    }\n",
              "  </style>\n",
              "\n",
              "      <script>\n",
              "        const buttonEl =\n",
              "          document.querySelector('#df-b400c264-ad0e-45bf-864e-af289acfb631 button.colab-df-convert');\n",
              "        buttonEl.style.display =\n",
              "          google.colab.kernel.accessAllowed ? 'block' : 'none';\n",
              "\n",
              "        async function convertToInteractive(key) {\n",
              "          const element = document.querySelector('#df-b400c264-ad0e-45bf-864e-af289acfb631');\n",
              "          const dataTable =\n",
              "            await google.colab.kernel.invokeFunction('convertToInteractive',\n",
              "                                                     [key], {});\n",
              "          if (!dataTable) return;\n",
              "\n",
              "          const docLinkHtml = 'Like what you see? Visit the ' +\n",
              "            '<a target=\"_blank\" href=https://colab.research.google.com/notebooks/data_table.ipynb>data table notebook</a>'\n",
              "            + ' to learn more about interactive tables.';\n",
              "          element.innerHTML = '';\n",
              "          dataTable['output_type'] = 'display_data';\n",
              "          await google.colab.output.renderOutput(dataTable, element);\n",
              "          const docLink = document.createElement('div');\n",
              "          docLink.innerHTML = docLinkHtml;\n",
              "          element.appendChild(docLink);\n",
              "        }\n",
              "      </script>\n",
              "    </div>\n",
              "  </div>\n",
              "  "
            ]
          },
          "metadata": {},
          "execution_count": 57
        }
      ]
    },
    {
      "cell_type": "code",
      "source": [
        "df_loc.dropna()"
      ],
      "metadata": {
        "colab": {
          "base_uri": "https://localhost:8080/",
          "height": 424
        },
        "id": "WfAbFDN537BN",
        "outputId": "ff328fb7-4928-4d53-fa4a-92f5cd9cbea1"
      },
      "execution_count": null,
      "outputs": [
        {
          "output_type": "execute_result",
          "data": {
            "text/plain": [
              "             Location  Count   Latitude  Longitude\n",
              "0          Whitefield    629  12.969637  77.749745\n",
              "1                 BTM    538  12.911276  77.604565\n",
              "2                 HSR    525  12.909234  77.639867\n",
              "3        Marathahalli    512  12.955257  77.698416\n",
              "4     Electronic City    458  12.848760  77.648253\n",
              "..                ...    ...        ...        ...\n",
              "87  Central Bangalore      2  13.010129  77.554801\n",
              "88      Langford Town      2  12.957998  77.603731\n",
              "89            Kengeri      1  12.917657  77.483757\n",
              "90         Nagarbhavi      1  12.959618  77.511267\n",
              "91             Peenya      1  13.032942  77.527325\n",
              "\n",
              "[89 rows x 4 columns]"
            ],
            "text/html": [
              "\n",
              "  <div id=\"df-3a188d4f-8fb2-499e-abc2-6a735c904722\">\n",
              "    <div class=\"colab-df-container\">\n",
              "      <div>\n",
              "<style scoped>\n",
              "    .dataframe tbody tr th:only-of-type {\n",
              "        vertical-align: middle;\n",
              "    }\n",
              "\n",
              "    .dataframe tbody tr th {\n",
              "        vertical-align: top;\n",
              "    }\n",
              "\n",
              "    .dataframe thead th {\n",
              "        text-align: right;\n",
              "    }\n",
              "</style>\n",
              "<table border=\"1\" class=\"dataframe\">\n",
              "  <thead>\n",
              "    <tr style=\"text-align: right;\">\n",
              "      <th></th>\n",
              "      <th>Location</th>\n",
              "      <th>Count</th>\n",
              "      <th>Latitude</th>\n",
              "      <th>Longitude</th>\n",
              "    </tr>\n",
              "  </thead>\n",
              "  <tbody>\n",
              "    <tr>\n",
              "      <th>0</th>\n",
              "      <td>Whitefield</td>\n",
              "      <td>629</td>\n",
              "      <td>12.969637</td>\n",
              "      <td>77.749745</td>\n",
              "    </tr>\n",
              "    <tr>\n",
              "      <th>1</th>\n",
              "      <td>BTM</td>\n",
              "      <td>538</td>\n",
              "      <td>12.911276</td>\n",
              "      <td>77.604565</td>\n",
              "    </tr>\n",
              "    <tr>\n",
              "      <th>2</th>\n",
              "      <td>HSR</td>\n",
              "      <td>525</td>\n",
              "      <td>12.909234</td>\n",
              "      <td>77.639867</td>\n",
              "    </tr>\n",
              "    <tr>\n",
              "      <th>3</th>\n",
              "      <td>Marathahalli</td>\n",
              "      <td>512</td>\n",
              "      <td>12.955257</td>\n",
              "      <td>77.698416</td>\n",
              "    </tr>\n",
              "    <tr>\n",
              "      <th>4</th>\n",
              "      <td>Electronic City</td>\n",
              "      <td>458</td>\n",
              "      <td>12.848760</td>\n",
              "      <td>77.648253</td>\n",
              "    </tr>\n",
              "    <tr>\n",
              "      <th>...</th>\n",
              "      <td>...</td>\n",
              "      <td>...</td>\n",
              "      <td>...</td>\n",
              "      <td>...</td>\n",
              "    </tr>\n",
              "    <tr>\n",
              "      <th>87</th>\n",
              "      <td>Central Bangalore</td>\n",
              "      <td>2</td>\n",
              "      <td>13.010129</td>\n",
              "      <td>77.554801</td>\n",
              "    </tr>\n",
              "    <tr>\n",
              "      <th>88</th>\n",
              "      <td>Langford Town</td>\n",
              "      <td>2</td>\n",
              "      <td>12.957998</td>\n",
              "      <td>77.603731</td>\n",
              "    </tr>\n",
              "    <tr>\n",
              "      <th>89</th>\n",
              "      <td>Kengeri</td>\n",
              "      <td>1</td>\n",
              "      <td>12.917657</td>\n",
              "      <td>77.483757</td>\n",
              "    </tr>\n",
              "    <tr>\n",
              "      <th>90</th>\n",
              "      <td>Nagarbhavi</td>\n",
              "      <td>1</td>\n",
              "      <td>12.959618</td>\n",
              "      <td>77.511267</td>\n",
              "    </tr>\n",
              "    <tr>\n",
              "      <th>91</th>\n",
              "      <td>Peenya</td>\n",
              "      <td>1</td>\n",
              "      <td>13.032942</td>\n",
              "      <td>77.527325</td>\n",
              "    </tr>\n",
              "  </tbody>\n",
              "</table>\n",
              "<p>89 rows × 4 columns</p>\n",
              "</div>\n",
              "      <button class=\"colab-df-convert\" onclick=\"convertToInteractive('df-3a188d4f-8fb2-499e-abc2-6a735c904722')\"\n",
              "              title=\"Convert this dataframe to an interactive table.\"\n",
              "              style=\"display:none;\">\n",
              "        \n",
              "  <svg xmlns=\"http://www.w3.org/2000/svg\" height=\"24px\"viewBox=\"0 0 24 24\"\n",
              "       width=\"24px\">\n",
              "    <path d=\"M0 0h24v24H0V0z\" fill=\"none\"/>\n",
              "    <path d=\"M18.56 5.44l.94 2.06.94-2.06 2.06-.94-2.06-.94-.94-2.06-.94 2.06-2.06.94zm-11 1L8.5 8.5l.94-2.06 2.06-.94-2.06-.94L8.5 2.5l-.94 2.06-2.06.94zm10 10l.94 2.06.94-2.06 2.06-.94-2.06-.94-.94-2.06-.94 2.06-2.06.94z\"/><path d=\"M17.41 7.96l-1.37-1.37c-.4-.4-.92-.59-1.43-.59-.52 0-1.04.2-1.43.59L10.3 9.45l-7.72 7.72c-.78.78-.78 2.05 0 2.83L4 21.41c.39.39.9.59 1.41.59.51 0 1.02-.2 1.41-.59l7.78-7.78 2.81-2.81c.8-.78.8-2.07 0-2.86zM5.41 20L4 18.59l7.72-7.72 1.47 1.35L5.41 20z\"/>\n",
              "  </svg>\n",
              "      </button>\n",
              "      \n",
              "  <style>\n",
              "    .colab-df-container {\n",
              "      display:flex;\n",
              "      flex-wrap:wrap;\n",
              "      gap: 12px;\n",
              "    }\n",
              "\n",
              "    .colab-df-convert {\n",
              "      background-color: #E8F0FE;\n",
              "      border: none;\n",
              "      border-radius: 50%;\n",
              "      cursor: pointer;\n",
              "      display: none;\n",
              "      fill: #1967D2;\n",
              "      height: 32px;\n",
              "      padding: 0 0 0 0;\n",
              "      width: 32px;\n",
              "    }\n",
              "\n",
              "    .colab-df-convert:hover {\n",
              "      background-color: #E2EBFA;\n",
              "      box-shadow: 0px 1px 2px rgba(60, 64, 67, 0.3), 0px 1px 3px 1px rgba(60, 64, 67, 0.15);\n",
              "      fill: #174EA6;\n",
              "    }\n",
              "\n",
              "    [theme=dark] .colab-df-convert {\n",
              "      background-color: #3B4455;\n",
              "      fill: #D2E3FC;\n",
              "    }\n",
              "\n",
              "    [theme=dark] .colab-df-convert:hover {\n",
              "      background-color: #434B5C;\n",
              "      box-shadow: 0px 1px 3px 1px rgba(0, 0, 0, 0.15);\n",
              "      filter: drop-shadow(0px 1px 2px rgba(0, 0, 0, 0.3));\n",
              "      fill: #FFFFFF;\n",
              "    }\n",
              "  </style>\n",
              "\n",
              "      <script>\n",
              "        const buttonEl =\n",
              "          document.querySelector('#df-3a188d4f-8fb2-499e-abc2-6a735c904722 button.colab-df-convert');\n",
              "        buttonEl.style.display =\n",
              "          google.colab.kernel.accessAllowed ? 'block' : 'none';\n",
              "\n",
              "        async function convertToInteractive(key) {\n",
              "          const element = document.querySelector('#df-3a188d4f-8fb2-499e-abc2-6a735c904722');\n",
              "          const dataTable =\n",
              "            await google.colab.kernel.invokeFunction('convertToInteractive',\n",
              "                                                     [key], {});\n",
              "          if (!dataTable) return;\n",
              "\n",
              "          const docLinkHtml = 'Like what you see? Visit the ' +\n",
              "            '<a target=\"_blank\" href=https://colab.research.google.com/notebooks/data_table.ipynb>data table notebook</a>'\n",
              "            + ' to learn more about interactive tables.';\n",
              "          element.innerHTML = '';\n",
              "          dataTable['output_type'] = 'display_data';\n",
              "          await google.colab.output.renderOutput(dataTable, element);\n",
              "          const docLink = document.createElement('div');\n",
              "          docLink.innerHTML = docLinkHtml;\n",
              "          element.appendChild(docLink);\n",
              "        }\n",
              "      </script>\n",
              "    </div>\n",
              "  </div>\n",
              "  "
            ]
          },
          "metadata": {},
          "execution_count": 58
        }
      ]
    },
    {
      "cell_type": "code",
      "source": [
        "#Mapping the Location wiht marker size indicating the count of restaurant in the Location\n",
        "fig=px.scatter_mapbox(df_loc,\n",
        "                      lat=df_loc['Latitude'],\n",
        "                      lon=df_loc['Longitude'],\n",
        "                      zoom=10.8,\n",
        "                      color=df_loc['Location'],\n",
        "                      size=df_loc['Count'],\n",
        "                      color_continuous_scale=px.colors.cyclical.IceFire,\n",
        "                      opacity=0.85,\n",
        "                      width=1200,\n",
        "                      height=900,\n",
        "                      title='Region Wise Restaurant Count')\n",
        "fig.update_layout(mapbox_style='open-street-map')\n",
        "fig.update_layout(margin={\"r\":0,\"t\":50,\"l\":0,\"b\":10})\n",
        "fig.show()"
      ],
      "metadata": {
        "colab": {
          "base_uri": "https://localhost:8080/",
          "height": 917
        },
        "id": "j5eV2fQpQuaC",
        "outputId": "e18e9306-ed36-4e40-abae-189a93de4182"
      },
      "execution_count": null,
      "outputs": [
        {
          "output_type": "display_data",
          "data": {
            "text/html": [
              "<html>\n",
              "<head><meta charset=\"utf-8\" /></head>\n",
              "<body>\n",
              "    <div>            <script src=\"https://cdnjs.cloudflare.com/ajax/libs/mathjax/2.7.5/MathJax.js?config=TeX-AMS-MML_SVG\"></script><script type=\"text/javascript\">if (window.MathJax) {MathJax.Hub.Config({SVG: {font: \"STIX-Web\"}});}</script>                <script type=\"text/javascript\">window.PlotlyConfig = {MathJaxConfig: 'local'};</script>\n",
              "        <script src=\"https://cdn.plot.ly/plotly-2.8.3.min.js\"></script>                <div id=\"eb90aeba-9c65-4f87-9dcd-9843800973a3\" class=\"plotly-graph-div\" style=\"height:900px; width:1200px;\"></div>            <script type=\"text/javascript\">                                    window.PLOTLYENV=window.PLOTLYENV || {};                                    if (document.getElementById(\"eb90aeba-9c65-4f87-9dcd-9843800973a3\")) {                    Plotly.newPlot(                        \"eb90aeba-9c65-4f87-9dcd-9843800973a3\",                        [{\"hovertemplate\":\"Location=Whitefield<br>Count=%{marker.size}<br>Latitude=%{lat}<br>Longitude=%{lon}<extra></extra>\",\"lat\":[12.9696365],\"legendgroup\":\"Whitefield\",\"lon\":[77.7497448],\"marker\":{\"color\":\"#636efa\",\"opacity\":0.85,\"size\":[629],\"sizemode\":\"area\",\"sizeref\":1.5725},\"mode\":\"markers\",\"name\":\"Whitefield\",\"showlegend\":true,\"subplot\":\"mapbox\",\"type\":\"scattermapbox\"},{\"hovertemplate\":\"Location=BTM<br>Count=%{marker.size}<br>Latitude=%{lat}<br>Longitude=%{lon}<extra></extra>\",\"lat\":[12.911275849999999],\"legendgroup\":\"BTM\",\"lon\":[77.60456543431182],\"marker\":{\"color\":\"#EF553B\",\"opacity\":0.85,\"size\":[538],\"sizemode\":\"area\",\"sizeref\":1.5725},\"mode\":\"markers\",\"name\":\"BTM\",\"showlegend\":true,\"subplot\":\"mapbox\",\"type\":\"scattermapbox\"},{\"hovertemplate\":\"Location=HSR<br>Count=%{marker.size}<br>Latitude=%{lat}<br>Longitude=%{lon}<extra></extra>\",\"lat\":[12.9092342],\"legendgroup\":\"HSR\",\"lon\":[77.6398674],\"marker\":{\"color\":\"#00cc96\",\"opacity\":0.85,\"size\":[525],\"sizemode\":\"area\",\"sizeref\":1.5725},\"mode\":\"markers\",\"name\":\"HSR\",\"showlegend\":true,\"subplot\":\"mapbox\",\"type\":\"scattermapbox\"},{\"hovertemplate\":\"Location=Marathahalli<br>Count=%{marker.size}<br>Latitude=%{lat}<br>Longitude=%{lon}<extra></extra>\",\"lat\":[12.9552572],\"legendgroup\":\"Marathahalli\",\"lon\":[77.6984163],\"marker\":{\"color\":\"#ab63fa\",\"opacity\":0.85,\"size\":[512],\"sizemode\":\"area\",\"sizeref\":1.5725},\"mode\":\"markers\",\"name\":\"Marathahalli\",\"showlegend\":true,\"subplot\":\"mapbox\",\"type\":\"scattermapbox\"},{\"hovertemplate\":\"Location=Electronic City<br>Count=%{marker.size}<br>Latitude=%{lat}<br>Longitude=%{lon}<extra></extra>\",\"lat\":[12.848759900000001],\"legendgroup\":\"Electronic City\",\"lon\":[77.64825295827616],\"marker\":{\"color\":\"#FFA15A\",\"opacity\":0.85,\"size\":[458],\"sizemode\":\"area\",\"sizeref\":1.5725},\"mode\":\"markers\",\"name\":\"Electronic City\",\"showlegend\":true,\"subplot\":\"mapbox\",\"type\":\"scattermapbox\"},{\"hovertemplate\":\"Location=Indiranagar<br>Count=%{marker.size}<br>Latitude=%{lat}<br>Longitude=%{lon}<extra></extra>\",\"lat\":[12.9732913],\"legendgroup\":\"Indiranagar\",\"lon\":[77.6404672],\"marker\":{\"color\":\"#19d3f3\",\"opacity\":0.85,\"size\":[439],\"sizemode\":\"area\",\"sizeref\":1.5725},\"mode\":\"markers\",\"name\":\"Indiranagar\",\"showlegend\":true,\"subplot\":\"mapbox\",\"type\":\"scattermapbox\"},{\"hovertemplate\":\"Location=JP Nagar<br>Count=%{marker.size}<br>Latitude=%{lat}<br>Longitude=%{lon}<extra></extra>\",\"lat\":[12.9072515],\"legendgroup\":\"JP Nagar\",\"lon\":[77.5782713],\"marker\":{\"color\":\"#FF6692\",\"opacity\":0.85,\"size\":[388],\"sizemode\":\"area\",\"sizeref\":1.5725},\"mode\":\"markers\",\"name\":\"JP Nagar\",\"showlegend\":true,\"subplot\":\"mapbox\",\"type\":\"scattermapbox\"},{\"hovertemplate\":\"Location=Bannerghatta Road<br>Count=%{marker.size}<br>Latitude=%{lat}<br>Longitude=%{lon}<extra></extra>\",\"lat\":[12.8545439],\"legendgroup\":\"Bannerghatta Road\",\"lon\":[77.5886892],\"marker\":{\"color\":\"#B6E880\",\"opacity\":0.85,\"size\":[355],\"sizemode\":\"area\",\"sizeref\":1.5725},\"mode\":\"markers\",\"name\":\"Bannerghatta Road\",\"showlegend\":true,\"subplot\":\"mapbox\",\"type\":\"scattermapbox\"},{\"hovertemplate\":\"Location=Jayanagar<br>Count=%{marker.size}<br>Latitude=%{lat}<br>Longitude=%{lon}<extra></extra>\",\"lat\":[12.9292731],\"legendgroup\":\"Jayanagar\",\"lon\":[77.5824229],\"marker\":{\"color\":\"#FF97FF\",\"opacity\":0.85,\"size\":[312],\"sizemode\":\"area\",\"sizeref\":1.5725},\"mode\":\"markers\",\"name\":\"Jayanagar\",\"showlegend\":true,\"subplot\":\"mapbox\",\"type\":\"scattermapbox\"},{\"hovertemplate\":\"Location=Bellandur<br>Count=%{marker.size}<br>Latitude=%{lat}<br>Longitude=%{lon}<extra></extra>\",\"lat\":[12.93103185],\"legendgroup\":\"Bellandur\",\"lon\":[77.6782471],\"marker\":{\"color\":\"#FECB52\",\"opacity\":0.85,\"size\":[273],\"sizemode\":\"area\",\"sizeref\":1.5725},\"mode\":\"markers\",\"name\":\"Bellandur\",\"showlegend\":true,\"subplot\":\"mapbox\",\"type\":\"scattermapbox\"},{\"hovertemplate\":\"Location=Sarjapur Road<br>Count=%{marker.size}<br>Latitude=%{lat}<br>Longitude=%{lon}<extra></extra>\",\"lat\":[12.920441],\"legendgroup\":\"Sarjapur Road\",\"lon\":[77.6653284],\"marker\":{\"color\":\"#636efa\",\"opacity\":0.85,\"size\":[261],\"sizemode\":\"area\",\"sizeref\":1.5725},\"mode\":\"markers\",\"name\":\"Sarjapur Road\",\"showlegend\":true,\"subplot\":\"mapbox\",\"type\":\"scattermapbox\"},{\"hovertemplate\":\"Location=Koramangala 5th Block<br>Count=%{marker.size}<br>Latitude=%{lat}<br>Longitude=%{lon}<extra></extra>\",\"lat\":[12.9348429],\"legendgroup\":\"Koramangala 5th Block\",\"lon\":[77.6189768],\"marker\":{\"color\":\"#EF553B\",\"opacity\":0.85,\"size\":[242],\"sizemode\":\"area\",\"sizeref\":1.5725},\"mode\":\"markers\",\"name\":\"Koramangala 5th Block\",\"showlegend\":true,\"subplot\":\"mapbox\",\"type\":\"scattermapbox\"},{\"hovertemplate\":\"Location=Banashankari<br>Count=%{marker.size}<br>Latitude=%{lat}<br>Longitude=%{lon}<extra></extra>\",\"lat\":[12.965283249999999],\"legendgroup\":\"Banashankari\",\"lon\":[77.59445195],\"marker\":{\"color\":\"#00cc96\",\"opacity\":0.85,\"size\":[227],\"sizemode\":\"area\",\"sizeref\":1.5725},\"mode\":\"markers\",\"name\":\"Banashankari\",\"showlegend\":true,\"subplot\":\"mapbox\",\"type\":\"scattermapbox\"},{\"hovertemplate\":\"Location=New BEL Road<br>Count=%{marker.size}<br>Latitude=%{lat}<br>Longitude=%{lon}<extra></extra>\",\"lat\":[13.0435554],\"legendgroup\":\"New BEL Road\",\"lon\":[77.5613062],\"marker\":{\"color\":\"#ab63fa\",\"opacity\":0.85,\"size\":[220],\"sizemode\":\"area\",\"sizeref\":1.5725},\"mode\":\"markers\",\"name\":\"New BEL Road\",\"showlegend\":true,\"subplot\":\"mapbox\",\"type\":\"scattermapbox\"},{\"hovertemplate\":\"Location=Malleshwaram<br>Count=%{marker.size}<br>Latitude=%{lat}<br>Longitude=%{lon}<extra></extra>\",\"lat\":[13.0027353],\"legendgroup\":\"Malleshwaram\",\"lon\":[77.5703253],\"marker\":{\"color\":\"#FFA15A\",\"opacity\":0.85,\"size\":[204],\"sizemode\":\"area\",\"sizeref\":1.5725},\"mode\":\"markers\",\"name\":\"Malleshwaram\",\"showlegend\":true,\"subplot\":\"mapbox\",\"type\":\"scattermapbox\"},{\"hovertemplate\":\"Location=Kalyan Nagar<br>Count=%{marker.size}<br>Latitude=%{lat}<br>Longitude=%{lon}<extra></extra>\",\"lat\":[13.0221416],\"legendgroup\":\"Kalyan Nagar\",\"lon\":[77.6403368],\"marker\":{\"color\":\"#19d3f3\",\"opacity\":0.85,\"size\":[193],\"sizemode\":\"area\",\"sizeref\":1.5725},\"mode\":\"markers\",\"name\":\"Kalyan Nagar\",\"showlegend\":true,\"subplot\":\"mapbox\",\"type\":\"scattermapbox\"},{\"hovertemplate\":\"Location=Basavanagudi<br>Count=%{marker.size}<br>Latitude=%{lat}<br>Longitude=%{lon}<extra></extra>\",\"lat\":[12.9417261],\"legendgroup\":\"Basavanagudi\",\"lon\":[77.5755021],\"marker\":{\"color\":\"#FF6692\",\"opacity\":0.85,\"size\":[180],\"sizemode\":\"area\",\"sizeref\":1.5725},\"mode\":\"markers\",\"name\":\"Basavanagudi\",\"showlegend\":true,\"subplot\":\"mapbox\",\"type\":\"scattermapbox\"},{\"hovertemplate\":\"Location=Rajajinagar<br>Count=%{marker.size}<br>Latitude=%{lat}<br>Longitude=%{lon}<extra></extra>\",\"lat\":[12.9882338],\"legendgroup\":\"Rajajinagar\",\"lon\":[77.554883],\"marker\":{\"color\":\"#B6E880\",\"opacity\":0.85,\"size\":[177],\"sizemode\":\"area\",\"sizeref\":1.5725},\"mode\":\"markers\",\"name\":\"Rajajinagar\",\"showlegend\":true,\"subplot\":\"mapbox\",\"type\":\"scattermapbox\"},{\"hovertemplate\":\"Location=Banaswadi<br>Count=%{marker.size}<br>Latitude=%{lat}<br>Longitude=%{lon}<extra></extra>\",\"lat\":[13.0141618],\"legendgroup\":\"Banaswadi\",\"lon\":[77.6518539],\"marker\":{\"color\":\"#FF97FF\",\"opacity\":0.85,\"size\":[145],\"sizemode\":\"area\",\"sizeref\":1.5725},\"mode\":\"markers\",\"name\":\"Banaswadi\",\"showlegend\":true,\"subplot\":\"mapbox\",\"type\":\"scattermapbox\"},{\"hovertemplate\":\"Location=Frazer Town<br>Count=%{marker.size}<br>Latitude=%{lat}<br>Longitude=%{lon}<extra></extra>\",\"lat\":[12.996845],\"legendgroup\":\"Frazer Town\",\"lon\":[77.6130165],\"marker\":{\"color\":\"#FECB52\",\"opacity\":0.85,\"size\":[144],\"sizemode\":\"area\",\"sizeref\":1.5725},\"mode\":\"markers\",\"name\":\"Frazer Town\",\"showlegend\":true,\"subplot\":\"mapbox\",\"type\":\"scattermapbox\"},{\"hovertemplate\":\"Location=Brookefield<br>Count=%{marker.size}<br>Latitude=%{lat}<br>Longitude=%{lon}<extra></extra>\",\"lat\":[12.9668213],\"legendgroup\":\"Brookefield\",\"lon\":[77.7168891],\"marker\":{\"color\":\"#636efa\",\"opacity\":0.85,\"size\":[143],\"sizemode\":\"area\",\"sizeref\":1.5725},\"mode\":\"markers\",\"name\":\"Brookefield\",\"showlegend\":true,\"subplot\":\"mapbox\",\"type\":\"scattermapbox\"},{\"hovertemplate\":\"Location=Koramangala 6th Block<br>Count=%{marker.size}<br>Latitude=%{lat}<br>Longitude=%{lon}<extra></extra>\",\"lat\":[12.9390255],\"legendgroup\":\"Koramangala 6th Block\",\"lon\":[77.6238477],\"marker\":{\"color\":\"#EF553B\",\"opacity\":0.85,\"size\":[134],\"sizemode\":\"area\",\"sizeref\":1.5725},\"mode\":\"markers\",\"name\":\"Koramangala 6th Block\",\"showlegend\":true,\"subplot\":\"mapbox\",\"type\":\"scattermapbox\"},{\"hovertemplate\":\"Location=Kammanahalli<br>Count=%{marker.size}<br>Latitude=%{lat}<br>Longitude=%{lon}<extra></extra>\",\"lat\":[13.0093455],\"legendgroup\":\"Kammanahalli\",\"lon\":[77.6377094],\"marker\":{\"color\":\"#00cc96\",\"opacity\":0.85,\"size\":[130],\"sizemode\":\"area\",\"sizeref\":1.5725},\"mode\":\"markers\",\"name\":\"Kammanahalli\",\"showlegend\":true,\"subplot\":\"mapbox\",\"type\":\"scattermapbox\"},{\"hovertemplate\":\"Location=Koramangala 7th Block<br>Count=%{marker.size}<br>Latitude=%{lat}<br>Longitude=%{lon}<extra></extra>\",\"lat\":[12.9364846],\"legendgroup\":\"Koramangala 7th Block\",\"lon\":[77.6134783],\"marker\":{\"color\":\"#ab63fa\",\"opacity\":0.85,\"size\":[130],\"sizemode\":\"area\",\"sizeref\":1.5725},\"mode\":\"markers\",\"name\":\"Koramangala 7th Block\",\"showlegend\":true,\"subplot\":\"mapbox\",\"type\":\"scattermapbox\"},{\"hovertemplate\":\"Location=Koramangala 1st Block<br>Count=%{marker.size}<br>Latitude=%{lat}<br>Longitude=%{lon}<extra></extra>\",\"lat\":[12.9275886],\"legendgroup\":\"Koramangala 1st Block\",\"lon\":[77.6308832],\"marker\":{\"color\":\"#FFA15A\",\"opacity\":0.85,\"size\":[113],\"sizemode\":\"area\",\"sizeref\":1.5725},\"mode\":\"markers\",\"name\":\"Koramangala 1st Block\",\"showlegend\":true,\"subplot\":\"mapbox\",\"type\":\"scattermapbox\"},{\"hovertemplate\":\"Location=Brigade Road<br>Count=%{marker.size}<br>Latitude=%{lat}<br>Longitude=%{lon}<extra></extra>\",\"lat\":[12.9736132],\"legendgroup\":\"Brigade Road\",\"lon\":[77.6074716],\"marker\":{\"color\":\"#19d3f3\",\"opacity\":0.85,\"size\":[111],\"sizemode\":\"area\",\"sizeref\":1.5725},\"mode\":\"markers\",\"name\":\"Brigade Road\",\"showlegend\":true,\"subplot\":\"mapbox\",\"type\":\"scattermapbox\"},{\"hovertemplate\":\"Location=Old Airport Road<br>Count=%{marker.size}<br>Latitude=%{lat}<br>Longitude=%{lon}<extra></extra>\",\"lat\":[12.9583828],\"legendgroup\":\"Old Airport Road\",\"lon\":[77.6663946],\"marker\":{\"color\":\"#FF6692\",\"opacity\":0.85,\"size\":[110],\"sizemode\":\"area\",\"sizeref\":1.5725},\"mode\":\"markers\",\"name\":\"Old Airport Road\",\"showlegend\":true,\"subplot\":\"mapbox\",\"type\":\"scattermapbox\"},{\"hovertemplate\":\"Location=Koramangala 4th Block<br>Count=%{marker.size}<br>Latitude=%{lat}<br>Longitude=%{lon}<extra></extra>\",\"lat\":[12.9327778],\"legendgroup\":\"Koramangala 4th Block\",\"lon\":[77.6294052],\"marker\":{\"color\":\"#B6E880\",\"opacity\":0.85,\"size\":[103],\"sizemode\":\"area\",\"sizeref\":1.5725},\"mode\":\"markers\",\"name\":\"Koramangala 4th Block\",\"showlegend\":true,\"subplot\":\"mapbox\",\"type\":\"scattermapbox\"},{\"hovertemplate\":\"Location=Ulsoor<br>Count=%{marker.size}<br>Latitude=%{lat}<br>Longitude=%{lon}<extra></extra>\",\"lat\":[12.9778793],\"legendgroup\":\"Ulsoor\",\"lon\":[77.6246697],\"marker\":{\"color\":\"#FF97FF\",\"opacity\":0.85,\"size\":[94],\"sizemode\":\"area\",\"sizeref\":1.5725},\"mode\":\"markers\",\"name\":\"Ulsoor\",\"showlegend\":true,\"subplot\":\"mapbox\",\"type\":\"scattermapbox\"},{\"hovertemplate\":\"Location=MG Road<br>Count=%{marker.size}<br>Latitude=%{lat}<br>Longitude=%{lon}<extra></extra>\",\"lat\":[12.9755264],\"legendgroup\":\"MG Road\",\"lon\":[77.6067902],\"marker\":{\"color\":\"#FECB52\",\"opacity\":0.85,\"size\":[86],\"sizemode\":\"area\",\"sizeref\":1.5725},\"mode\":\"markers\",\"name\":\"MG Road\",\"showlegend\":true,\"subplot\":\"mapbox\",\"type\":\"scattermapbox\"},{\"hovertemplate\":\"Location=Nagawara<br>Count=%{marker.size}<br>Latitude=%{lat}<br>Longitude=%{lon}<extra></extra>\",\"lat\":[13.0431413],\"legendgroup\":\"Nagawara\",\"lon\":[77.6209093],\"marker\":{\"color\":\"#636efa\",\"opacity\":0.85,\"size\":[86],\"sizemode\":\"area\",\"sizeref\":1.5725},\"mode\":\"markers\",\"name\":\"Nagawara\",\"showlegend\":true,\"subplot\":\"mapbox\",\"type\":\"scattermapbox\"},{\"hovertemplate\":\"Location=Residency Road<br>Count=%{marker.size}<br>Latitude=%{lat}<br>Longitude=%{lon}<extra></extra>\",\"lat\":[13.0529476],\"legendgroup\":\"Residency Road\",\"lon\":[77.6206061],\"marker\":{\"color\":\"#EF553B\",\"opacity\":0.85,\"size\":[75],\"sizemode\":\"area\",\"sizeref\":1.5725},\"mode\":\"markers\",\"name\":\"Residency Road\",\"showlegend\":true,\"subplot\":\"mapbox\",\"type\":\"scattermapbox\"},{\"hovertemplate\":\"Location=Domlur<br>Count=%{marker.size}<br>Latitude=%{lat}<br>Longitude=%{lon}<extra></extra>\",\"lat\":[12.9624669],\"legendgroup\":\"Domlur\",\"lon\":[77.6381958],\"marker\":{\"color\":\"#00cc96\",\"opacity\":0.85,\"size\":[75],\"sizemode\":\"area\",\"sizeref\":1.5725},\"mode\":\"markers\",\"name\":\"Domlur\",\"showlegend\":true,\"subplot\":\"mapbox\",\"type\":\"scattermapbox\"},{\"hovertemplate\":\"Location=Jeevan Bhima Nagar<br>Count=%{marker.size}<br>Latitude=%{lat}<br>Longitude=%{lon}<extra></extra>\",\"lat\":[12.9678074],\"legendgroup\":\"Jeevan Bhima Nagar\",\"lon\":[77.6568367],\"marker\":{\"color\":\"#ab63fa\",\"opacity\":0.85,\"size\":[72],\"sizemode\":\"area\",\"sizeref\":1.5725},\"mode\":\"markers\",\"name\":\"Jeevan Bhima Nagar\",\"showlegend\":true,\"subplot\":\"mapbox\",\"type\":\"scattermapbox\"},{\"hovertemplate\":\"Location=Richmond Road<br>Count=%{marker.size}<br>Latitude=%{lat}<br>Longitude=%{lon}<extra></extra>\",\"lat\":[12.9651594],\"legendgroup\":\"Richmond Road\",\"lon\":[77.5988339],\"marker\":{\"color\":\"#FFA15A\",\"opacity\":0.85,\"size\":[66],\"sizemode\":\"area\",\"sizeref\":1.5725},\"mode\":\"markers\",\"name\":\"Richmond Road\",\"showlegend\":true,\"subplot\":\"mapbox\",\"type\":\"scattermapbox\"},{\"hovertemplate\":\"Location=Kumaraswamy Layout<br>Count=%{marker.size}<br>Latitude=%{lat}<br>Longitude=%{lon}<extra></extra>\",\"lat\":[12.9081487],\"legendgroup\":\"Kumaraswamy Layout\",\"lon\":[77.5553179],\"marker\":{\"color\":\"#19d3f3\",\"opacity\":0.85,\"size\":[66],\"sizemode\":\"area\",\"sizeref\":1.5725},\"mode\":\"markers\",\"name\":\"Kumaraswamy Layout\",\"showlegend\":true,\"subplot\":\"mapbox\",\"type\":\"scattermapbox\"},{\"hovertemplate\":\"Location=Basaveshwara Nagar<br>Count=%{marker.size}<br>Latitude=%{lat}<br>Longitude=%{lon}<extra></extra>\",\"lat\":[12.9931607],\"legendgroup\":\"Basaveshwara Nagar\",\"lon\":[77.5394749],\"marker\":{\"color\":\"#FF6692\",\"opacity\":0.85,\"size\":[65],\"sizemode\":\"area\",\"sizeref\":1.5725},\"mode\":\"markers\",\"name\":\"Basaveshwara Nagar\",\"showlegend\":true,\"subplot\":\"mapbox\",\"type\":\"scattermapbox\"},{\"hovertemplate\":\"Location=Yeshwantpur<br>Count=%{marker.size}<br>Latitude=%{lat}<br>Longitude=%{lon}<extra></extra>\",\"lat\":[13.02383],\"legendgroup\":\"Yeshwantpur\",\"lon\":[77.5529215],\"marker\":{\"color\":\"#B6E880\",\"opacity\":0.85,\"size\":[64],\"sizemode\":\"area\",\"sizeref\":1.5725},\"mode\":\"markers\",\"name\":\"Yeshwantpur\",\"showlegend\":true,\"subplot\":\"mapbox\",\"type\":\"scattermapbox\"},{\"hovertemplate\":\"Location=Majestic<br>Count=%{marker.size}<br>Latitude=%{lat}<br>Longitude=%{lon}<extra></extra>\",\"lat\":[12.9757079],\"legendgroup\":\"Majestic\",\"lon\":[77.5728757],\"marker\":{\"color\":\"#FF97FF\",\"opacity\":0.85,\"size\":[62],\"sizemode\":\"area\",\"sizeref\":1.5725},\"mode\":\"markers\",\"name\":\"Majestic\",\"showlegend\":true,\"subplot\":\"mapbox\",\"type\":\"scattermapbox\"},{\"hovertemplate\":\"Location=Bommanahalli<br>Count=%{marker.size}<br>Latitude=%{lat}<br>Longitude=%{lon}<extra></extra>\",\"lat\":[12.9089453],\"legendgroup\":\"Bommanahalli\",\"lon\":[77.6239038],\"marker\":{\"color\":\"#FECB52\",\"opacity\":0.85,\"size\":[57],\"sizemode\":\"area\",\"sizeref\":1.5725},\"mode\":\"markers\",\"name\":\"Bommanahalli\",\"showlegend\":true,\"subplot\":\"mapbox\",\"type\":\"scattermapbox\"},{\"hovertemplate\":\"Location=Church Street<br>Count=%{marker.size}<br>Latitude=%{lat}<br>Longitude=%{lon}<extra></extra>\",\"lat\":[12.9757996],\"legendgroup\":\"Church Street\",\"lon\":[77.6016904],\"marker\":{\"color\":\"#636efa\",\"opacity\":0.85,\"size\":[54],\"sizemode\":\"area\",\"sizeref\":1.5725},\"mode\":\"markers\",\"name\":\"Church Street\",\"showlegend\":true,\"subplot\":\"mapbox\",\"type\":\"scattermapbox\"},{\"hovertemplate\":\"Location=Lavelle Road<br>Count=%{marker.size}<br>Latitude=%{lat}<br>Longitude=%{lon}<extra></extra>\",\"lat\":[12.9750062],\"legendgroup\":\"Lavelle Road\",\"lon\":[77.5998217],\"marker\":{\"color\":\"#EF553B\",\"opacity\":0.85,\"size\":[52],\"sizemode\":\"area\",\"sizeref\":1.5725},\"mode\":\"markers\",\"name\":\"Lavelle Road\",\"showlegend\":true,\"subplot\":\"mapbox\",\"type\":\"scattermapbox\"},{\"hovertemplate\":\"Location=Shanti Nagar<br>Count=%{marker.size}<br>Latitude=%{lat}<br>Longitude=%{lon}<extra></extra>\",\"lat\":[12.9575547],\"legendgroup\":\"Shanti Nagar\",\"lon\":[77.5979099],\"marker\":{\"color\":\"#00cc96\",\"opacity\":0.85,\"size\":[51],\"sizemode\":\"area\",\"sizeref\":1.5725},\"mode\":\"markers\",\"name\":\"Shanti Nagar\",\"showlegend\":true,\"subplot\":\"mapbox\",\"type\":\"scattermapbox\"},{\"hovertemplate\":\"Location=Thippasandra<br>Count=%{marker.size}<br>Latitude=%{lat}<br>Longitude=%{lon}<extra></extra>\",\"lat\":[12.973936],\"legendgroup\":\"Thippasandra\",\"lon\":[77.6509982],\"marker\":{\"color\":\"#ab63fa\",\"opacity\":0.85,\"size\":[51],\"sizemode\":\"area\",\"sizeref\":1.5725},\"mode\":\"markers\",\"name\":\"Thippasandra\",\"showlegend\":true,\"subplot\":\"mapbox\",\"type\":\"scattermapbox\"},{\"hovertemplate\":\"Location=Kaggadasapura<br>Count=%{marker.size}<br>Latitude=%{lat}<br>Longitude=%{lon}<extra></extra>\",\"lat\":[12.9846713],\"legendgroup\":\"Kaggadasapura\",\"lon\":[77.6790908],\"marker\":{\"color\":\"#FFA15A\",\"opacity\":0.85,\"size\":[50],\"sizemode\":\"area\",\"sizeref\":1.5725},\"mode\":\"markers\",\"name\":\"Kaggadasapura\",\"showlegend\":true,\"subplot\":\"mapbox\",\"type\":\"scattermapbox\"},{\"hovertemplate\":\"Location=Vijay Nagar<br>Count=%{marker.size}<br>Latitude=%{lat}<br>Longitude=%{lon}<extra></extra>\",\"lat\":[12.96599025],\"legendgroup\":\"Vijay Nagar\",\"lon\":[77.61255661823476],\"marker\":{\"color\":\"#19d3f3\",\"opacity\":0.85,\"size\":[49],\"sizemode\":\"area\",\"sizeref\":1.5725},\"mode\":\"markers\",\"name\":\"Vijay Nagar\",\"showlegend\":true,\"subplot\":\"mapbox\",\"type\":\"scattermapbox\"},{\"hovertemplate\":\"Location=Cunningham Road<br>Count=%{marker.size}<br>Latitude=%{lat}<br>Longitude=%{lon}<extra></extra>\",\"lat\":[12.9871119],\"legendgroup\":\"Cunningham Road\",\"lon\":[77.5948766],\"marker\":{\"color\":\"#FF6692\",\"opacity\":0.85,\"size\":[47],\"sizemode\":\"area\",\"sizeref\":1.5725},\"mode\":\"markers\",\"name\":\"Cunningham Road\",\"showlegend\":true,\"subplot\":\"mapbox\",\"type\":\"scattermapbox\"},{\"hovertemplate\":\"Location=Hennur<br>Count=%{marker.size}<br>Latitude=%{lat}<br>Longitude=%{lon}<extra></extra>\",\"lat\":[13.0258087],\"legendgroup\":\"Hennur\",\"lon\":[77.6305067],\"marker\":{\"color\":\"#B6E880\",\"opacity\":0.85,\"size\":[47],\"sizemode\":\"area\",\"sizeref\":1.5725},\"mode\":\"markers\",\"name\":\"Hennur\",\"showlegend\":true,\"subplot\":\"mapbox\",\"type\":\"scattermapbox\"},{\"hovertemplate\":\"Location=Seshadripuram<br>Count=%{marker.size}<br>Latitude=%{lat}<br>Longitude=%{lon}<extra></extra>\",\"lat\":[12.9931876],\"legendgroup\":\"Seshadripuram\",\"lon\":[77.5753419],\"marker\":{\"color\":\"#FF97FF\",\"opacity\":0.85,\"size\":[46],\"sizemode\":\"area\",\"sizeref\":1.5725},\"mode\":\"markers\",\"name\":\"Seshadripuram\",\"showlegend\":true,\"subplot\":\"mapbox\",\"type\":\"scattermapbox\"},{\"hovertemplate\":\"Location=Vasanth Nagar<br>Count=%{marker.size}<br>Latitude=%{lat}<br>Longitude=%{lon}<extra></extra>\",\"lat\":[12.988721250000001],\"legendgroup\":\"Vasanth Nagar\",\"lon\":[77.58516877601824],\"marker\":{\"color\":\"#FECB52\",\"opacity\":0.85,\"size\":[43],\"sizemode\":\"area\",\"sizeref\":1.5725},\"mode\":\"markers\",\"name\":\"Vasanth Nagar\",\"showlegend\":true,\"subplot\":\"mapbox\",\"type\":\"scattermapbox\"},{\"hovertemplate\":\"Location=Sahakara Nagar<br>Count=%{marker.size}<br>Latitude=%{lat}<br>Longitude=%{lon}<extra></extra>\",\"lat\":[13.0621474],\"legendgroup\":\"Sahakara Nagar\",\"lon\":[77.58006135480495],\"marker\":{\"color\":\"#636efa\",\"opacity\":0.85,\"size\":[40],\"sizemode\":\"area\",\"sizeref\":1.5725},\"mode\":\"markers\",\"name\":\"Sahakara Nagar\",\"showlegend\":true,\"subplot\":\"mapbox\",\"type\":\"scattermapbox\"},{\"hovertemplate\":\"Location=RT Nagar<br>Count=%{marker.size}<br>Latitude=%{lat}<br>Longitude=%{lon}<extra></extra>\",\"lat\":[13.0227204],\"legendgroup\":\"RT Nagar\",\"lon\":[77.595715],\"marker\":{\"color\":\"#EF553B\",\"opacity\":0.85,\"size\":[39],\"sizemode\":\"area\",\"sizeref\":1.5725},\"mode\":\"markers\",\"name\":\"RT Nagar\",\"showlegend\":true,\"subplot\":\"mapbox\",\"type\":\"scattermapbox\"},{\"hovertemplate\":\"Location=ITPL Main Road, Whitefield<br>Count=%{marker.size}<br>Latitude=%{lat}<br>Longitude=%{lon}<extra></extra>\",\"lat\":[12.9866083],\"legendgroup\":\"ITPL Main Road, Whitefield\",\"lon\":[77.7317181],\"marker\":{\"color\":\"#00cc96\",\"opacity\":0.85,\"size\":[35],\"sizemode\":\"area\",\"sizeref\":1.5725},\"mode\":\"markers\",\"name\":\"ITPL Main Road, Whitefield\",\"showlegend\":true,\"subplot\":\"mapbox\",\"type\":\"scattermapbox\"},{\"hovertemplate\":\"Location=Shivajinagar<br>Count=%{marker.size}<br>Latitude=%{lat}<br>Longitude=%{lon}<extra></extra>\",\"lat\":[12.986391],\"legendgroup\":\"Shivajinagar\",\"lon\":[77.6075416],\"marker\":{\"color\":\"#ab63fa\",\"opacity\":0.85,\"size\":[34],\"sizemode\":\"area\",\"sizeref\":1.5725},\"mode\":\"markers\",\"name\":\"Shivajinagar\",\"showlegend\":true,\"subplot\":\"mapbox\",\"type\":\"scattermapbox\"},{\"hovertemplate\":\"Location=St. Marks Road<br>Count=%{marker.size}<br>Latitude=%{lat}<br>Longitude=%{lon}<extra></extra>\",\"lat\":[null],\"legendgroup\":\"St. Marks Road\",\"lon\":[null],\"marker\":{\"color\":\"#FFA15A\",\"opacity\":0.85,\"size\":[34],\"sizemode\":\"area\",\"sizeref\":1.5725},\"mode\":\"markers\",\"name\":\"St. Marks Road\",\"showlegend\":true,\"subplot\":\"mapbox\",\"type\":\"scattermapbox\"},{\"hovertemplate\":\"Location=Commercial Street<br>Count=%{marker.size}<br>Latitude=%{lat}<br>Longitude=%{lon}<extra></extra>\",\"lat\":[12.9822224],\"legendgroup\":\"Commercial Street\",\"lon\":[77.6083239],\"marker\":{\"color\":\"#19d3f3\",\"opacity\":0.85,\"size\":[34],\"sizemode\":\"area\",\"sizeref\":1.5725},\"mode\":\"markers\",\"name\":\"Commercial Street\",\"showlegend\":true,\"subplot\":\"mapbox\",\"type\":\"scattermapbox\"},{\"hovertemplate\":\"Location=Ejipura<br>Count=%{marker.size}<br>Latitude=%{lat}<br>Longitude=%{lon}<extra></extra>\",\"lat\":[12.945245],\"legendgroup\":\"Ejipura\",\"lon\":[77.6269144],\"marker\":{\"color\":\"#FF6692\",\"opacity\":0.85,\"size\":[34],\"sizemode\":\"area\",\"sizeref\":1.5725},\"mode\":\"markers\",\"name\":\"Ejipura\",\"showlegend\":true,\"subplot\":\"mapbox\",\"type\":\"scattermapbox\"},{\"hovertemplate\":\"Location=Wilson Garden<br>Count=%{marker.size}<br>Latitude=%{lat}<br>Longitude=%{lon}<extra></extra>\",\"lat\":[12.9489339],\"legendgroup\":\"Wilson Garden\",\"lon\":[77.5968273],\"marker\":{\"color\":\"#B6E880\",\"opacity\":0.85,\"size\":[33],\"sizemode\":\"area\",\"sizeref\":1.5725},\"mode\":\"markers\",\"name\":\"Wilson Garden\",\"showlegend\":true,\"subplot\":\"mapbox\",\"type\":\"scattermapbox\"},{\"hovertemplate\":\"Location=Koramangala 8th Block<br>Count=%{marker.size}<br>Latitude=%{lat}<br>Longitude=%{lon}<extra></extra>\",\"lat\":[12.9408685],\"legendgroup\":\"Koramangala 8th Block\",\"lon\":[77.617338],\"marker\":{\"color\":\"#FF97FF\",\"opacity\":0.85,\"size\":[31],\"sizemode\":\"area\",\"sizeref\":1.5725},\"mode\":\"markers\",\"name\":\"Koramangala 8th Block\",\"showlegend\":true,\"subplot\":\"mapbox\",\"type\":\"scattermapbox\"},{\"hovertemplate\":\"Location=Varthur Main Road, Whitefield<br>Count=%{marker.size}<br>Latitude=%{lat}<br>Longitude=%{lon}<extra></extra>\",\"lat\":[12.9413238],\"legendgroup\":\"Varthur Main Road, Whitefield\",\"lon\":[77.7471103],\"marker\":{\"color\":\"#FECB52\",\"opacity\":0.85,\"size\":[30],\"sizemode\":\"area\",\"sizeref\":1.5725},\"mode\":\"markers\",\"name\":\"Varthur Main Road, Whitefield\",\"showlegend\":true,\"subplot\":\"mapbox\",\"type\":\"scattermapbox\"},{\"hovertemplate\":\"Location=Sanjay Nagar<br>Count=%{marker.size}<br>Latitude=%{lat}<br>Longitude=%{lon}<extra></extra>\",\"lat\":[12.9578658],\"legendgroup\":\"Sanjay Nagar\",\"lon\":[77.6958748],\"marker\":{\"color\":\"#636efa\",\"opacity\":0.85,\"size\":[30],\"sizemode\":\"area\",\"sizeref\":1.5725},\"mode\":\"markers\",\"name\":\"Sanjay Nagar\",\"showlegend\":true,\"subplot\":\"mapbox\",\"type\":\"scattermapbox\"},{\"hovertemplate\":\"Location=Race Course Road<br>Count=%{marker.size}<br>Latitude=%{lat}<br>Longitude=%{lon}<extra></extra>\",\"lat\":[12.9843073],\"legendgroup\":\"Race Course Road\",\"lon\":[77.5878852],\"marker\":{\"color\":\"#EF553B\",\"opacity\":0.85,\"size\":[29],\"sizemode\":\"area\",\"sizeref\":1.5725},\"mode\":\"markers\",\"name\":\"Race Course Road\",\"showlegend\":true,\"subplot\":\"mapbox\",\"type\":\"scattermapbox\"},{\"hovertemplate\":\"Location=CV Raman Nagar<br>Count=%{marker.size}<br>Latitude=%{lat}<br>Longitude=%{lon}<extra></extra>\",\"lat\":[12.9856596],\"legendgroup\":\"CV Raman Nagar\",\"lon\":[77.6638971],\"marker\":{\"color\":\"#00cc96\",\"opacity\":0.85,\"size\":[29],\"sizemode\":\"area\",\"sizeref\":1.5725},\"mode\":\"markers\",\"name\":\"CV Raman Nagar\",\"showlegend\":true,\"subplot\":\"mapbox\",\"type\":\"scattermapbox\"},{\"hovertemplate\":\"Location=HBR Layout<br>Count=%{marker.size}<br>Latitude=%{lat}<br>Longitude=%{lon}<extra></extra>\",\"lat\":[13.0358698],\"legendgroup\":\"HBR Layout\",\"lon\":[77.6323597],\"marker\":{\"color\":\"#ab63fa\",\"opacity\":0.85,\"size\":[28],\"sizemode\":\"area\",\"sizeref\":1.5725},\"mode\":\"markers\",\"name\":\"HBR Layout\",\"showlegend\":true,\"subplot\":\"mapbox\",\"type\":\"scattermapbox\"},{\"hovertemplate\":\"Location=Sadashiv Nagar<br>Count=%{marker.size}<br>Latitude=%{lat}<br>Longitude=%{lon}<extra></extra>\",\"lat\":[null],\"legendgroup\":\"Sadashiv Nagar\",\"lon\":[null],\"marker\":{\"color\":\"#FFA15A\",\"opacity\":0.85,\"size\":[28],\"sizemode\":\"area\",\"sizeref\":1.5725},\"mode\":\"markers\",\"name\":\"Sadashiv Nagar\",\"showlegend\":true,\"subplot\":\"mapbox\",\"type\":\"scattermapbox\"},{\"hovertemplate\":\"Location=City Market<br>Count=%{marker.size}<br>Latitude=%{lat}<br>Longitude=%{lon}<extra></extra>\",\"lat\":[12.965717999999999],\"legendgroup\":\"City Market\",\"lon\":[77.5762705372058],\"marker\":{\"color\":\"#19d3f3\",\"opacity\":0.85,\"size\":[21],\"sizemode\":\"area\",\"sizeref\":1.5725},\"mode\":\"markers\",\"name\":\"City Market\",\"showlegend\":true,\"subplot\":\"mapbox\",\"type\":\"scattermapbox\"},{\"hovertemplate\":\"Location=South Bangalore<br>Count=%{marker.size}<br>Latitude=%{lat}<br>Longitude=%{lon}<extra></extra>\",\"lat\":[12.8845448],\"legendgroup\":\"South Bangalore\",\"lon\":[77.5701276],\"marker\":{\"color\":\"#FF6692\",\"opacity\":0.85,\"size\":[20],\"sizemode\":\"area\",\"sizeref\":1.5725},\"mode\":\"markers\",\"name\":\"South Bangalore\",\"showlegend\":true,\"subplot\":\"mapbox\",\"type\":\"scattermapbox\"},{\"hovertemplate\":\"Location=Koramangala 3rd Block<br>Count=%{marker.size}<br>Latitude=%{lat}<br>Longitude=%{lon}<extra></extra>\",\"lat\":[12.9282918],\"legendgroup\":\"Koramangala 3rd Block\",\"lon\":[77.6254034],\"marker\":{\"color\":\"#B6E880\",\"opacity\":0.85,\"size\":[19],\"sizemode\":\"area\",\"sizeref\":1.5725},\"mode\":\"markers\",\"name\":\"Koramangala 3rd Block\",\"showlegend\":true,\"subplot\":\"mapbox\",\"type\":\"scattermapbox\"},{\"hovertemplate\":\"Location=East Bangalore<br>Count=%{marker.size}<br>Latitude=%{lat}<br>Longitude=%{lon}<extra></extra>\",\"lat\":[12.9845687],\"legendgroup\":\"East Bangalore\",\"lon\":[77.73766474151809],\"marker\":{\"color\":\"#FF97FF\",\"opacity\":0.85,\"size\":[16],\"sizemode\":\"area\",\"sizeref\":1.5725},\"mode\":\"markers\",\"name\":\"East Bangalore\",\"showlegend\":true,\"subplot\":\"mapbox\",\"type\":\"scattermapbox\"},{\"hovertemplate\":\"Location=Magadi Road<br>Count=%{marker.size}<br>Latitude=%{lat}<br>Longitude=%{lon}<extra></extra>\",\"lat\":[12.975608],\"legendgroup\":\"Magadi Road\",\"lon\":[77.5553564],\"marker\":{\"color\":\"#FECB52\",\"opacity\":0.85,\"size\":[16],\"sizemode\":\"area\",\"sizeref\":1.5725},\"mode\":\"markers\",\"name\":\"Magadi Road\",\"showlegend\":true,\"subplot\":\"mapbox\",\"type\":\"scattermapbox\"},{\"hovertemplate\":\"Location=Rammurthy Nagar<br>Count=%{marker.size}<br>Latitude=%{lat}<br>Longitude=%{lon}<extra></extra>\",\"lat\":[null],\"legendgroup\":\"Rammurthy Nagar\",\"lon\":[null],\"marker\":{\"color\":\"#636efa\",\"opacity\":0.85,\"size\":[15],\"sizemode\":\"area\",\"sizeref\":1.5725},\"mode\":\"markers\",\"name\":\"Rammurthy Nagar\",\"showlegend\":true,\"subplot\":\"mapbox\",\"type\":\"scattermapbox\"},{\"hovertemplate\":\"Location=Jalahalli<br>Count=%{marker.size}<br>Latitude=%{lat}<br>Longitude=%{lon}<extra></extra>\",\"lat\":[13.0464531],\"legendgroup\":\"Jalahalli\",\"lon\":[77.5483803],\"marker\":{\"color\":\"#EF553B\",\"opacity\":0.85,\"size\":[15],\"sizemode\":\"area\",\"sizeref\":1.5725},\"mode\":\"markers\",\"name\":\"Jalahalli\",\"showlegend\":true,\"subplot\":\"mapbox\",\"type\":\"scattermapbox\"},{\"hovertemplate\":\"Location=Infantry Road<br>Count=%{marker.size}<br>Latitude=%{lat}<br>Longitude=%{lon}<extra></extra>\",\"lat\":[12.9837879],\"legendgroup\":\"Infantry Road\",\"lon\":[77.5940558],\"marker\":{\"color\":\"#00cc96\",\"opacity\":0.85,\"size\":[13],\"sizemode\":\"area\",\"sizeref\":1.5725},\"mode\":\"markers\",\"name\":\"Infantry Road\",\"showlegend\":true,\"subplot\":\"mapbox\",\"type\":\"scattermapbox\"},{\"hovertemplate\":\"Location=Sankey Road<br>Count=%{marker.size}<br>Latitude=%{lat}<br>Longitude=%{lon}<extra></extra>\",\"lat\":[12.9886937],\"legendgroup\":\"Sankey Road\",\"lon\":[77.5863032],\"marker\":{\"color\":\"#ab63fa\",\"opacity\":0.85,\"size\":[12],\"sizemode\":\"area\",\"sizeref\":1.5725},\"mode\":\"markers\",\"name\":\"Sankey Road\",\"showlegend\":true,\"subplot\":\"mapbox\",\"type\":\"scattermapbox\"},{\"hovertemplate\":\"Location=Hosur Road<br>Count=%{marker.size}<br>Latitude=%{lat}<br>Longitude=%{lon}<extra></extra>\",\"lat\":[12.9524872],\"legendgroup\":\"Hosur Road\",\"lon\":[77.6052377],\"marker\":{\"color\":\"#FFA15A\",\"opacity\":0.85,\"size\":[11],\"sizemode\":\"area\",\"sizeref\":1.5725},\"mode\":\"markers\",\"name\":\"Hosur Road\",\"showlegend\":true,\"subplot\":\"mapbox\",\"type\":\"scattermapbox\"},{\"hovertemplate\":\"Location=Kanakapura Road<br>Count=%{marker.size}<br>Latitude=%{lat}<br>Longitude=%{lon}<extra></extra>\",\"lat\":[12.93679],\"legendgroup\":\"Kanakapura Road\",\"lon\":[77.5753572],\"marker\":{\"color\":\"#19d3f3\",\"opacity\":0.85,\"size\":[10],\"sizemode\":\"area\",\"sizeref\":1.5725},\"mode\":\"markers\",\"name\":\"Kanakapura Road\",\"showlegend\":true,\"subplot\":\"mapbox\",\"type\":\"scattermapbox\"},{\"hovertemplate\":\"Location=Old Madras Road<br>Count=%{marker.size}<br>Latitude=%{lat}<br>Longitude=%{lon}<extra></extra>\",\"lat\":[13.0280381],\"legendgroup\":\"Old Madras Road\",\"lon\":[77.7236769],\"marker\":{\"color\":\"#FF6692\",\"opacity\":0.85,\"size\":[9],\"sizemode\":\"area\",\"sizeref\":1.5725},\"mode\":\"markers\",\"name\":\"Old Madras Road\",\"showlegend\":true,\"subplot\":\"mapbox\",\"type\":\"scattermapbox\"},{\"hovertemplate\":\"Location=Koramangala 2nd Block<br>Count=%{marker.size}<br>Latitude=%{lat}<br>Longitude=%{lon}<extra></extra>\",\"lat\":[12.9243692],\"legendgroup\":\"Koramangala 2nd Block\",\"lon\":[77.6242433],\"marker\":{\"color\":\"#B6E880\",\"opacity\":0.85,\"size\":[8],\"sizemode\":\"area\",\"sizeref\":1.5725},\"mode\":\"markers\",\"name\":\"Koramangala 2nd Block\",\"showlegend\":true,\"subplot\":\"mapbox\",\"type\":\"scattermapbox\"},{\"hovertemplate\":\"Location=Mysore Road<br>Count=%{marker.size}<br>Latitude=%{lat}<br>Longitude=%{lon}<extra></extra>\",\"lat\":[12.9467026],\"legendgroup\":\"Mysore Road\",\"lon\":[77.5300705],\"marker\":{\"color\":\"#FF97FF\",\"opacity\":0.85,\"size\":[8],\"sizemode\":\"area\",\"sizeref\":1.5725},\"mode\":\"markers\",\"name\":\"Mysore Road\",\"showlegend\":true,\"subplot\":\"mapbox\",\"type\":\"scattermapbox\"},{\"hovertemplate\":\"Location=Uttarahalli<br>Count=%{marker.size}<br>Latitude=%{lat}<br>Longitude=%{lon}<extra></extra>\",\"lat\":[12.9055682],\"legendgroup\":\"Uttarahalli\",\"lon\":[77.5455438],\"marker\":{\"color\":\"#FECB52\",\"opacity\":0.85,\"size\":[8],\"sizemode\":\"area\",\"sizeref\":1.5725},\"mode\":\"markers\",\"name\":\"Uttarahalli\",\"showlegend\":true,\"subplot\":\"mapbox\",\"type\":\"scattermapbox\"},{\"hovertemplate\":\"Location=KR Puram<br>Count=%{marker.size}<br>Latitude=%{lat}<br>Longitude=%{lon}<extra></extra>\",\"lat\":[13.007516],\"legendgroup\":\"KR Puram\",\"lon\":[77.695935],\"marker\":{\"color\":\"#636efa\",\"opacity\":0.85,\"size\":[8],\"sizemode\":\"area\",\"sizeref\":1.5725},\"mode\":\"markers\",\"name\":\"KR Puram\",\"showlegend\":true,\"subplot\":\"mapbox\",\"type\":\"scattermapbox\"},{\"hovertemplate\":\"Location=Koramangala<br>Count=%{marker.size}<br>Latitude=%{lat}<br>Longitude=%{lon}<extra></extra>\",\"lat\":[13.2923988],\"legendgroup\":\"Koramangala\",\"lon\":[77.7519261],\"marker\":{\"color\":\"#EF553B\",\"opacity\":0.85,\"size\":[6],\"sizemode\":\"area\",\"sizeref\":1.5725},\"mode\":\"markers\",\"name\":\"Koramangala\",\"showlegend\":true,\"subplot\":\"mapbox\",\"type\":\"scattermapbox\"},{\"hovertemplate\":\"Location=North Bangalore<br>Count=%{marker.size}<br>Latitude=%{lat}<br>Longitude=%{lon}<extra></extra>\",\"lat\":[12.9767936],\"legendgroup\":\"North Bangalore\",\"lon\":[77.590082],\"marker\":{\"color\":\"#00cc96\",\"opacity\":0.85,\"size\":[4],\"sizemode\":\"area\",\"sizeref\":1.5725},\"mode\":\"markers\",\"name\":\"North Bangalore\",\"showlegend\":true,\"subplot\":\"mapbox\",\"type\":\"scattermapbox\"},{\"hovertemplate\":\"Location=Hebbal<br>Count=%{marker.size}<br>Latitude=%{lat}<br>Longitude=%{lon}<extra></extra>\",\"lat\":[13.0382184],\"legendgroup\":\"Hebbal\",\"lon\":[77.5919],\"marker\":{\"color\":\"#ab63fa\",\"opacity\":0.85,\"size\":[4],\"sizemode\":\"area\",\"sizeref\":1.5725},\"mode\":\"markers\",\"name\":\"Hebbal\",\"showlegend\":true,\"subplot\":\"mapbox\",\"type\":\"scattermapbox\"},{\"hovertemplate\":\"Location=West Bangalore<br>Count=%{marker.size}<br>Latitude=%{lat}<br>Longitude=%{lon}<extra></extra>\",\"lat\":[12.9848519],\"legendgroup\":\"West Bangalore\",\"lon\":[77.5400626],\"marker\":{\"color\":\"#FFA15A\",\"opacity\":0.85,\"size\":[2],\"sizemode\":\"area\",\"sizeref\":1.5725},\"mode\":\"markers\",\"name\":\"West Bangalore\",\"showlegend\":true,\"subplot\":\"mapbox\",\"type\":\"scattermapbox\"},{\"hovertemplate\":\"Location=Yelahanka<br>Count=%{marker.size}<br>Latitude=%{lat}<br>Longitude=%{lon}<extra></extra>\",\"lat\":[13.1006982],\"legendgroup\":\"Yelahanka\",\"lon\":[77.5963454],\"marker\":{\"color\":\"#19d3f3\",\"opacity\":0.85,\"size\":[2],\"sizemode\":\"area\",\"sizeref\":1.5725},\"mode\":\"markers\",\"name\":\"Yelahanka\",\"showlegend\":true,\"subplot\":\"mapbox\",\"type\":\"scattermapbox\"},{\"hovertemplate\":\"Location=Rajarajeshwari Nagar<br>Count=%{marker.size}<br>Latitude=%{lat}<br>Longitude=%{lon}<extra></extra>\",\"lat\":[12.9274413],\"legendgroup\":\"Rajarajeshwari Nagar\",\"lon\":[77.5155224],\"marker\":{\"color\":\"#FF6692\",\"opacity\":0.85,\"size\":[2],\"sizemode\":\"area\",\"sizeref\":1.5725},\"mode\":\"markers\",\"name\":\"Rajarajeshwari Nagar\",\"showlegend\":true,\"subplot\":\"mapbox\",\"type\":\"scattermapbox\"},{\"hovertemplate\":\"Location=Central Bangalore<br>Count=%{marker.size}<br>Latitude=%{lat}<br>Longitude=%{lon}<extra></extra>\",\"lat\":[13.0101286],\"legendgroup\":\"Central Bangalore\",\"lon\":[77.5548006],\"marker\":{\"color\":\"#B6E880\",\"opacity\":0.85,\"size\":[2],\"sizemode\":\"area\",\"sizeref\":1.5725},\"mode\":\"markers\",\"name\":\"Central Bangalore\",\"showlegend\":true,\"subplot\":\"mapbox\",\"type\":\"scattermapbox\"},{\"hovertemplate\":\"Location=Langford Town<br>Count=%{marker.size}<br>Latitude=%{lat}<br>Longitude=%{lon}<extra></extra>\",\"lat\":[12.957998],\"legendgroup\":\"Langford Town\",\"lon\":[77.6037312],\"marker\":{\"color\":\"#FF97FF\",\"opacity\":0.85,\"size\":[2],\"sizemode\":\"area\",\"sizeref\":1.5725},\"mode\":\"markers\",\"name\":\"Langford Town\",\"showlegend\":true,\"subplot\":\"mapbox\",\"type\":\"scattermapbox\"},{\"hovertemplate\":\"Location=Kengeri<br>Count=%{marker.size}<br>Latitude=%{lat}<br>Longitude=%{lon}<extra></extra>\",\"lat\":[12.9176571],\"legendgroup\":\"Kengeri\",\"lon\":[77.4837568],\"marker\":{\"color\":\"#FECB52\",\"opacity\":0.85,\"size\":[1],\"sizemode\":\"area\",\"sizeref\":1.5725},\"mode\":\"markers\",\"name\":\"Kengeri\",\"showlegend\":true,\"subplot\":\"mapbox\",\"type\":\"scattermapbox\"},{\"hovertemplate\":\"Location=Nagarbhavi<br>Count=%{marker.size}<br>Latitude=%{lat}<br>Longitude=%{lon}<extra></extra>\",\"lat\":[12.95961755],\"legendgroup\":\"Nagarbhavi\",\"lon\":[77.51126721318181],\"marker\":{\"color\":\"#636efa\",\"opacity\":0.85,\"size\":[1],\"sizemode\":\"area\",\"sizeref\":1.5725},\"mode\":\"markers\",\"name\":\"Nagarbhavi\",\"showlegend\":true,\"subplot\":\"mapbox\",\"type\":\"scattermapbox\"},{\"hovertemplate\":\"Location=Peenya<br>Count=%{marker.size}<br>Latitude=%{lat}<br>Longitude=%{lon}<extra></extra>\",\"lat\":[13.0329419],\"legendgroup\":\"Peenya\",\"lon\":[77.5273253],\"marker\":{\"color\":\"#EF553B\",\"opacity\":0.85,\"size\":[1],\"sizemode\":\"area\",\"sizeref\":1.5725},\"mode\":\"markers\",\"name\":\"Peenya\",\"showlegend\":true,\"subplot\":\"mapbox\",\"type\":\"scattermapbox\"}],                        {\"template\":{\"data\":{\"bar\":[{\"error_x\":{\"color\":\"#2a3f5f\"},\"error_y\":{\"color\":\"#2a3f5f\"},\"marker\":{\"line\":{\"color\":\"#E5ECF6\",\"width\":0.5},\"pattern\":{\"fillmode\":\"overlay\",\"size\":10,\"solidity\":0.2}},\"type\":\"bar\"}],\"barpolar\":[{\"marker\":{\"line\":{\"color\":\"#E5ECF6\",\"width\":0.5},\"pattern\":{\"fillmode\":\"overlay\",\"size\":10,\"solidity\":0.2}},\"type\":\"barpolar\"}],\"carpet\":[{\"aaxis\":{\"endlinecolor\":\"#2a3f5f\",\"gridcolor\":\"white\",\"linecolor\":\"white\",\"minorgridcolor\":\"white\",\"startlinecolor\":\"#2a3f5f\"},\"baxis\":{\"endlinecolor\":\"#2a3f5f\",\"gridcolor\":\"white\",\"linecolor\":\"white\",\"minorgridcolor\":\"white\",\"startlinecolor\":\"#2a3f5f\"},\"type\":\"carpet\"}],\"choropleth\":[{\"colorbar\":{\"outlinewidth\":0,\"ticks\":\"\"},\"type\":\"choropleth\"}],\"contour\":[{\"colorbar\":{\"outlinewidth\":0,\"ticks\":\"\"},\"colorscale\":[[0.0,\"#0d0887\"],[0.1111111111111111,\"#46039f\"],[0.2222222222222222,\"#7201a8\"],[0.3333333333333333,\"#9c179e\"],[0.4444444444444444,\"#bd3786\"],[0.5555555555555556,\"#d8576b\"],[0.6666666666666666,\"#ed7953\"],[0.7777777777777778,\"#fb9f3a\"],[0.8888888888888888,\"#fdca26\"],[1.0,\"#f0f921\"]],\"type\":\"contour\"}],\"contourcarpet\":[{\"colorbar\":{\"outlinewidth\":0,\"ticks\":\"\"},\"type\":\"contourcarpet\"}],\"heatmap\":[{\"colorbar\":{\"outlinewidth\":0,\"ticks\":\"\"},\"colorscale\":[[0.0,\"#0d0887\"],[0.1111111111111111,\"#46039f\"],[0.2222222222222222,\"#7201a8\"],[0.3333333333333333,\"#9c179e\"],[0.4444444444444444,\"#bd3786\"],[0.5555555555555556,\"#d8576b\"],[0.6666666666666666,\"#ed7953\"],[0.7777777777777778,\"#fb9f3a\"],[0.8888888888888888,\"#fdca26\"],[1.0,\"#f0f921\"]],\"type\":\"heatmap\"}],\"heatmapgl\":[{\"colorbar\":{\"outlinewidth\":0,\"ticks\":\"\"},\"colorscale\":[[0.0,\"#0d0887\"],[0.1111111111111111,\"#46039f\"],[0.2222222222222222,\"#7201a8\"],[0.3333333333333333,\"#9c179e\"],[0.4444444444444444,\"#bd3786\"],[0.5555555555555556,\"#d8576b\"],[0.6666666666666666,\"#ed7953\"],[0.7777777777777778,\"#fb9f3a\"],[0.8888888888888888,\"#fdca26\"],[1.0,\"#f0f921\"]],\"type\":\"heatmapgl\"}],\"histogram\":[{\"marker\":{\"pattern\":{\"fillmode\":\"overlay\",\"size\":10,\"solidity\":0.2}},\"type\":\"histogram\"}],\"histogram2d\":[{\"colorbar\":{\"outlinewidth\":0,\"ticks\":\"\"},\"colorscale\":[[0.0,\"#0d0887\"],[0.1111111111111111,\"#46039f\"],[0.2222222222222222,\"#7201a8\"],[0.3333333333333333,\"#9c179e\"],[0.4444444444444444,\"#bd3786\"],[0.5555555555555556,\"#d8576b\"],[0.6666666666666666,\"#ed7953\"],[0.7777777777777778,\"#fb9f3a\"],[0.8888888888888888,\"#fdca26\"],[1.0,\"#f0f921\"]],\"type\":\"histogram2d\"}],\"histogram2dcontour\":[{\"colorbar\":{\"outlinewidth\":0,\"ticks\":\"\"},\"colorscale\":[[0.0,\"#0d0887\"],[0.1111111111111111,\"#46039f\"],[0.2222222222222222,\"#7201a8\"],[0.3333333333333333,\"#9c179e\"],[0.4444444444444444,\"#bd3786\"],[0.5555555555555556,\"#d8576b\"],[0.6666666666666666,\"#ed7953\"],[0.7777777777777778,\"#fb9f3a\"],[0.8888888888888888,\"#fdca26\"],[1.0,\"#f0f921\"]],\"type\":\"histogram2dcontour\"}],\"mesh3d\":[{\"colorbar\":{\"outlinewidth\":0,\"ticks\":\"\"},\"type\":\"mesh3d\"}],\"parcoords\":[{\"line\":{\"colorbar\":{\"outlinewidth\":0,\"ticks\":\"\"}},\"type\":\"parcoords\"}],\"pie\":[{\"automargin\":true,\"type\":\"pie\"}],\"scatter\":[{\"marker\":{\"colorbar\":{\"outlinewidth\":0,\"ticks\":\"\"}},\"type\":\"scatter\"}],\"scatter3d\":[{\"line\":{\"colorbar\":{\"outlinewidth\":0,\"ticks\":\"\"}},\"marker\":{\"colorbar\":{\"outlinewidth\":0,\"ticks\":\"\"}},\"type\":\"scatter3d\"}],\"scattercarpet\":[{\"marker\":{\"colorbar\":{\"outlinewidth\":0,\"ticks\":\"\"}},\"type\":\"scattercarpet\"}],\"scattergeo\":[{\"marker\":{\"colorbar\":{\"outlinewidth\":0,\"ticks\":\"\"}},\"type\":\"scattergeo\"}],\"scattergl\":[{\"marker\":{\"colorbar\":{\"outlinewidth\":0,\"ticks\":\"\"}},\"type\":\"scattergl\"}],\"scattermapbox\":[{\"marker\":{\"colorbar\":{\"outlinewidth\":0,\"ticks\":\"\"}},\"type\":\"scattermapbox\"}],\"scatterpolar\":[{\"marker\":{\"colorbar\":{\"outlinewidth\":0,\"ticks\":\"\"}},\"type\":\"scatterpolar\"}],\"scatterpolargl\":[{\"marker\":{\"colorbar\":{\"outlinewidth\":0,\"ticks\":\"\"}},\"type\":\"scatterpolargl\"}],\"scatterternary\":[{\"marker\":{\"colorbar\":{\"outlinewidth\":0,\"ticks\":\"\"}},\"type\":\"scatterternary\"}],\"surface\":[{\"colorbar\":{\"outlinewidth\":0,\"ticks\":\"\"},\"colorscale\":[[0.0,\"#0d0887\"],[0.1111111111111111,\"#46039f\"],[0.2222222222222222,\"#7201a8\"],[0.3333333333333333,\"#9c179e\"],[0.4444444444444444,\"#bd3786\"],[0.5555555555555556,\"#d8576b\"],[0.6666666666666666,\"#ed7953\"],[0.7777777777777778,\"#fb9f3a\"],[0.8888888888888888,\"#fdca26\"],[1.0,\"#f0f921\"]],\"type\":\"surface\"}],\"table\":[{\"cells\":{\"fill\":{\"color\":\"#EBF0F8\"},\"line\":{\"color\":\"white\"}},\"header\":{\"fill\":{\"color\":\"#C8D4E3\"},\"line\":{\"color\":\"white\"}},\"type\":\"table\"}]},\"layout\":{\"annotationdefaults\":{\"arrowcolor\":\"#2a3f5f\",\"arrowhead\":0,\"arrowwidth\":1},\"autotypenumbers\":\"strict\",\"coloraxis\":{\"colorbar\":{\"outlinewidth\":0,\"ticks\":\"\"}},\"colorscale\":{\"diverging\":[[0,\"#8e0152\"],[0.1,\"#c51b7d\"],[0.2,\"#de77ae\"],[0.3,\"#f1b6da\"],[0.4,\"#fde0ef\"],[0.5,\"#f7f7f7\"],[0.6,\"#e6f5d0\"],[0.7,\"#b8e186\"],[0.8,\"#7fbc41\"],[0.9,\"#4d9221\"],[1,\"#276419\"]],\"sequential\":[[0.0,\"#0d0887\"],[0.1111111111111111,\"#46039f\"],[0.2222222222222222,\"#7201a8\"],[0.3333333333333333,\"#9c179e\"],[0.4444444444444444,\"#bd3786\"],[0.5555555555555556,\"#d8576b\"],[0.6666666666666666,\"#ed7953\"],[0.7777777777777778,\"#fb9f3a\"],[0.8888888888888888,\"#fdca26\"],[1.0,\"#f0f921\"]],\"sequentialminus\":[[0.0,\"#0d0887\"],[0.1111111111111111,\"#46039f\"],[0.2222222222222222,\"#7201a8\"],[0.3333333333333333,\"#9c179e\"],[0.4444444444444444,\"#bd3786\"],[0.5555555555555556,\"#d8576b\"],[0.6666666666666666,\"#ed7953\"],[0.7777777777777778,\"#fb9f3a\"],[0.8888888888888888,\"#fdca26\"],[1.0,\"#f0f921\"]]},\"colorway\":[\"#636efa\",\"#EF553B\",\"#00cc96\",\"#ab63fa\",\"#FFA15A\",\"#19d3f3\",\"#FF6692\",\"#B6E880\",\"#FF97FF\",\"#FECB52\"],\"font\":{\"color\":\"#2a3f5f\"},\"geo\":{\"bgcolor\":\"white\",\"lakecolor\":\"white\",\"landcolor\":\"#E5ECF6\",\"showlakes\":true,\"showland\":true,\"subunitcolor\":\"white\"},\"hoverlabel\":{\"align\":\"left\"},\"hovermode\":\"closest\",\"mapbox\":{\"style\":\"light\"},\"paper_bgcolor\":\"white\",\"plot_bgcolor\":\"#E5ECF6\",\"polar\":{\"angularaxis\":{\"gridcolor\":\"white\",\"linecolor\":\"white\",\"ticks\":\"\"},\"bgcolor\":\"#E5ECF6\",\"radialaxis\":{\"gridcolor\":\"white\",\"linecolor\":\"white\",\"ticks\":\"\"}},\"scene\":{\"xaxis\":{\"backgroundcolor\":\"#E5ECF6\",\"gridcolor\":\"white\",\"gridwidth\":2,\"linecolor\":\"white\",\"showbackground\":true,\"ticks\":\"\",\"zerolinecolor\":\"white\"},\"yaxis\":{\"backgroundcolor\":\"#E5ECF6\",\"gridcolor\":\"white\",\"gridwidth\":2,\"linecolor\":\"white\",\"showbackground\":true,\"ticks\":\"\",\"zerolinecolor\":\"white\"},\"zaxis\":{\"backgroundcolor\":\"#E5ECF6\",\"gridcolor\":\"white\",\"gridwidth\":2,\"linecolor\":\"white\",\"showbackground\":true,\"ticks\":\"\",\"zerolinecolor\":\"white\"}},\"shapedefaults\":{\"line\":{\"color\":\"#2a3f5f\"}},\"ternary\":{\"aaxis\":{\"gridcolor\":\"white\",\"linecolor\":\"white\",\"ticks\":\"\"},\"baxis\":{\"gridcolor\":\"white\",\"linecolor\":\"white\",\"ticks\":\"\"},\"bgcolor\":\"#E5ECF6\",\"caxis\":{\"gridcolor\":\"white\",\"linecolor\":\"white\",\"ticks\":\"\"}},\"title\":{\"x\":0.05},\"xaxis\":{\"automargin\":true,\"gridcolor\":\"white\",\"linecolor\":\"white\",\"ticks\":\"\",\"title\":{\"standoff\":15},\"zerolinecolor\":\"white\",\"zerolinewidth\":2},\"yaxis\":{\"automargin\":true,\"gridcolor\":\"white\",\"linecolor\":\"white\",\"ticks\":\"\",\"title\":{\"standoff\":15},\"zerolinecolor\":\"white\",\"zerolinewidth\":2}}},\"mapbox\":{\"domain\":{\"x\":[0.0,1.0],\"y\":[0.0,1.0]},\"center\":{\"lat\":12.973978820224719,\"lon\":77.61317094925339},\"zoom\":10.8,\"style\":\"open-street-map\"},\"legend\":{\"title\":{\"text\":\"Location\"},\"tracegroupgap\":0,\"itemsizing\":\"constant\"},\"title\":{\"text\":\"Region Wise Restaurant Count\"},\"height\":900,\"width\":1200,\"margin\":{\"r\":0,\"t\":50,\"l\":0,\"b\":10}},                        {\"responsive\": true}                    ).then(function(){\n",
              "                            \n",
              "var gd = document.getElementById('eb90aeba-9c65-4f87-9dcd-9843800973a3');\n",
              "var x = new MutationObserver(function (mutations, observer) {{\n",
              "        var display = window.getComputedStyle(gd).display;\n",
              "        if (!display || display === 'none') {{\n",
              "            console.log([gd, 'removed!']);\n",
              "            Plotly.purge(gd);\n",
              "            observer.disconnect();\n",
              "        }}\n",
              "}});\n",
              "\n",
              "// Listen for the removal of the full notebook cells\n",
              "var notebookContainer = gd.closest('#notebook-container');\n",
              "if (notebookContainer) {{\n",
              "    x.observe(notebookContainer, {childList: true});\n",
              "}}\n",
              "\n",
              "// Listen for the clearing of the current output cell\n",
              "var outputEl = gd.closest('.output');\n",
              "if (outputEl) {{\n",
              "    x.observe(outputEl, {childList: true});\n",
              "}}\n",
              "\n",
              "                        })                };                            </script>        </div>\n",
              "</body>\n",
              "</html>"
            ]
          },
          "metadata": {}
        }
      ]
    },
    {
      "cell_type": "markdown",
      "source": [
        "Restaurant Localities are dominated in South and Eastern part of Bangalore. Whitefield, Marathahalli, HSR and BTM are the top locaalities in terms of restaurant numbers."
      ],
      "metadata": {
        "id": "KBqvmZLiFT5Z"
      }
    },
    {
      "cell_type": "code",
      "source": [
        "#Top 10 Location based on the number of outlets in the location\n",
        "top10_locby_outlets=df_loc.sort_values(by='Count',ascending=False)[:10]\n",
        "sns.barplot(x=top10_locby_outlets['Location'],y=top10_locby_outlets['Count'])\n",
        "plt.title('Region wise Restaurant count')\n",
        "plt.xticks(rotation=90)"
      ],
      "metadata": {
        "colab": {
          "base_uri": "https://localhost:8080/",
          "height": 417
        },
        "id": "PzsP858z0jR-",
        "outputId": "7d0fc889-511e-4b80-a4b0-609fa12e5002"
      },
      "execution_count": null,
      "outputs": [
        {
          "output_type": "execute_result",
          "data": {
            "text/plain": [
              "(array([0, 1, 2, 3, 4, 5, 6, 7, 8, 9]),\n",
              " <a list of 10 Text major ticklabel objects>)"
            ]
          },
          "metadata": {},
          "execution_count": 60
        },
        {
          "output_type": "display_data",
          "data": {
            "text/plain": [
              "<Figure size 432x288 with 1 Axes>"
            ],
            "image/png": "[encoded data removed]"
          },
          "metadata": {}
        }
      ]
    },
    {
      "cell_type": "markdown",
      "source": [
        "##Identifying Regions with more potential "
      ],
      "metadata": {
        "id": "WOP4CeqAYi07"
      }
    },
    {
      "cell_type": "code",
      "source": [
        "#Creating a DataFrame having total votes from all restaurants in each location\n",
        "df_loc_votes=pd.DataFrame(df.groupby('location')['votes'].sum())\n",
        "df_loc_votes=df_loc_votes.reset_index()\n",
        "df_loc_votes.columns=['Location','Votes']\n",
        "df_loc_votes"
      ],
      "metadata": {
        "colab": {
          "base_uri": "https://localhost:8080/",
          "height": 424
        },
        "id": "_Dtxk3lJYLgf",
        "outputId": "29b8420c-97e3-42a3-b6b6-c87ab2cec857"
      },
      "execution_count": null,
      "outputs": [
        {
          "output_type": "execute_result",
          "data": {
            "text/plain": [
              "             Location   Votes\n",
              "0                 BTM   71397\n",
              "1        Banashankari   38496\n",
              "2           Banaswadi   10727\n",
              "3   Bannerghatta Road   52296\n",
              "4        Basavanagudi   33479\n",
              "..                ...     ...\n",
              "87     West Bangalore     575\n",
              "88         Whitefield  150090\n",
              "89      Wilson Garden    1141\n",
              "90          Yelahanka      88\n",
              "91        Yeshwantpur    3678\n",
              "\n",
              "[92 rows x 2 columns]"
            ],
            "text/html": [
              "\n",
              "  <div id=\"df-45bd6456-e4d1-4672-b316-e2114f0b6988\">\n",
              "    <div class=\"colab-df-container\">\n",
              "      <div>\n",
              "<style scoped>\n",
              "    .dataframe tbody tr th:only-of-type {\n",
              "        vertical-align: middle;\n",
              "    }\n",
              "\n",
              "    .dataframe tbody tr th {\n",
              "        vertical-align: top;\n",
              "    }\n",
              "\n",
              "    .dataframe thead th {\n",
              "        text-align: right;\n",
              "    }\n",
              "</style>\n",
              "<table border=\"1\" class=\"dataframe\">\n",
              "  <thead>\n",
              "    <tr style=\"text-align: right;\">\n",
              "      <th></th>\n",
              "      <th>Location</th>\n",
              "      <th>Votes</th>\n",
              "    </tr>\n",
              "  </thead>\n",
              "  <tbody>\n",
              "    <tr>\n",
              "      <th>0</th>\n",
              "      <td>BTM</td>\n",
              "      <td>71397</td>\n",
              "    </tr>\n",
              "    <tr>\n",
              "      <th>1</th>\n",
              "      <td>Banashankari</td>\n",
              "      <td>38496</td>\n",
              "    </tr>\n",
              "    <tr>\n",
              "      <th>2</th>\n",
              "      <td>Banaswadi</td>\n",
              "      <td>10727</td>\n",
              "    </tr>\n",
              "    <tr>\n",
              "      <th>3</th>\n",
              "      <td>Bannerghatta Road</td>\n",
              "      <td>52296</td>\n",
              "    </tr>\n",
              "    <tr>\n",
              "      <th>4</th>\n",
              "      <td>Basavanagudi</td>\n",
              "      <td>33479</td>\n",
              "    </tr>\n",
              "    <tr>\n",
              "      <th>...</th>\n",
              "      <td>...</td>\n",
              "      <td>...</td>\n",
              "    </tr>\n",
              "    <tr>\n",
              "      <th>87</th>\n",
              "      <td>West Bangalore</td>\n",
              "      <td>575</td>\n",
              "    </tr>\n",
              "    <tr>\n",
              "      <th>88</th>\n",
              "      <td>Whitefield</td>\n",
              "      <td>150090</td>\n",
              "    </tr>\n",
              "    <tr>\n",
              "      <th>89</th>\n",
              "      <td>Wilson Garden</td>\n",
              "      <td>1141</td>\n",
              "    </tr>\n",
              "    <tr>\n",
              "      <th>90</th>\n",
              "      <td>Yelahanka</td>\n",
              "      <td>88</td>\n",
              "    </tr>\n",
              "    <tr>\n",
              "      <th>91</th>\n",
              "      <td>Yeshwantpur</td>\n",
              "      <td>3678</td>\n",
              "    </tr>\n",
              "  </tbody>\n",
              "</table>\n",
              "<p>92 rows × 2 columns</p>\n",
              "</div>\n",
              "      <button class=\"colab-df-convert\" onclick=\"convertToInteractive('df-45bd6456-e4d1-4672-b316-e2114f0b6988')\"\n",
              "              title=\"Convert this dataframe to an interactive table.\"\n",
              "              style=\"display:none;\">\n",
              "        \n",
              "  <svg xmlns=\"http://www.w3.org/2000/svg\" height=\"24px\"viewBox=\"0 0 24 24\"\n",
              "       width=\"24px\">\n",
              "    <path d=\"M0 0h24v24H0V0z\" fill=\"none\"/>\n",
              "    <path d=\"M18.56 5.44l.94 2.06.94-2.06 2.06-.94-2.06-.94-.94-2.06-.94 2.06-2.06.94zm-11 1L8.5 8.5l.94-2.06 2.06-.94-2.06-.94L8.5 2.5l-.94 2.06-2.06.94zm10 10l.94 2.06.94-2.06 2.06-.94-2.06-.94-.94-2.06-.94 2.06-2.06.94z\"/><path d=\"M17.41 7.96l-1.37-1.37c-.4-.4-.92-.59-1.43-.59-.52 0-1.04.2-1.43.59L10.3 9.45l-7.72 7.72c-.78.78-.78 2.05 0 2.83L4 21.41c.39.39.9.59 1.41.59.51 0 1.02-.2 1.41-.59l7.78-7.78 2.81-2.81c.8-.78.8-2.07 0-2.86zM5.41 20L4 18.59l7.72-7.72 1.47 1.35L5.41 20z\"/>\n",
              "  </svg>\n",
              "      </button>\n",
              "      \n",
              "  <style>\n",
              "    .colab-df-container {\n",
              "      display:flex;\n",
              "      flex-wrap:wrap;\n",
              "      gap: 12px;\n",
              "    }\n",
              "\n",
              "    .colab-df-convert {\n",
              "      background-color: #E8F0FE;\n",
              "      border: none;\n",
              "      border-radius: 50%;\n",
              "      cursor: pointer;\n",
              "      display: none;\n",
              "      fill: #1967D2;\n",
              "      height: 32px;\n",
              "      padding: 0 0 0 0;\n",
              "      width: 32px;\n",
              "    }\n",
              "\n",
              "    .colab-df-convert:hover {\n",
              "      background-color: #E2EBFA;\n",
              "      box-shadow: 0px 1px 2px rgba(60, 64, 67, 0.3), 0px 1px 3px 1px rgba(60, 64, 67, 0.15);\n",
              "      fill: #174EA6;\n",
              "    }\n",
              "\n",
              "    [theme=dark] .colab-df-convert {\n",
              "      background-color: #3B4455;\n",
              "      fill: #D2E3FC;\n",
              "    }\n",
              "\n",
              "    [theme=dark] .colab-df-convert:hover {\n",
              "      background-color: #434B5C;\n",
              "      box-shadow: 0px 1px 3px 1px rgba(0, 0, 0, 0.15);\n",
              "      filter: drop-shadow(0px 1px 2px rgba(0, 0, 0, 0.3));\n",
              "      fill: #FFFFFF;\n",
              "    }\n",
              "  </style>\n",
              "\n",
              "      <script>\n",
              "        const buttonEl =\n",
              "          document.querySelector('#df-45bd6456-e4d1-4672-b316-e2114f0b6988 button.colab-df-convert');\n",
              "        buttonEl.style.display =\n",
              "          google.colab.kernel.accessAllowed ? 'block' : 'none';\n",
              "\n",
              "        async function convertToInteractive(key) {\n",
              "          const element = document.querySelector('#df-45bd6456-e4d1-4672-b316-e2114f0b6988');\n",
              "          const dataTable =\n",
              "            await google.colab.kernel.invokeFunction('convertToInteractive',\n",
              "                                                     [key], {});\n",
              "          if (!dataTable) return;\n",
              "\n",
              "          const docLinkHtml = 'Like what you see? Visit the ' +\n",
              "            '<a target=\"_blank\" href=https://colab.research.google.com/notebooks/data_table.ipynb>data table notebook</a>'\n",
              "            + ' to learn more about interactive tables.';\n",
              "          element.innerHTML = '';\n",
              "          dataTable['output_type'] = 'display_data';\n",
              "          await google.colab.output.renderOutput(dataTable, element);\n",
              "          const docLink = document.createElement('div');\n",
              "          docLink.innerHTML = docLinkHtml;\n",
              "          element.appendChild(docLink);\n",
              "        }\n",
              "      </script>\n",
              "    </div>\n",
              "  </div>\n",
              "  "
            ]
          },
          "metadata": {},
          "execution_count": 61
        }
      ]
    },
    {
      "cell_type": "code",
      "source": [
        "#Creating DataFrame(df_pot) with containing avg votes in each location \n",
        "\n",
        "df_pot=pd.merge(df_loc,df_loc_votes,on='Location',how='outer')\n",
        "df_pot=df_pot.dropna()\n",
        "df_pot['avg votes']=df_pot['Votes']/df_pot['Count']\n",
        "df_pot"
      ],
      "metadata": {
        "colab": {
          "base_uri": "https://localhost:8080/",
          "height": 424
        },
        "id": "krOXMG7Tfkmp",
        "outputId": "51418aad-fd6a-47da-b90b-f6222349a403"
      },
      "execution_count": null,
      "outputs": [
        {
          "output_type": "execute_result",
          "data": {
            "text/plain": [
              "             Location  Count   Latitude  Longitude   Votes   avg votes\n",
              "0          Whitefield    629  12.969637  77.749745  150090  238.616852\n",
              "1                 BTM    538  12.911276  77.604565   71397  132.708178\n",
              "2                 HSR    525  12.909234  77.639867  115790  220.552381\n",
              "3        Marathahalli    512  12.955257  77.698416  137133  267.837891\n",
              "4     Electronic City    458  12.848760  77.648253   55383  120.923581\n",
              "..                ...    ...        ...        ...     ...         ...\n",
              "87  Central Bangalore      2  13.010129  77.554801     400  200.000000\n",
              "88      Langford Town      2  12.957998  77.603731     260  130.000000\n",
              "89            Kengeri      1  12.917657  77.483757      74   74.000000\n",
              "90         Nagarbhavi      1  12.959618  77.511267      10   10.000000\n",
              "91             Peenya      1  13.032942  77.527325       5    5.000000\n",
              "\n",
              "[89 rows x 6 columns]"
            ],
            "text/html": [
              "\n",
              "  <div id=\"df-6d707f2c-fd57-4db9-baae-de7a6be4f72b\">\n",
              "    <div class=\"colab-df-container\">\n",
              "      <div>\n",
              "<style scoped>\n",
              "    .dataframe tbody tr th:only-of-type {\n",
              "        vertical-align: middle;\n",
              "    }\n",
              "\n",
              "    .dataframe tbody tr th {\n",
              "        vertical-align: top;\n",
              "    }\n",
              "\n",
              "    .dataframe thead th {\n",
              "        text-align: right;\n",
              "    }\n",
              "</style>\n",
              "<table border=\"1\" class=\"dataframe\">\n",
              "  <thead>\n",
              "    <tr style=\"text-align: right;\">\n",
              "      <th></th>\n",
              "      <th>Location</th>\n",
              "      <th>Count</th>\n",
              "      <th>Latitude</th>\n",
              "      <th>Longitude</th>\n",
              "      <th>Votes</th>\n",
              "      <th>avg votes</th>\n",
              "    </tr>\n",
              "  </thead>\n",
              "  <tbody>\n",
              "    <tr>\n",
              "      <th>0</th>\n",
              "      <td>Whitefield</td>\n",
              "      <td>629</td>\n",
              "      <td>12.969637</td>\n",
              "      <td>77.749745</td>\n",
              "      <td>150090</td>\n",
              "      <td>238.616852</td>\n",
              "    </tr>\n",
              "    <tr>\n",
              "      <th>1</th>\n",
              "      <td>BTM</td>\n",
              "      <td>538</td>\n",
              "      <td>12.911276</td>\n",
              "      <td>77.604565</td>\n",
              "      <td>71397</td>\n",
              "      <td>132.708178</td>\n",
              "    </tr>\n",
              "    <tr>\n",
              "      <th>2</th>\n",
              "      <td>HSR</td>\n",
              "      <td>525</td>\n",
              "      <td>12.909234</td>\n",
              "      <td>77.639867</td>\n",
              "      <td>115790</td>\n",
              "      <td>220.552381</td>\n",
              "    </tr>\n",
              "    <tr>\n",
              "      <th>3</th>\n",
              "      <td>Marathahalli</td>\n",
              "      <td>512</td>\n",
              "      <td>12.955257</td>\n",
              "      <td>77.698416</td>\n",
              "      <td>137133</td>\n",
              "      <td>267.837891</td>\n",
              "    </tr>\n",
              "    <tr>\n",
              "      <th>4</th>\n",
              "      <td>Electronic City</td>\n",
              "      <td>458</td>\n",
              "      <td>12.848760</td>\n",
              "      <td>77.648253</td>\n",
              "      <td>55383</td>\n",
              "      <td>120.923581</td>\n",
              "    </tr>\n",
              "    <tr>\n",
              "      <th>...</th>\n",
              "      <td>...</td>\n",
              "      <td>...</td>\n",
              "      <td>...</td>\n",
              "      <td>...</td>\n",
              "      <td>...</td>\n",
              "      <td>...</td>\n",
              "    </tr>\n",
              "    <tr>\n",
              "      <th>87</th>\n",
              "      <td>Central Bangalore</td>\n",
              "      <td>2</td>\n",
              "      <td>13.010129</td>\n",
              "      <td>77.554801</td>\n",
              "      <td>400</td>\n",
              "      <td>200.000000</td>\n",
              "    </tr>\n",
              "    <tr>\n",
              "      <th>88</th>\n",
              "      <td>Langford Town</td>\n",
              "      <td>2</td>\n",
              "      <td>12.957998</td>\n",
              "      <td>77.603731</td>\n",
              "      <td>260</td>\n",
              "      <td>130.000000</td>\n",
              "    </tr>\n",
              "    <tr>\n",
              "      <th>89</th>\n",
              "      <td>Kengeri</td>\n",
              "      <td>1</td>\n",
              "      <td>12.917657</td>\n",
              "      <td>77.483757</td>\n",
              "      <td>74</td>\n",
              "      <td>74.000000</td>\n",
              "    </tr>\n",
              "    <tr>\n",
              "      <th>90</th>\n",
              "      <td>Nagarbhavi</td>\n",
              "      <td>1</td>\n",
              "      <td>12.959618</td>\n",
              "      <td>77.511267</td>\n",
              "      <td>10</td>\n",
              "      <td>10.000000</td>\n",
              "    </tr>\n",
              "    <tr>\n",
              "      <th>91</th>\n",
              "      <td>Peenya</td>\n",
              "      <td>1</td>\n",
              "      <td>13.032942</td>\n",
              "      <td>77.527325</td>\n",
              "      <td>5</td>\n",
              "      <td>5.000000</td>\n",
              "    </tr>\n",
              "  </tbody>\n",
              "</table>\n",
              "<p>89 rows × 6 columns</p>\n",
              "</div>\n",
              "      <button class=\"colab-df-convert\" onclick=\"convertToInteractive('df-6d707f2c-fd57-4db9-baae-de7a6be4f72b')\"\n",
              "              title=\"Convert this dataframe to an interactive table.\"\n",
              "              style=\"display:none;\">\n",
              "        \n",
              "  <svg xmlns=\"http://www.w3.org/2000/svg\" height=\"24px\"viewBox=\"0 0 24 24\"\n",
              "       width=\"24px\">\n",
              "    <path d=\"M0 0h24v24H0V0z\" fill=\"none\"/>\n",
              "    <path d=\"M18.56 5.44l.94 2.06.94-2.06 2.06-.94-2.06-.94-.94-2.06-.94 2.06-2.06.94zm-11 1L8.5 8.5l.94-2.06 2.06-.94-2.06-.94L8.5 2.5l-.94 2.06-2.06.94zm10 10l.94 2.06.94-2.06 2.06-.94-2.06-.94-.94-2.06-.94 2.06-2.06.94z\"/><path d=\"M17.41 7.96l-1.37-1.37c-.4-.4-.92-.59-1.43-.59-.52 0-1.04.2-1.43.59L10.3 9.45l-7.72 7.72c-.78.78-.78 2.05 0 2.83L4 21.41c.39.39.9.59 1.41.59.51 0 1.02-.2 1.41-.59l7.78-7.78 2.81-2.81c.8-.78.8-2.07 0-2.86zM5.41 20L4 18.59l7.72-7.72 1.47 1.35L5.41 20z\"/>\n",
              "  </svg>\n",
              "      </button>\n",
              "      \n",
              "  <style>\n",
              "    .colab-df-container {\n",
              "      display:flex;\n",
              "      flex-wrap:wrap;\n",
              "      gap: 12px;\n",
              "    }\n",
              "\n",
              "    .colab-df-convert {\n",
              "      background-color: #E8F0FE;\n",
              "      border: none;\n",
              "      border-radius: 50%;\n",
              "      cursor: pointer;\n",
              "      display: none;\n",
              "      fill: #1967D2;\n",
              "      height: 32px;\n",
              "      padding: 0 0 0 0;\n",
              "      width: 32px;\n",
              "    }\n",
              "\n",
              "    .colab-df-convert:hover {\n",
              "      background-color: #E2EBFA;\n",
              "      box-shadow: 0px 1px 2px rgba(60, 64, 67, 0.3), 0px 1px 3px 1px rgba(60, 64, 67, 0.15);\n",
              "      fill: #174EA6;\n",
              "    }\n",
              "\n",
              "    [theme=dark] .colab-df-convert {\n",
              "      background-color: #3B4455;\n",
              "      fill: #D2E3FC;\n",
              "    }\n",
              "\n",
              "    [theme=dark] .colab-df-convert:hover {\n",
              "      background-color: #434B5C;\n",
              "      box-shadow: 0px 1px 3px 1px rgba(0, 0, 0, 0.15);\n",
              "      filter: drop-shadow(0px 1px 2px rgba(0, 0, 0, 0.3));\n",
              "      fill: #FFFFFF;\n",
              "    }\n",
              "  </style>\n",
              "\n",
              "      <script>\n",
              "        const buttonEl =\n",
              "          document.querySelector('#df-6d707f2c-fd57-4db9-baae-de7a6be4f72b button.colab-df-convert');\n",
              "        buttonEl.style.display =\n",
              "          google.colab.kernel.accessAllowed ? 'block' : 'none';\n",
              "\n",
              "        async function convertToInteractive(key) {\n",
              "          const element = document.querySelector('#df-6d707f2c-fd57-4db9-baae-de7a6be4f72b');\n",
              "          const dataTable =\n",
              "            await google.colab.kernel.invokeFunction('convertToInteractive',\n",
              "                                                     [key], {});\n",
              "          if (!dataTable) return;\n",
              "\n",
              "          const docLinkHtml = 'Like what you see? Visit the ' +\n",
              "            '<a target=\"_blank\" href=https://colab.research.google.com/notebooks/data_table.ipynb>data table notebook</a>'\n",
              "            + ' to learn more about interactive tables.';\n",
              "          element.innerHTML = '';\n",
              "          dataTable['output_type'] = 'display_data';\n",
              "          await google.colab.output.renderOutput(dataTable, element);\n",
              "          const docLink = document.createElement('div');\n",
              "          docLink.innerHTML = docLinkHtml;\n",
              "          element.appendChild(docLink);\n",
              "        }\n",
              "      </script>\n",
              "    </div>\n",
              "  </div>\n",
              "  "
            ]
          },
          "metadata": {},
          "execution_count": 62
        }
      ]
    },
    {
      "cell_type": "code",
      "source": [
        "#Mapping each location with marker size depending upon the average votes in the location\n",
        "fig=px.scatter_mapbox(df_pot,\n",
        "                      lat=df_pot['Latitude'],\n",
        "                      lon=df_pot['Longitude'],\n",
        "                      zoom=10.8,\n",
        "                      color=df_pot['Location'],\n",
        "                      size=df_pot['avg votes'],\n",
        "                      color_continuous_scale=px.colors.cyclical.IceFire,\n",
        "                      opacity=0.85,\n",
        "                      width=1200,\n",
        "                      height=900,\n",
        "                      title='Region wise Average Votes in Restaurants')\n",
        "fig.update_layout(mapbox_style='open-street-map')\n",
        "fig.update_layout(margin={\"r\":0,\"t\":50,\"l\":0,\"b\":10})\n",
        "fig.show()"
      ],
      "metadata": {
        "colab": {
          "base_uri": "https://localhost:8080/",
          "height": 917
        },
        "id": "ILU40QUNhElJ",
        "outputId": "39865205-6aa0-4142-df19-fe18788aad0c"
      },
      "execution_count": null,
      "outputs": [
        {
          "output_type": "display_data",
          "data": {
            "text/html": [
              "<html>\n",
              "<head><meta charset=\"utf-8\" /></head>\n",
              "<body>\n",
              "    <div>            <script src=\"https://cdnjs.cloudflare.com/ajax/libs/mathjax/2.7.5/MathJax.js?config=TeX-AMS-MML_SVG\"></script><script type=\"text/javascript\">if (window.MathJax) {MathJax.Hub.Config({SVG: {font: \"STIX-Web\"}});}</script>                <script type=\"text/javascript\">window.PlotlyConfig = {MathJaxConfig: 'local'};</script>\n",
              "        <script src=\"https://cdn.plot.ly/plotly-2.8.3.min.js\"></script>                <div id=\"21144d77-6135-4eec-b401-691d2a06120a\" class=\"plotly-graph-div\" style=\"height:900px; width:1200px;\"></div>            <script type=\"text/javascript\">                                    window.PLOTLYENV=window.PLOTLYENV || {};                                    if (document.getElementById(\"21144d77-6135-4eec-b401-691d2a06120a\")) {                    Plotly.newPlot(                        \"21144d77-6135-4eec-b401-691d2a06120a\",                        [{\"hovertemplate\":\"Location=Whitefield<br>avg votes=%{marker.size}<br>Latitude=%{lat}<br>Longitude=%{lon}<extra></extra>\",\"lat\":[12.9696365],\"legendgroup\":\"Whitefield\",\"lon\":[77.7497448],\"marker\":{\"color\":\"#636efa\",\"opacity\":0.85,\"size\":[238.6168521462639],\"sizemode\":\"area\",\"sizeref\":2.2677314814814817},\"mode\":\"markers\",\"name\":\"Whitefield\",\"showlegend\":true,\"subplot\":\"mapbox\",\"type\":\"scattermapbox\"},{\"hovertemplate\":\"Location=BTM<br>avg votes=%{marker.size}<br>Latitude=%{lat}<br>Longitude=%{lon}<extra></extra>\",\"lat\":[12.911275849999999],\"legendgroup\":\"BTM\",\"lon\":[77.60456543431182],\"marker\":{\"color\":\"#EF553B\",\"opacity\":0.85,\"size\":[132.70817843866172],\"sizemode\":\"area\",\"sizeref\":2.2677314814814817},\"mode\":\"markers\",\"name\":\"BTM\",\"showlegend\":true,\"subplot\":\"mapbox\",\"type\":\"scattermapbox\"},{\"hovertemplate\":\"Location=HSR<br>avg votes=%{marker.size}<br>Latitude=%{lat}<br>Longitude=%{lon}<extra></extra>\",\"lat\":[12.9092342],\"legendgroup\":\"HSR\",\"lon\":[77.6398674],\"marker\":{\"color\":\"#00cc96\",\"opacity\":0.85,\"size\":[220.55238095238096],\"sizemode\":\"area\",\"sizeref\":2.2677314814814817},\"mode\":\"markers\",\"name\":\"HSR\",\"showlegend\":true,\"subplot\":\"mapbox\",\"type\":\"scattermapbox\"},{\"hovertemplate\":\"Location=Marathahalli<br>avg votes=%{marker.size}<br>Latitude=%{lat}<br>Longitude=%{lon}<extra></extra>\",\"lat\":[12.9552572],\"legendgroup\":\"Marathahalli\",\"lon\":[77.6984163],\"marker\":{\"color\":\"#ab63fa\",\"opacity\":0.85,\"size\":[267.837890625],\"sizemode\":\"area\",\"sizeref\":2.2677314814814817},\"mode\":\"markers\",\"name\":\"Marathahalli\",\"showlegend\":true,\"subplot\":\"mapbox\",\"type\":\"scattermapbox\"},{\"hovertemplate\":\"Location=Electronic City<br>avg votes=%{marker.size}<br>Latitude=%{lat}<br>Longitude=%{lon}<extra></extra>\",\"lat\":[12.848759900000001],\"legendgroup\":\"Electronic City\",\"lon\":[77.64825295827616],\"marker\":{\"color\":\"#FFA15A\",\"opacity\":0.85,\"size\":[120.9235807860262],\"sizemode\":\"area\",\"sizeref\":2.2677314814814817},\"mode\":\"markers\",\"name\":\"Electronic City\",\"showlegend\":true,\"subplot\":\"mapbox\",\"type\":\"scattermapbox\"},{\"hovertemplate\":\"Location=Indiranagar<br>avg votes=%{marker.size}<br>Latitude=%{lat}<br>Longitude=%{lon}<extra></extra>\",\"lat\":[12.9732913],\"legendgroup\":\"Indiranagar\",\"lon\":[77.6404672],\"marker\":{\"color\":\"#19d3f3\",\"opacity\":0.85,\"size\":[580.116173120729],\"sizemode\":\"area\",\"sizeref\":2.2677314814814817},\"mode\":\"markers\",\"name\":\"Indiranagar\",\"showlegend\":true,\"subplot\":\"mapbox\",\"type\":\"scattermapbox\"},{\"hovertemplate\":\"Location=JP Nagar<br>avg votes=%{marker.size}<br>Latitude=%{lat}<br>Longitude=%{lon}<extra></extra>\",\"lat\":[12.9072515],\"legendgroup\":\"JP Nagar\",\"lon\":[77.5782713],\"marker\":{\"color\":\"#FF6692\",\"opacity\":0.85,\"size\":[230.0257731958763],\"sizemode\":\"area\",\"sizeref\":2.2677314814814817},\"mode\":\"markers\",\"name\":\"JP Nagar\",\"showlegend\":true,\"subplot\":\"mapbox\",\"type\":\"scattermapbox\"},{\"hovertemplate\":\"Location=Bannerghatta Road<br>avg votes=%{marker.size}<br>Latitude=%{lat}<br>Longitude=%{lon}<extra></extra>\",\"lat\":[12.8545439],\"legendgroup\":\"Bannerghatta Road\",\"lon\":[77.5886892],\"marker\":{\"color\":\"#B6E880\",\"opacity\":0.85,\"size\":[147.31267605633803],\"sizemode\":\"area\",\"sizeref\":2.2677314814814817},\"mode\":\"markers\",\"name\":\"Bannerghatta Road\",\"showlegend\":true,\"subplot\":\"mapbox\",\"type\":\"scattermapbox\"},{\"hovertemplate\":\"Location=Jayanagar<br>avg votes=%{marker.size}<br>Latitude=%{lat}<br>Longitude=%{lon}<extra></extra>\",\"lat\":[12.9292731],\"legendgroup\":\"Jayanagar\",\"lon\":[77.5824229],\"marker\":{\"color\":\"#FF97FF\",\"opacity\":0.85,\"size\":[278.34935897435895],\"sizemode\":\"area\",\"sizeref\":2.2677314814814817},\"mode\":\"markers\",\"name\":\"Jayanagar\",\"showlegend\":true,\"subplot\":\"mapbox\",\"type\":\"scattermapbox\"},{\"hovertemplate\":\"Location=Bellandur<br>avg votes=%{marker.size}<br>Latitude=%{lat}<br>Longitude=%{lon}<extra></extra>\",\"lat\":[12.93103185],\"legendgroup\":\"Bellandur\",\"lon\":[77.6782471],\"marker\":{\"color\":\"#FECB52\",\"opacity\":0.85,\"size\":[145.35164835164835],\"sizemode\":\"area\",\"sizeref\":2.2677314814814817},\"mode\":\"markers\",\"name\":\"Bellandur\",\"showlegend\":true,\"subplot\":\"mapbox\",\"type\":\"scattermapbox\"},{\"hovertemplate\":\"Location=Sarjapur Road<br>avg votes=%{marker.size}<br>Latitude=%{lat}<br>Longitude=%{lon}<extra></extra>\",\"lat\":[12.920441],\"legendgroup\":\"Sarjapur Road\",\"lon\":[77.6653284],\"marker\":{\"color\":\"#636efa\",\"opacity\":0.85,\"size\":[258.6551724137931],\"sizemode\":\"area\",\"sizeref\":2.2677314814814817},\"mode\":\"markers\",\"name\":\"Sarjapur Road\",\"showlegend\":true,\"subplot\":\"mapbox\",\"type\":\"scattermapbox\"},{\"hovertemplate\":\"Location=Koramangala 5th Block<br>avg votes=%{marker.size}<br>Latitude=%{lat}<br>Longitude=%{lon}<extra></extra>\",\"lat\":[12.9348429],\"legendgroup\":\"Koramangala 5th Block\",\"lon\":[77.6189768],\"marker\":{\"color\":\"#EF553B\",\"opacity\":0.85,\"size\":[741.2438016528926],\"sizemode\":\"area\",\"sizeref\":2.2677314814814817},\"mode\":\"markers\",\"name\":\"Koramangala 5th Block\",\"showlegend\":true,\"subplot\":\"mapbox\",\"type\":\"scattermapbox\"},{\"hovertemplate\":\"Location=Banashankari<br>avg votes=%{marker.size}<br>Latitude=%{lat}<br>Longitude=%{lon}<extra></extra>\",\"lat\":[12.965283249999999],\"legendgroup\":\"Banashankari\",\"lon\":[77.59445195],\"marker\":{\"color\":\"#00cc96\",\"opacity\":0.85,\"size\":[169.58590308370043],\"sizemode\":\"area\",\"sizeref\":2.2677314814814817},\"mode\":\"markers\",\"name\":\"Banashankari\",\"showlegend\":true,\"subplot\":\"mapbox\",\"type\":\"scattermapbox\"},{\"hovertemplate\":\"Location=New BEL Road<br>avg votes=%{marker.size}<br>Latitude=%{lat}<br>Longitude=%{lon}<extra></extra>\",\"lat\":[13.0435554],\"legendgroup\":\"New BEL Road\",\"lon\":[77.5613062],\"marker\":{\"color\":\"#ab63fa\",\"opacity\":0.85,\"size\":[238.3272727272727],\"sizemode\":\"area\",\"sizeref\":2.2677314814814817},\"mode\":\"markers\",\"name\":\"New BEL Road\",\"showlegend\":true,\"subplot\":\"mapbox\",\"type\":\"scattermapbox\"},{\"hovertemplate\":\"Location=Malleshwaram<br>avg votes=%{marker.size}<br>Latitude=%{lat}<br>Longitude=%{lon}<extra></extra>\",\"lat\":[13.0027353],\"legendgroup\":\"Malleshwaram\",\"lon\":[77.5703253],\"marker\":{\"color\":\"#FFA15A\",\"opacity\":0.85,\"size\":[302.6813725490196],\"sizemode\":\"area\",\"sizeref\":2.2677314814814817},\"mode\":\"markers\",\"name\":\"Malleshwaram\",\"showlegend\":true,\"subplot\":\"mapbox\",\"type\":\"scattermapbox\"},{\"hovertemplate\":\"Location=Kalyan Nagar<br>avg votes=%{marker.size}<br>Latitude=%{lat}<br>Longitude=%{lon}<extra></extra>\",\"lat\":[13.0221416],\"legendgroup\":\"Kalyan Nagar\",\"lon\":[77.6403368],\"marker\":{\"color\":\"#19d3f3\",\"opacity\":0.85,\"size\":[219.08290155440415],\"sizemode\":\"area\",\"sizeref\":2.2677314814814817},\"mode\":\"markers\",\"name\":\"Kalyan Nagar\",\"showlegend\":true,\"subplot\":\"mapbox\",\"type\":\"scattermapbox\"},{\"hovertemplate\":\"Location=Basavanagudi<br>avg votes=%{marker.size}<br>Latitude=%{lat}<br>Longitude=%{lon}<extra></extra>\",\"lat\":[12.9417261],\"legendgroup\":\"Basavanagudi\",\"lon\":[77.5755021],\"marker\":{\"color\":\"#FF6692\",\"opacity\":0.85,\"size\":[185.99444444444444],\"sizemode\":\"area\",\"sizeref\":2.2677314814814817},\"mode\":\"markers\",\"name\":\"Basavanagudi\",\"showlegend\":true,\"subplot\":\"mapbox\",\"type\":\"scattermapbox\"},{\"hovertemplate\":\"Location=Rajajinagar<br>avg votes=%{marker.size}<br>Latitude=%{lat}<br>Longitude=%{lon}<extra></extra>\",\"lat\":[12.9882338],\"legendgroup\":\"Rajajinagar\",\"lon\":[77.554883],\"marker\":{\"color\":\"#B6E880\",\"opacity\":0.85,\"size\":[149.1638418079096],\"sizemode\":\"area\",\"sizeref\":2.2677314814814817},\"mode\":\"markers\",\"name\":\"Rajajinagar\",\"showlegend\":true,\"subplot\":\"mapbox\",\"type\":\"scattermapbox\"},{\"hovertemplate\":\"Location=Banaswadi<br>avg votes=%{marker.size}<br>Latitude=%{lat}<br>Longitude=%{lon}<extra></extra>\",\"lat\":[13.0141618],\"legendgroup\":\"Banaswadi\",\"lon\":[77.6518539],\"marker\":{\"color\":\"#FF97FF\",\"opacity\":0.85,\"size\":[73.97931034482758],\"sizemode\":\"area\",\"sizeref\":2.2677314814814817},\"mode\":\"markers\",\"name\":\"Banaswadi\",\"showlegend\":true,\"subplot\":\"mapbox\",\"type\":\"scattermapbox\"},{\"hovertemplate\":\"Location=Frazer Town<br>avg votes=%{marker.size}<br>Latitude=%{lat}<br>Longitude=%{lon}<extra></extra>\",\"lat\":[12.996845],\"legendgroup\":\"Frazer Town\",\"lon\":[77.6130165],\"marker\":{\"color\":\"#FECB52\",\"opacity\":0.85,\"size\":[150.05555555555554],\"sizemode\":\"area\",\"sizeref\":2.2677314814814817},\"mode\":\"markers\",\"name\":\"Frazer Town\",\"showlegend\":true,\"subplot\":\"mapbox\",\"type\":\"scattermapbox\"},{\"hovertemplate\":\"Location=Brookefield<br>avg votes=%{marker.size}<br>Latitude=%{lat}<br>Longitude=%{lon}<extra></extra>\",\"lat\":[12.9668213],\"legendgroup\":\"Brookefield\",\"lon\":[77.7168891],\"marker\":{\"color\":\"#636efa\",\"opacity\":0.85,\"size\":[204.0],\"sizemode\":\"area\",\"sizeref\":2.2677314814814817},\"mode\":\"markers\",\"name\":\"Brookefield\",\"showlegend\":true,\"subplot\":\"mapbox\",\"type\":\"scattermapbox\"},{\"hovertemplate\":\"Location=Koramangala 6th Block<br>avg votes=%{marker.size}<br>Latitude=%{lat}<br>Longitude=%{lon}<extra></extra>\",\"lat\":[12.9390255],\"legendgroup\":\"Koramangala 6th Block\",\"lon\":[77.6238477],\"marker\":{\"color\":\"#EF553B\",\"opacity\":0.85,\"size\":[337.7014925373134],\"sizemode\":\"area\",\"sizeref\":2.2677314814814817},\"mode\":\"markers\",\"name\":\"Koramangala 6th Block\",\"showlegend\":true,\"subplot\":\"mapbox\",\"type\":\"scattermapbox\"},{\"hovertemplate\":\"Location=Kammanahalli<br>avg votes=%{marker.size}<br>Latitude=%{lat}<br>Longitude=%{lon}<extra></extra>\",\"lat\":[13.0093455],\"legendgroup\":\"Kammanahalli\",\"lon\":[77.6377094],\"marker\":{\"color\":\"#00cc96\",\"opacity\":0.85,\"size\":[182.75384615384615],\"sizemode\":\"area\",\"sizeref\":2.2677314814814817},\"mode\":\"markers\",\"name\":\"Kammanahalli\",\"showlegend\":true,\"subplot\":\"mapbox\",\"type\":\"scattermapbox\"},{\"hovertemplate\":\"Location=Koramangala 7th Block<br>avg votes=%{marker.size}<br>Latitude=%{lat}<br>Longitude=%{lon}<extra></extra>\",\"lat\":[12.9364846],\"legendgroup\":\"Koramangala 7th Block\",\"lon\":[77.6134783],\"marker\":{\"color\":\"#ab63fa\",\"opacity\":0.85,\"size\":[346.4769230769231],\"sizemode\":\"area\",\"sizeref\":2.2677314814814817},\"mode\":\"markers\",\"name\":\"Koramangala 7th Block\",\"showlegend\":true,\"subplot\":\"mapbox\",\"type\":\"scattermapbox\"},{\"hovertemplate\":\"Location=Koramangala 1st Block<br>avg votes=%{marker.size}<br>Latitude=%{lat}<br>Longitude=%{lon}<extra></extra>\",\"lat\":[12.9275886],\"legendgroup\":\"Koramangala 1st Block\",\"lon\":[77.6308832],\"marker\":{\"color\":\"#FFA15A\",\"opacity\":0.85,\"size\":[223.83185840707964],\"sizemode\":\"area\",\"sizeref\":2.2677314814814817},\"mode\":\"markers\",\"name\":\"Koramangala 1st Block\",\"showlegend\":true,\"subplot\":\"mapbox\",\"type\":\"scattermapbox\"},{\"hovertemplate\":\"Location=Brigade Road<br>avg votes=%{marker.size}<br>Latitude=%{lat}<br>Longitude=%{lon}<extra></extra>\",\"lat\":[12.9736132],\"legendgroup\":\"Brigade Road\",\"lon\":[77.6074716],\"marker\":{\"color\":\"#19d3f3\",\"opacity\":0.85,\"size\":[356.9549549549549],\"sizemode\":\"area\",\"sizeref\":2.2677314814814817},\"mode\":\"markers\",\"name\":\"Brigade Road\",\"showlegend\":true,\"subplot\":\"mapbox\",\"type\":\"scattermapbox\"},{\"hovertemplate\":\"Location=Old Airport Road<br>avg votes=%{marker.size}<br>Latitude=%{lat}<br>Longitude=%{lon}<extra></extra>\",\"lat\":[12.9583828],\"legendgroup\":\"Old Airport Road\",\"lon\":[77.6663946],\"marker\":{\"color\":\"#FF6692\",\"opacity\":0.85,\"size\":[244.6818181818182],\"sizemode\":\"area\",\"sizeref\":2.2677314814814817},\"mode\":\"markers\",\"name\":\"Old Airport Road\",\"showlegend\":true,\"subplot\":\"mapbox\",\"type\":\"scattermapbox\"},{\"hovertemplate\":\"Location=Koramangala 4th Block<br>avg votes=%{marker.size}<br>Latitude=%{lat}<br>Longitude=%{lon}<extra></extra>\",\"lat\":[12.9327778],\"legendgroup\":\"Koramangala 4th Block\",\"lon\":[77.6294052],\"marker\":{\"color\":\"#B6E880\",\"opacity\":0.85,\"size\":[591.0291262135922],\"sizemode\":\"area\",\"sizeref\":2.2677314814814817},\"mode\":\"markers\",\"name\":\"Koramangala 4th Block\",\"showlegend\":true,\"subplot\":\"mapbox\",\"type\":\"scattermapbox\"},{\"hovertemplate\":\"Location=Ulsoor<br>avg votes=%{marker.size}<br>Latitude=%{lat}<br>Longitude=%{lon}<extra></extra>\",\"lat\":[12.9778793],\"legendgroup\":\"Ulsoor\",\"lon\":[77.6246697],\"marker\":{\"color\":\"#FF97FF\",\"opacity\":0.85,\"size\":[188.14893617021278],\"sizemode\":\"area\",\"sizeref\":2.2677314814814817},\"mode\":\"markers\",\"name\":\"Ulsoor\",\"showlegend\":true,\"subplot\":\"mapbox\",\"type\":\"scattermapbox\"},{\"hovertemplate\":\"Location=MG Road<br>avg votes=%{marker.size}<br>Latitude=%{lat}<br>Longitude=%{lon}<extra></extra>\",\"lat\":[12.9755264],\"legendgroup\":\"MG Road\",\"lon\":[77.6067902],\"marker\":{\"color\":\"#FECB52\",\"opacity\":0.85,\"size\":[422.1744186046512],\"sizemode\":\"area\",\"sizeref\":2.2677314814814817},\"mode\":\"markers\",\"name\":\"MG Road\",\"showlegend\":true,\"subplot\":\"mapbox\",\"type\":\"scattermapbox\"},{\"hovertemplate\":\"Location=Nagawara<br>avg votes=%{marker.size}<br>Latitude=%{lat}<br>Longitude=%{lon}<extra></extra>\",\"lat\":[13.0431413],\"legendgroup\":\"Nagawara\",\"lon\":[77.6209093],\"marker\":{\"color\":\"#636efa\",\"opacity\":0.85,\"size\":[118.52325581395348],\"sizemode\":\"area\",\"sizeref\":2.2677314814814817},\"mode\":\"markers\",\"name\":\"Nagawara\",\"showlegend\":true,\"subplot\":\"mapbox\",\"type\":\"scattermapbox\"},{\"hovertemplate\":\"Location=Residency Road<br>avg votes=%{marker.size}<br>Latitude=%{lat}<br>Longitude=%{lon}<extra></extra>\",\"lat\":[13.0529476],\"legendgroup\":\"Residency Road\",\"lon\":[77.6206061],\"marker\":{\"color\":\"#EF553B\",\"opacity\":0.85,\"size\":[387.97333333333336],\"sizemode\":\"area\",\"sizeref\":2.2677314814814817},\"mode\":\"markers\",\"name\":\"Residency Road\",\"showlegend\":true,\"subplot\":\"mapbox\",\"type\":\"scattermapbox\"},{\"hovertemplate\":\"Location=Domlur<br>avg votes=%{marker.size}<br>Latitude=%{lat}<br>Longitude=%{lon}<extra></extra>\",\"lat\":[12.9624669],\"legendgroup\":\"Domlur\",\"lon\":[77.6381958],\"marker\":{\"color\":\"#00cc96\",\"opacity\":0.85,\"size\":[165.66666666666666],\"sizemode\":\"area\",\"sizeref\":2.2677314814814817},\"mode\":\"markers\",\"name\":\"Domlur\",\"showlegend\":true,\"subplot\":\"mapbox\",\"type\":\"scattermapbox\"},{\"hovertemplate\":\"Location=Jeevan Bhima Nagar<br>avg votes=%{marker.size}<br>Latitude=%{lat}<br>Longitude=%{lon}<extra></extra>\",\"lat\":[12.9678074],\"legendgroup\":\"Jeevan Bhima Nagar\",\"lon\":[77.6568367],\"marker\":{\"color\":\"#ab63fa\",\"opacity\":0.85,\"size\":[176.56944444444446],\"sizemode\":\"area\",\"sizeref\":2.2677314814814817},\"mode\":\"markers\",\"name\":\"Jeevan Bhima Nagar\",\"showlegend\":true,\"subplot\":\"mapbox\",\"type\":\"scattermapbox\"},{\"hovertemplate\":\"Location=Richmond Road<br>avg votes=%{marker.size}<br>Latitude=%{lat}<br>Longitude=%{lon}<extra></extra>\",\"lat\":[12.9651594],\"legendgroup\":\"Richmond Road\",\"lon\":[77.5988339],\"marker\":{\"color\":\"#FFA15A\",\"opacity\":0.85,\"size\":[194.46969696969697],\"sizemode\":\"area\",\"sizeref\":2.2677314814814817},\"mode\":\"markers\",\"name\":\"Richmond Road\",\"showlegend\":true,\"subplot\":\"mapbox\",\"type\":\"scattermapbox\"},{\"hovertemplate\":\"Location=Kumaraswamy Layout<br>avg votes=%{marker.size}<br>Latitude=%{lat}<br>Longitude=%{lon}<extra></extra>\",\"lat\":[12.9081487],\"legendgroup\":\"Kumaraswamy Layout\",\"lon\":[77.5553179],\"marker\":{\"color\":\"#19d3f3\",\"opacity\":0.85,\"size\":[100.51515151515152],\"sizemode\":\"area\",\"sizeref\":2.2677314814814817},\"mode\":\"markers\",\"name\":\"Kumaraswamy Layout\",\"showlegend\":true,\"subplot\":\"mapbox\",\"type\":\"scattermapbox\"},{\"hovertemplate\":\"Location=Basaveshwara Nagar<br>avg votes=%{marker.size}<br>Latitude=%{lat}<br>Longitude=%{lon}<extra></extra>\",\"lat\":[12.9931607],\"legendgroup\":\"Basaveshwara Nagar\",\"lon\":[77.5394749],\"marker\":{\"color\":\"#FF6692\",\"opacity\":0.85,\"size\":[107.9076923076923],\"sizemode\":\"area\",\"sizeref\":2.2677314814814817},\"mode\":\"markers\",\"name\":\"Basaveshwara Nagar\",\"showlegend\":true,\"subplot\":\"mapbox\",\"type\":\"scattermapbox\"},{\"hovertemplate\":\"Location=Yeshwantpur<br>avg votes=%{marker.size}<br>Latitude=%{lat}<br>Longitude=%{lon}<extra></extra>\",\"lat\":[13.02383],\"legendgroup\":\"Yeshwantpur\",\"lon\":[77.5529215],\"marker\":{\"color\":\"#B6E880\",\"opacity\":0.85,\"size\":[57.46875],\"sizemode\":\"area\",\"sizeref\":2.2677314814814817},\"mode\":\"markers\",\"name\":\"Yeshwantpur\",\"showlegend\":true,\"subplot\":\"mapbox\",\"type\":\"scattermapbox\"},{\"hovertemplate\":\"Location=Majestic<br>avg votes=%{marker.size}<br>Latitude=%{lat}<br>Longitude=%{lon}<extra></extra>\",\"lat\":[12.9757079],\"legendgroup\":\"Majestic\",\"lon\":[77.5728757],\"marker\":{\"color\":\"#FF97FF\",\"opacity\":0.85,\"size\":[39.596774193548384],\"sizemode\":\"area\",\"sizeref\":2.2677314814814817},\"mode\":\"markers\",\"name\":\"Majestic\",\"showlegend\":true,\"subplot\":\"mapbox\",\"type\":\"scattermapbox\"},{\"hovertemplate\":\"Location=Bommanahalli<br>avg votes=%{marker.size}<br>Latitude=%{lat}<br>Longitude=%{lon}<extra></extra>\",\"lat\":[12.9089453],\"legendgroup\":\"Bommanahalli\",\"lon\":[77.6239038],\"marker\":{\"color\":\"#FECB52\",\"opacity\":0.85,\"size\":[58.333333333333336],\"sizemode\":\"area\",\"sizeref\":2.2677314814814817},\"mode\":\"markers\",\"name\":\"Bommanahalli\",\"showlegend\":true,\"subplot\":\"mapbox\",\"type\":\"scattermapbox\"},{\"hovertemplate\":\"Location=Church Street<br>avg votes=%{marker.size}<br>Latitude=%{lat}<br>Longitude=%{lon}<extra></extra>\",\"lat\":[12.9757996],\"legendgroup\":\"Church Street\",\"lon\":[77.6016904],\"marker\":{\"color\":\"#636efa\",\"opacity\":0.85,\"size\":[907.0925925925926],\"sizemode\":\"area\",\"sizeref\":2.2677314814814817},\"mode\":\"markers\",\"name\":\"Church Street\",\"showlegend\":true,\"subplot\":\"mapbox\",\"type\":\"scattermapbox\"},{\"hovertemplate\":\"Location=Lavelle Road<br>avg votes=%{marker.size}<br>Latitude=%{lat}<br>Longitude=%{lon}<extra></extra>\",\"lat\":[12.9750062],\"legendgroup\":\"Lavelle Road\",\"lon\":[77.5998217],\"marker\":{\"color\":\"#EF553B\",\"opacity\":0.85,\"size\":[836.7115384615385],\"sizemode\":\"area\",\"sizeref\":2.2677314814814817},\"mode\":\"markers\",\"name\":\"Lavelle Road\",\"showlegend\":true,\"subplot\":\"mapbox\",\"type\":\"scattermapbox\"},{\"hovertemplate\":\"Location=Shanti Nagar<br>avg votes=%{marker.size}<br>Latitude=%{lat}<br>Longitude=%{lon}<extra></extra>\",\"lat\":[12.9575547],\"legendgroup\":\"Shanti Nagar\",\"lon\":[77.5979099],\"marker\":{\"color\":\"#00cc96\",\"opacity\":0.85,\"size\":[132.37254901960785],\"sizemode\":\"area\",\"sizeref\":2.2677314814814817},\"mode\":\"markers\",\"name\":\"Shanti Nagar\",\"showlegend\":true,\"subplot\":\"mapbox\",\"type\":\"scattermapbox\"},{\"hovertemplate\":\"Location=Thippasandra<br>avg votes=%{marker.size}<br>Latitude=%{lat}<br>Longitude=%{lon}<extra></extra>\",\"lat\":[12.973936],\"legendgroup\":\"Thippasandra\",\"lon\":[77.6509982],\"marker\":{\"color\":\"#ab63fa\",\"opacity\":0.85,\"size\":[91.0],\"sizemode\":\"area\",\"sizeref\":2.2677314814814817},\"mode\":\"markers\",\"name\":\"Thippasandra\",\"showlegend\":true,\"subplot\":\"mapbox\",\"type\":\"scattermapbox\"},{\"hovertemplate\":\"Location=Kaggadasapura<br>avg votes=%{marker.size}<br>Latitude=%{lat}<br>Longitude=%{lon}<extra></extra>\",\"lat\":[12.9846713],\"legendgroup\":\"Kaggadasapura\",\"lon\":[77.6790908],\"marker\":{\"color\":\"#FFA15A\",\"opacity\":0.85,\"size\":[94.92],\"sizemode\":\"area\",\"sizeref\":2.2677314814814817},\"mode\":\"markers\",\"name\":\"Kaggadasapura\",\"showlegend\":true,\"subplot\":\"mapbox\",\"type\":\"scattermapbox\"},{\"hovertemplate\":\"Location=Vijay Nagar<br>avg votes=%{marker.size}<br>Latitude=%{lat}<br>Longitude=%{lon}<extra></extra>\",\"lat\":[12.96599025],\"legendgroup\":\"Vijay Nagar\",\"lon\":[77.61255661823476],\"marker\":{\"color\":\"#19d3f3\",\"opacity\":0.85,\"size\":[124.40816326530613],\"sizemode\":\"area\",\"sizeref\":2.2677314814814817},\"mode\":\"markers\",\"name\":\"Vijay Nagar\",\"showlegend\":true,\"subplot\":\"mapbox\",\"type\":\"scattermapbox\"},{\"hovertemplate\":\"Location=Cunningham Road<br>avg votes=%{marker.size}<br>Latitude=%{lat}<br>Longitude=%{lon}<extra></extra>\",\"lat\":[12.9871119],\"legendgroup\":\"Cunningham Road\",\"lon\":[77.5948766],\"marker\":{\"color\":\"#FF6692\",\"opacity\":0.85,\"size\":[304.1063829787234],\"sizemode\":\"area\",\"sizeref\":2.2677314814814817},\"mode\":\"markers\",\"name\":\"Cunningham Road\",\"showlegend\":true,\"subplot\":\"mapbox\",\"type\":\"scattermapbox\"},{\"hovertemplate\":\"Location=Hennur<br>avg votes=%{marker.size}<br>Latitude=%{lat}<br>Longitude=%{lon}<extra></extra>\",\"lat\":[13.0258087],\"legendgroup\":\"Hennur\",\"lon\":[77.6305067],\"marker\":{\"color\":\"#B6E880\",\"opacity\":0.85,\"size\":[62.53191489361702],\"sizemode\":\"area\",\"sizeref\":2.2677314814814817},\"mode\":\"markers\",\"name\":\"Hennur\",\"showlegend\":true,\"subplot\":\"mapbox\",\"type\":\"scattermapbox\"},{\"hovertemplate\":\"Location=Seshadripuram<br>avg votes=%{marker.size}<br>Latitude=%{lat}<br>Longitude=%{lon}<extra></extra>\",\"lat\":[12.9931876],\"legendgroup\":\"Seshadripuram\",\"lon\":[77.5753419],\"marker\":{\"color\":\"#FF97FF\",\"opacity\":0.85,\"size\":[138.65217391304347],\"sizemode\":\"area\",\"sizeref\":2.2677314814814817},\"mode\":\"markers\",\"name\":\"Seshadripuram\",\"showlegend\":true,\"subplot\":\"mapbox\",\"type\":\"scattermapbox\"},{\"hovertemplate\":\"Location=Vasanth Nagar<br>avg votes=%{marker.size}<br>Latitude=%{lat}<br>Longitude=%{lon}<extra></extra>\",\"lat\":[12.988721250000001],\"legendgroup\":\"Vasanth Nagar\",\"lon\":[77.58516877601824],\"marker\":{\"color\":\"#FECB52\",\"opacity\":0.85,\"size\":[171.06976744186048],\"sizemode\":\"area\",\"sizeref\":2.2677314814814817},\"mode\":\"markers\",\"name\":\"Vasanth Nagar\",\"showlegend\":true,\"subplot\":\"mapbox\",\"type\":\"scattermapbox\"},{\"hovertemplate\":\"Location=Sahakara Nagar<br>avg votes=%{marker.size}<br>Latitude=%{lat}<br>Longitude=%{lon}<extra></extra>\",\"lat\":[13.0621474],\"legendgroup\":\"Sahakara Nagar\",\"lon\":[77.58006135480495],\"marker\":{\"color\":\"#636efa\",\"opacity\":0.85,\"size\":[167.55],\"sizemode\":\"area\",\"sizeref\":2.2677314814814817},\"mode\":\"markers\",\"name\":\"Sahakara Nagar\",\"showlegend\":true,\"subplot\":\"mapbox\",\"type\":\"scattermapbox\"},{\"hovertemplate\":\"Location=RT Nagar<br>avg votes=%{marker.size}<br>Latitude=%{lat}<br>Longitude=%{lon}<extra></extra>\",\"lat\":[13.0227204],\"legendgroup\":\"RT Nagar\",\"lon\":[77.595715],\"marker\":{\"color\":\"#EF553B\",\"opacity\":0.85,\"size\":[133.23076923076923],\"sizemode\":\"area\",\"sizeref\":2.2677314814814817},\"mode\":\"markers\",\"name\":\"RT Nagar\",\"showlegend\":true,\"subplot\":\"mapbox\",\"type\":\"scattermapbox\"},{\"hovertemplate\":\"Location=ITPL Main Road, Whitefield<br>avg votes=%{marker.size}<br>Latitude=%{lat}<br>Longitude=%{lon}<extra></extra>\",\"lat\":[12.9866083],\"legendgroup\":\"ITPL Main Road, Whitefield\",\"lon\":[77.7317181],\"marker\":{\"color\":\"#00cc96\",\"opacity\":0.85,\"size\":[127.37142857142857],\"sizemode\":\"area\",\"sizeref\":2.2677314814814817},\"mode\":\"markers\",\"name\":\"ITPL Main Road, Whitefield\",\"showlegend\":true,\"subplot\":\"mapbox\",\"type\":\"scattermapbox\"},{\"hovertemplate\":\"Location=Shivajinagar<br>avg votes=%{marker.size}<br>Latitude=%{lat}<br>Longitude=%{lon}<extra></extra>\",\"lat\":[12.986391],\"legendgroup\":\"Shivajinagar\",\"lon\":[77.6075416],\"marker\":{\"color\":\"#ab63fa\",\"opacity\":0.85,\"size\":[49.588235294117645],\"sizemode\":\"area\",\"sizeref\":2.2677314814814817},\"mode\":\"markers\",\"name\":\"Shivajinagar\",\"showlegend\":true,\"subplot\":\"mapbox\",\"type\":\"scattermapbox\"},{\"hovertemplate\":\"Location=Commercial Street<br>avg votes=%{marker.size}<br>Latitude=%{lat}<br>Longitude=%{lon}<extra></extra>\",\"lat\":[12.9822224],\"legendgroup\":\"Commercial Street\",\"lon\":[77.6083239],\"marker\":{\"color\":\"#FFA15A\",\"opacity\":0.85,\"size\":[118.76470588235294],\"sizemode\":\"area\",\"sizeref\":2.2677314814814817},\"mode\":\"markers\",\"name\":\"Commercial Street\",\"showlegend\":true,\"subplot\":\"mapbox\",\"type\":\"scattermapbox\"},{\"hovertemplate\":\"Location=Ejipura<br>avg votes=%{marker.size}<br>Latitude=%{lat}<br>Longitude=%{lon}<extra></extra>\",\"lat\":[12.945245],\"legendgroup\":\"Ejipura\",\"lon\":[77.6269144],\"marker\":{\"color\":\"#19d3f3\",\"opacity\":0.85,\"size\":[56.0],\"sizemode\":\"area\",\"sizeref\":2.2677314814814817},\"mode\":\"markers\",\"name\":\"Ejipura\",\"showlegend\":true,\"subplot\":\"mapbox\",\"type\":\"scattermapbox\"},{\"hovertemplate\":\"Location=Wilson Garden<br>avg votes=%{marker.size}<br>Latitude=%{lat}<br>Longitude=%{lon}<extra></extra>\",\"lat\":[12.9489339],\"legendgroup\":\"Wilson Garden\",\"lon\":[77.5968273],\"marker\":{\"color\":\"#FF6692\",\"opacity\":0.85,\"size\":[34.57575757575758],\"sizemode\":\"area\",\"sizeref\":2.2677314814814817},\"mode\":\"markers\",\"name\":\"Wilson Garden\",\"showlegend\":true,\"subplot\":\"mapbox\",\"type\":\"scattermapbox\"},{\"hovertemplate\":\"Location=Koramangala 8th Block<br>avg votes=%{marker.size}<br>Latitude=%{lat}<br>Longitude=%{lon}<extra></extra>\",\"lat\":[12.9408685],\"legendgroup\":\"Koramangala 8th Block\",\"lon\":[77.617338],\"marker\":{\"color\":\"#B6E880\",\"opacity\":0.85,\"size\":[91.6774193548387],\"sizemode\":\"area\",\"sizeref\":2.2677314814814817},\"mode\":\"markers\",\"name\":\"Koramangala 8th Block\",\"showlegend\":true,\"subplot\":\"mapbox\",\"type\":\"scattermapbox\"},{\"hovertemplate\":\"Location=Varthur Main Road, Whitefield<br>avg votes=%{marker.size}<br>Latitude=%{lat}<br>Longitude=%{lon}<extra></extra>\",\"lat\":[12.9413238],\"legendgroup\":\"Varthur Main Road, Whitefield\",\"lon\":[77.7471103],\"marker\":{\"color\":\"#FF97FF\",\"opacity\":0.85,\"size\":[61.233333333333334],\"sizemode\":\"area\",\"sizeref\":2.2677314814814817},\"mode\":\"markers\",\"name\":\"Varthur Main Road, Whitefield\",\"showlegend\":true,\"subplot\":\"mapbox\",\"type\":\"scattermapbox\"},{\"hovertemplate\":\"Location=Sanjay Nagar<br>avg votes=%{marker.size}<br>Latitude=%{lat}<br>Longitude=%{lon}<extra></extra>\",\"lat\":[12.9578658],\"legendgroup\":\"Sanjay Nagar\",\"lon\":[77.6958748],\"marker\":{\"color\":\"#FECB52\",\"opacity\":0.85,\"size\":[82.13333333333334],\"sizemode\":\"area\",\"sizeref\":2.2677314814814817},\"mode\":\"markers\",\"name\":\"Sanjay Nagar\",\"showlegend\":true,\"subplot\":\"mapbox\",\"type\":\"scattermapbox\"},{\"hovertemplate\":\"Location=Race Course Road<br>avg votes=%{marker.size}<br>Latitude=%{lat}<br>Longitude=%{lon}<extra></extra>\",\"lat\":[12.9843073],\"legendgroup\":\"Race Course Road\",\"lon\":[77.5878852],\"marker\":{\"color\":\"#636efa\",\"opacity\":0.85,\"size\":[324.13793103448273],\"sizemode\":\"area\",\"sizeref\":2.2677314814814817},\"mode\":\"markers\",\"name\":\"Race Course Road\",\"showlegend\":true,\"subplot\":\"mapbox\",\"type\":\"scattermapbox\"},{\"hovertemplate\":\"Location=CV Raman Nagar<br>avg votes=%{marker.size}<br>Latitude=%{lat}<br>Longitude=%{lon}<extra></extra>\",\"lat\":[12.9856596],\"legendgroup\":\"CV Raman Nagar\",\"lon\":[77.6638971],\"marker\":{\"color\":\"#EF553B\",\"opacity\":0.85,\"size\":[62.37931034482759],\"sizemode\":\"area\",\"sizeref\":2.2677314814814817},\"mode\":\"markers\",\"name\":\"CV Raman Nagar\",\"showlegend\":true,\"subplot\":\"mapbox\",\"type\":\"scattermapbox\"},{\"hovertemplate\":\"Location=HBR Layout<br>avg votes=%{marker.size}<br>Latitude=%{lat}<br>Longitude=%{lon}<extra></extra>\",\"lat\":[13.0358698],\"legendgroup\":\"HBR Layout\",\"lon\":[77.6323597],\"marker\":{\"color\":\"#00cc96\",\"opacity\":0.85,\"size\":[97.71428571428571],\"sizemode\":\"area\",\"sizeref\":2.2677314814814817},\"mode\":\"markers\",\"name\":\"HBR Layout\",\"showlegend\":true,\"subplot\":\"mapbox\",\"type\":\"scattermapbox\"},{\"hovertemplate\":\"Location=City Market<br>avg votes=%{marker.size}<br>Latitude=%{lat}<br>Longitude=%{lon}<extra></extra>\",\"lat\":[12.965717999999999],\"legendgroup\":\"City Market\",\"lon\":[77.5762705372058],\"marker\":{\"color\":\"#ab63fa\",\"opacity\":0.85,\"size\":[39.523809523809526],\"sizemode\":\"area\",\"sizeref\":2.2677314814814817},\"mode\":\"markers\",\"name\":\"City Market\",\"showlegend\":true,\"subplot\":\"mapbox\",\"type\":\"scattermapbox\"},{\"hovertemplate\":\"Location=South Bangalore<br>avg votes=%{marker.size}<br>Latitude=%{lat}<br>Longitude=%{lon}<extra></extra>\",\"lat\":[12.8845448],\"legendgroup\":\"South Bangalore\",\"lon\":[77.5701276],\"marker\":{\"color\":\"#FFA15A\",\"opacity\":0.85,\"size\":[82.15],\"sizemode\":\"area\",\"sizeref\":2.2677314814814817},\"mode\":\"markers\",\"name\":\"South Bangalore\",\"showlegend\":true,\"subplot\":\"mapbox\",\"type\":\"scattermapbox\"},{\"hovertemplate\":\"Location=Koramangala 3rd Block<br>avg votes=%{marker.size}<br>Latitude=%{lat}<br>Longitude=%{lon}<extra></extra>\",\"lat\":[12.9282918],\"legendgroup\":\"Koramangala 3rd Block\",\"lon\":[77.6254034],\"marker\":{\"color\":\"#19d3f3\",\"opacity\":0.85,\"size\":[474.6842105263158],\"sizemode\":\"area\",\"sizeref\":2.2677314814814817},\"mode\":\"markers\",\"name\":\"Koramangala 3rd Block\",\"showlegend\":true,\"subplot\":\"mapbox\",\"type\":\"scattermapbox\"},{\"hovertemplate\":\"Location=East Bangalore<br>avg votes=%{marker.size}<br>Latitude=%{lat}<br>Longitude=%{lon}<extra></extra>\",\"lat\":[12.9845687],\"legendgroup\":\"East Bangalore\",\"lon\":[77.73766474151809],\"marker\":{\"color\":\"#FF6692\",\"opacity\":0.85,\"size\":[120.25],\"sizemode\":\"area\",\"sizeref\":2.2677314814814817},\"mode\":\"markers\",\"name\":\"East Bangalore\",\"showlegend\":true,\"subplot\":\"mapbox\",\"type\":\"scattermapbox\"},{\"hovertemplate\":\"Location=Magadi Road<br>avg votes=%{marker.size}<br>Latitude=%{lat}<br>Longitude=%{lon}<extra></extra>\",\"lat\":[12.975608],\"legendgroup\":\"Magadi Road\",\"lon\":[77.5553564],\"marker\":{\"color\":\"#B6E880\",\"opacity\":0.85,\"size\":[31.9375],\"sizemode\":\"area\",\"sizeref\":2.2677314814814817},\"mode\":\"markers\",\"name\":\"Magadi Road\",\"showlegend\":true,\"subplot\":\"mapbox\",\"type\":\"scattermapbox\"},{\"hovertemplate\":\"Location=Jalahalli<br>avg votes=%{marker.size}<br>Latitude=%{lat}<br>Longitude=%{lon}<extra></extra>\",\"lat\":[13.0464531],\"legendgroup\":\"Jalahalli\",\"lon\":[77.5483803],\"marker\":{\"color\":\"#FF97FF\",\"opacity\":0.85,\"size\":[30.466666666666665],\"sizemode\":\"area\",\"sizeref\":2.2677314814814817},\"mode\":\"markers\",\"name\":\"Jalahalli\",\"showlegend\":true,\"subplot\":\"mapbox\",\"type\":\"scattermapbox\"},{\"hovertemplate\":\"Location=Infantry Road<br>avg votes=%{marker.size}<br>Latitude=%{lat}<br>Longitude=%{lon}<extra></extra>\",\"lat\":[12.9837879],\"legendgroup\":\"Infantry Road\",\"lon\":[77.5940558],\"marker\":{\"color\":\"#FECB52\",\"opacity\":0.85,\"size\":[357.6923076923077],\"sizemode\":\"area\",\"sizeref\":2.2677314814814817},\"mode\":\"markers\",\"name\":\"Infantry Road\",\"showlegend\":true,\"subplot\":\"mapbox\",\"type\":\"scattermapbox\"},{\"hovertemplate\":\"Location=Sankey Road<br>avg votes=%{marker.size}<br>Latitude=%{lat}<br>Longitude=%{lon}<extra></extra>\",\"lat\":[12.9886937],\"legendgroup\":\"Sankey Road\",\"lon\":[77.5863032],\"marker\":{\"color\":\"#636efa\",\"opacity\":0.85,\"size\":[252.58333333333334],\"sizemode\":\"area\",\"sizeref\":2.2677314814814817},\"mode\":\"markers\",\"name\":\"Sankey Road\",\"showlegend\":true,\"subplot\":\"mapbox\",\"type\":\"scattermapbox\"},{\"hovertemplate\":\"Location=Hosur Road<br>avg votes=%{marker.size}<br>Latitude=%{lat}<br>Longitude=%{lon}<extra></extra>\",\"lat\":[12.9524872],\"legendgroup\":\"Hosur Road\",\"lon\":[77.6052377],\"marker\":{\"color\":\"#EF553B\",\"opacity\":0.85,\"size\":[114.72727272727273],\"sizemode\":\"area\",\"sizeref\":2.2677314814814817},\"mode\":\"markers\",\"name\":\"Hosur Road\",\"showlegend\":true,\"subplot\":\"mapbox\",\"type\":\"scattermapbox\"},{\"hovertemplate\":\"Location=Kanakapura Road<br>avg votes=%{marker.size}<br>Latitude=%{lat}<br>Longitude=%{lon}<extra></extra>\",\"lat\":[12.93679],\"legendgroup\":\"Kanakapura Road\",\"lon\":[77.5753572],\"marker\":{\"color\":\"#00cc96\",\"opacity\":0.85,\"size\":[50.4],\"sizemode\":\"area\",\"sizeref\":2.2677314814814817},\"mode\":\"markers\",\"name\":\"Kanakapura Road\",\"showlegend\":true,\"subplot\":\"mapbox\",\"type\":\"scattermapbox\"},{\"hovertemplate\":\"Location=Old Madras Road<br>avg votes=%{marker.size}<br>Latitude=%{lat}<br>Longitude=%{lon}<extra></extra>\",\"lat\":[13.0280381],\"legendgroup\":\"Old Madras Road\",\"lon\":[77.7236769],\"marker\":{\"color\":\"#ab63fa\",\"opacity\":0.85,\"size\":[76.22222222222223],\"sizemode\":\"area\",\"sizeref\":2.2677314814814817},\"mode\":\"markers\",\"name\":\"Old Madras Road\",\"showlegend\":true,\"subplot\":\"mapbox\",\"type\":\"scattermapbox\"},{\"hovertemplate\":\"Location=Koramangala 2nd Block<br>avg votes=%{marker.size}<br>Latitude=%{lat}<br>Longitude=%{lon}<extra></extra>\",\"lat\":[12.9243692],\"legendgroup\":\"Koramangala 2nd Block\",\"lon\":[77.6242433],\"marker\":{\"color\":\"#FFA15A\",\"opacity\":0.85,\"size\":[78.5],\"sizemode\":\"area\",\"sizeref\":2.2677314814814817},\"mode\":\"markers\",\"name\":\"Koramangala 2nd Block\",\"showlegend\":true,\"subplot\":\"mapbox\",\"type\":\"scattermapbox\"},{\"hovertemplate\":\"Location=Mysore Road<br>avg votes=%{marker.size}<br>Latitude=%{lat}<br>Longitude=%{lon}<extra></extra>\",\"lat\":[12.9467026],\"legendgroup\":\"Mysore Road\",\"lon\":[77.5300705],\"marker\":{\"color\":\"#19d3f3\",\"opacity\":0.85,\"size\":[74.625],\"sizemode\":\"area\",\"sizeref\":2.2677314814814817},\"mode\":\"markers\",\"name\":\"Mysore Road\",\"showlegend\":true,\"subplot\":\"mapbox\",\"type\":\"scattermapbox\"},{\"hovertemplate\":\"Location=Uttarahalli<br>avg votes=%{marker.size}<br>Latitude=%{lat}<br>Longitude=%{lon}<extra></extra>\",\"lat\":[12.9055682],\"legendgroup\":\"Uttarahalli\",\"lon\":[77.5455438],\"marker\":{\"color\":\"#FF6692\",\"opacity\":0.85,\"size\":[66.25],\"sizemode\":\"area\",\"sizeref\":2.2677314814814817},\"mode\":\"markers\",\"name\":\"Uttarahalli\",\"showlegend\":true,\"subplot\":\"mapbox\",\"type\":\"scattermapbox\"},{\"hovertemplate\":\"Location=KR Puram<br>avg votes=%{marker.size}<br>Latitude=%{lat}<br>Longitude=%{lon}<extra></extra>\",\"lat\":[13.007516],\"legendgroup\":\"KR Puram\",\"lon\":[77.695935],\"marker\":{\"color\":\"#B6E880\",\"opacity\":0.85,\"size\":[29.875],\"sizemode\":\"area\",\"sizeref\":2.2677314814814817},\"mode\":\"markers\",\"name\":\"KR Puram\",\"showlegend\":true,\"subplot\":\"mapbox\",\"type\":\"scattermapbox\"},{\"hovertemplate\":\"Location=Koramangala<br>avg votes=%{marker.size}<br>Latitude=%{lat}<br>Longitude=%{lon}<extra></extra>\",\"lat\":[13.2923988],\"legendgroup\":\"Koramangala\",\"lon\":[77.7519261],\"marker\":{\"color\":\"#FF97FF\",\"opacity\":0.85,\"size\":[168.66666666666666],\"sizemode\":\"area\",\"sizeref\":2.2677314814814817},\"mode\":\"markers\",\"name\":\"Koramangala\",\"showlegend\":true,\"subplot\":\"mapbox\",\"type\":\"scattermapbox\"},{\"hovertemplate\":\"Location=North Bangalore<br>avg votes=%{marker.size}<br>Latitude=%{lat}<br>Longitude=%{lon}<extra></extra>\",\"lat\":[12.9767936],\"legendgroup\":\"North Bangalore\",\"lon\":[77.590082],\"marker\":{\"color\":\"#FECB52\",\"opacity\":0.85,\"size\":[139.25],\"sizemode\":\"area\",\"sizeref\":2.2677314814814817},\"mode\":\"markers\",\"name\":\"North Bangalore\",\"showlegend\":true,\"subplot\":\"mapbox\",\"type\":\"scattermapbox\"},{\"hovertemplate\":\"Location=Hebbal<br>avg votes=%{marker.size}<br>Latitude=%{lat}<br>Longitude=%{lon}<extra></extra>\",\"lat\":[13.0382184],\"legendgroup\":\"Hebbal\",\"lon\":[77.5919],\"marker\":{\"color\":\"#636efa\",\"opacity\":0.85,\"size\":[56.25],\"sizemode\":\"area\",\"sizeref\":2.2677314814814817},\"mode\":\"markers\",\"name\":\"Hebbal\",\"showlegend\":true,\"subplot\":\"mapbox\",\"type\":\"scattermapbox\"},{\"hovertemplate\":\"Location=West Bangalore<br>avg votes=%{marker.size}<br>Latitude=%{lat}<br>Longitude=%{lon}<extra></extra>\",\"lat\":[12.9848519],\"legendgroup\":\"West Bangalore\",\"lon\":[77.5400626],\"marker\":{\"color\":\"#EF553B\",\"opacity\":0.85,\"size\":[287.5],\"sizemode\":\"area\",\"sizeref\":2.2677314814814817},\"mode\":\"markers\",\"name\":\"West Bangalore\",\"showlegend\":true,\"subplot\":\"mapbox\",\"type\":\"scattermapbox\"},{\"hovertemplate\":\"Location=Yelahanka<br>avg votes=%{marker.size}<br>Latitude=%{lat}<br>Longitude=%{lon}<extra></extra>\",\"lat\":[13.1006982],\"legendgroup\":\"Yelahanka\",\"lon\":[77.5963454],\"marker\":{\"color\":\"#00cc96\",\"opacity\":0.85,\"size\":[44.0],\"sizemode\":\"area\",\"sizeref\":2.2677314814814817},\"mode\":\"markers\",\"name\":\"Yelahanka\",\"showlegend\":true,\"subplot\":\"mapbox\",\"type\":\"scattermapbox\"},{\"hovertemplate\":\"Location=Rajarajeshwari Nagar<br>avg votes=%{marker.size}<br>Latitude=%{lat}<br>Longitude=%{lon}<extra></extra>\",\"lat\":[12.9274413],\"legendgroup\":\"Rajarajeshwari Nagar\",\"lon\":[77.5155224],\"marker\":{\"color\":\"#ab63fa\",\"opacity\":0.85,\"size\":[366.0],\"sizemode\":\"area\",\"sizeref\":2.2677314814814817},\"mode\":\"markers\",\"name\":\"Rajarajeshwari Nagar\",\"showlegend\":true,\"subplot\":\"mapbox\",\"type\":\"scattermapbox\"},{\"hovertemplate\":\"Location=Central Bangalore<br>avg votes=%{marker.size}<br>Latitude=%{lat}<br>Longitude=%{lon}<extra></extra>\",\"lat\":[13.0101286],\"legendgroup\":\"Central Bangalore\",\"lon\":[77.5548006],\"marker\":{\"color\":\"#FFA15A\",\"opacity\":0.85,\"size\":[200.0],\"sizemode\":\"area\",\"sizeref\":2.2677314814814817},\"mode\":\"markers\",\"name\":\"Central Bangalore\",\"showlegend\":true,\"subplot\":\"mapbox\",\"type\":\"scattermapbox\"},{\"hovertemplate\":\"Location=Langford Town<br>avg votes=%{marker.size}<br>Latitude=%{lat}<br>Longitude=%{lon}<extra></extra>\",\"lat\":[12.957998],\"legendgroup\":\"Langford Town\",\"lon\":[77.6037312],\"marker\":{\"color\":\"#19d3f3\",\"opacity\":0.85,\"size\":[130.0],\"sizemode\":\"area\",\"sizeref\":2.2677314814814817},\"mode\":\"markers\",\"name\":\"Langford Town\",\"showlegend\":true,\"subplot\":\"mapbox\",\"type\":\"scattermapbox\"},{\"hovertemplate\":\"Location=Kengeri<br>avg votes=%{marker.size}<br>Latitude=%{lat}<br>Longitude=%{lon}<extra></extra>\",\"lat\":[12.9176571],\"legendgroup\":\"Kengeri\",\"lon\":[77.4837568],\"marker\":{\"color\":\"#FF6692\",\"opacity\":0.85,\"size\":[74.0],\"sizemode\":\"area\",\"sizeref\":2.2677314814814817},\"mode\":\"markers\",\"name\":\"Kengeri\",\"showlegend\":true,\"subplot\":\"mapbox\",\"type\":\"scattermapbox\"},{\"hovertemplate\":\"Location=Nagarbhavi<br>avg votes=%{marker.size}<br>Latitude=%{lat}<br>Longitude=%{lon}<extra></extra>\",\"lat\":[12.95961755],\"legendgroup\":\"Nagarbhavi\",\"lon\":[77.51126721318181],\"marker\":{\"color\":\"#B6E880\",\"opacity\":0.85,\"size\":[10.0],\"sizemode\":\"area\",\"sizeref\":2.2677314814814817},\"mode\":\"markers\",\"name\":\"Nagarbhavi\",\"showlegend\":true,\"subplot\":\"mapbox\",\"type\":\"scattermapbox\"},{\"hovertemplate\":\"Location=Peenya<br>avg votes=%{marker.size}<br>Latitude=%{lat}<br>Longitude=%{lon}<extra></extra>\",\"lat\":[13.0329419],\"legendgroup\":\"Peenya\",\"lon\":[77.5273253],\"marker\":{\"color\":\"#FF97FF\",\"opacity\":0.85,\"size\":[5.0],\"sizemode\":\"area\",\"sizeref\":2.2677314814814817},\"mode\":\"markers\",\"name\":\"Peenya\",\"showlegend\":true,\"subplot\":\"mapbox\",\"type\":\"scattermapbox\"}],                        {\"template\":{\"data\":{\"bar\":[{\"error_x\":{\"color\":\"#2a3f5f\"},\"error_y\":{\"color\":\"#2a3f5f\"},\"marker\":{\"line\":{\"color\":\"#E5ECF6\",\"width\":0.5},\"pattern\":{\"fillmode\":\"overlay\",\"size\":10,\"solidity\":0.2}},\"type\":\"bar\"}],\"barpolar\":[{\"marker\":{\"line\":{\"color\":\"#E5ECF6\",\"width\":0.5},\"pattern\":{\"fillmode\":\"overlay\",\"size\":10,\"solidity\":0.2}},\"type\":\"barpolar\"}],\"carpet\":[{\"aaxis\":{\"endlinecolor\":\"#2a3f5f\",\"gridcolor\":\"white\",\"linecolor\":\"white\",\"minorgridcolor\":\"white\",\"startlinecolor\":\"#2a3f5f\"},\"baxis\":{\"endlinecolor\":\"#2a3f5f\",\"gridcolor\":\"white\",\"linecolor\":\"white\",\"minorgridcolor\":\"white\",\"startlinecolor\":\"#2a3f5f\"},\"type\":\"carpet\"}],\"choropleth\":[{\"colorbar\":{\"outlinewidth\":0,\"ticks\":\"\"},\"type\":\"choropleth\"}],\"contour\":[{\"colorbar\":{\"outlinewidth\":0,\"ticks\":\"\"},\"colorscale\":[[0.0,\"#0d0887\"],[0.1111111111111111,\"#46039f\"],[0.2222222222222222,\"#7201a8\"],[0.3333333333333333,\"#9c179e\"],[0.4444444444444444,\"#bd3786\"],[0.5555555555555556,\"#d8576b\"],[0.6666666666666666,\"#ed7953\"],[0.7777777777777778,\"#fb9f3a\"],[0.8888888888888888,\"#fdca26\"],[1.0,\"#f0f921\"]],\"type\":\"contour\"}],\"contourcarpet\":[{\"colorbar\":{\"outlinewidth\":0,\"ticks\":\"\"},\"type\":\"contourcarpet\"}],\"heatmap\":[{\"colorbar\":{\"outlinewidth\":0,\"ticks\":\"\"},\"colorscale\":[[0.0,\"#0d0887\"],[0.1111111111111111,\"#46039f\"],[0.2222222222222222,\"#7201a8\"],[0.3333333333333333,\"#9c179e\"],[0.4444444444444444,\"#bd3786\"],[0.5555555555555556,\"#d8576b\"],[0.6666666666666666,\"#ed7953\"],[0.7777777777777778,\"#fb9f3a\"],[0.8888888888888888,\"#fdca26\"],[1.0,\"#f0f921\"]],\"type\":\"heatmap\"}],\"heatmapgl\":[{\"colorbar\":{\"outlinewidth\":0,\"ticks\":\"\"},\"colorscale\":[[0.0,\"#0d0887\"],[0.1111111111111111,\"#46039f\"],[0.2222222222222222,\"#7201a8\"],[0.3333333333333333,\"#9c179e\"],[0.4444444444444444,\"#bd3786\"],[0.5555555555555556,\"#d8576b\"],[0.6666666666666666,\"#ed7953\"],[0.7777777777777778,\"#fb9f3a\"],[0.8888888888888888,\"#fdca26\"],[1.0,\"#f0f921\"]],\"type\":\"heatmapgl\"}],\"histogram\":[{\"marker\":{\"pattern\":{\"fillmode\":\"overlay\",\"size\":10,\"solidity\":0.2}},\"type\":\"histogram\"}],\"histogram2d\":[{\"colorbar\":{\"outlinewidth\":0,\"ticks\":\"\"},\"colorscale\":[[0.0,\"#0d0887\"],[0.1111111111111111,\"#46039f\"],[0.2222222222222222,\"#7201a8\"],[0.3333333333333333,\"#9c179e\"],[0.4444444444444444,\"#bd3786\"],[0.5555555555555556,\"#d8576b\"],[0.6666666666666666,\"#ed7953\"],[0.7777777777777778,\"#fb9f3a\"],[0.8888888888888888,\"#fdca26\"],[1.0,\"#f0f921\"]],\"type\":\"histogram2d\"}],\"histogram2dcontour\":[{\"colorbar\":{\"outlinewidth\":0,\"ticks\":\"\"},\"colorscale\":[[0.0,\"#0d0887\"],[0.1111111111111111,\"#46039f\"],[0.2222222222222222,\"#7201a8\"],[0.3333333333333333,\"#9c179e\"],[0.4444444444444444,\"#bd3786\"],[0.5555555555555556,\"#d8576b\"],[0.6666666666666666,\"#ed7953\"],[0.7777777777777778,\"#fb9f3a\"],[0.8888888888888888,\"#fdca26\"],[1.0,\"#f0f921\"]],\"type\":\"histogram2dcontour\"}],\"mesh3d\":[{\"colorbar\":{\"outlinewidth\":0,\"ticks\":\"\"},\"type\":\"mesh3d\"}],\"parcoords\":[{\"line\":{\"colorbar\":{\"outlinewidth\":0,\"ticks\":\"\"}},\"type\":\"parcoords\"}],\"pie\":[{\"automargin\":true,\"type\":\"pie\"}],\"scatter\":[{\"marker\":{\"colorbar\":{\"outlinewidth\":0,\"ticks\":\"\"}},\"type\":\"scatter\"}],\"scatter3d\":[{\"line\":{\"colorbar\":{\"outlinewidth\":0,\"ticks\":\"\"}},\"marker\":{\"colorbar\":{\"outlinewidth\":0,\"ticks\":\"\"}},\"type\":\"scatter3d\"}],\"scattercarpet\":[{\"marker\":{\"colorbar\":{\"outlinewidth\":0,\"ticks\":\"\"}},\"type\":\"scattercarpet\"}],\"scattergeo\":[{\"marker\":{\"colorbar\":{\"outlinewidth\":0,\"ticks\":\"\"}},\"type\":\"scattergeo\"}],\"scattergl\":[{\"marker\":{\"colorbar\":{\"outlinewidth\":0,\"ticks\":\"\"}},\"type\":\"scattergl\"}],\"scattermapbox\":[{\"marker\":{\"colorbar\":{\"outlinewidth\":0,\"ticks\":\"\"}},\"type\":\"scattermapbox\"}],\"scatterpolar\":[{\"marker\":{\"colorbar\":{\"outlinewidth\":0,\"ticks\":\"\"}},\"type\":\"scatterpolar\"}],\"scatterpolargl\":[{\"marker\":{\"colorbar\":{\"outlinewidth\":0,\"ticks\":\"\"}},\"type\":\"scatterpolargl\"}],\"scatterternary\":[{\"marker\":{\"colorbar\":{\"outlinewidth\":0,\"ticks\":\"\"}},\"type\":\"scatterternary\"}],\"surface\":[{\"colorbar\":{\"outlinewidth\":0,\"ticks\":\"\"},\"colorscale\":[[0.0,\"#0d0887\"],[0.1111111111111111,\"#46039f\"],[0.2222222222222222,\"#7201a8\"],[0.3333333333333333,\"#9c179e\"],[0.4444444444444444,\"#bd3786\"],[0.5555555555555556,\"#d8576b\"],[0.6666666666666666,\"#ed7953\"],[0.7777777777777778,\"#fb9f3a\"],[0.8888888888888888,\"#fdca26\"],[1.0,\"#f0f921\"]],\"type\":\"surface\"}],\"table\":[{\"cells\":{\"fill\":{\"color\":\"#EBF0F8\"},\"line\":{\"color\":\"white\"}},\"header\":{\"fill\":{\"color\":\"#C8D4E3\"},\"line\":{\"color\":\"white\"}},\"type\":\"table\"}]},\"layout\":{\"annotationdefaults\":{\"arrowcolor\":\"#2a3f5f\",\"arrowhead\":0,\"arrowwidth\":1},\"autotypenumbers\":\"strict\",\"coloraxis\":{\"colorbar\":{\"outlinewidth\":0,\"ticks\":\"\"}},\"colorscale\":{\"diverging\":[[0,\"#8e0152\"],[0.1,\"#c51b7d\"],[0.2,\"#de77ae\"],[0.3,\"#f1b6da\"],[0.4,\"#fde0ef\"],[0.5,\"#f7f7f7\"],[0.6,\"#e6f5d0\"],[0.7,\"#b8e186\"],[0.8,\"#7fbc41\"],[0.9,\"#4d9221\"],[1,\"#276419\"]],\"sequential\":[[0.0,\"#0d0887\"],[0.1111111111111111,\"#46039f\"],[0.2222222222222222,\"#7201a8\"],[0.3333333333333333,\"#9c179e\"],[0.4444444444444444,\"#bd3786\"],[0.5555555555555556,\"#d8576b\"],[0.6666666666666666,\"#ed7953\"],[0.7777777777777778,\"#fb9f3a\"],[0.8888888888888888,\"#fdca26\"],[1.0,\"#f0f921\"]],\"sequentialminus\":[[0.0,\"#0d0887\"],[0.1111111111111111,\"#46039f\"],[0.2222222222222222,\"#7201a8\"],[0.3333333333333333,\"#9c179e\"],[0.4444444444444444,\"#bd3786\"],[0.5555555555555556,\"#d8576b\"],[0.6666666666666666,\"#ed7953\"],[0.7777777777777778,\"#fb9f3a\"],[0.8888888888888888,\"#fdca26\"],[1.0,\"#f0f921\"]]},\"colorway\":[\"#636efa\",\"#EF553B\",\"#00cc96\",\"#ab63fa\",\"#FFA15A\",\"#19d3f3\",\"#FF6692\",\"#B6E880\",\"#FF97FF\",\"#FECB52\"],\"font\":{\"color\":\"#2a3f5f\"},\"geo\":{\"bgcolor\":\"white\",\"lakecolor\":\"white\",\"landcolor\":\"#E5ECF6\",\"showlakes\":true,\"showland\":true,\"subunitcolor\":\"white\"},\"hoverlabel\":{\"align\":\"left\"},\"hovermode\":\"closest\",\"mapbox\":{\"style\":\"light\"},\"paper_bgcolor\":\"white\",\"plot_bgcolor\":\"#E5ECF6\",\"polar\":{\"angularaxis\":{\"gridcolor\":\"white\",\"linecolor\":\"white\",\"ticks\":\"\"},\"bgcolor\":\"#E5ECF6\",\"radialaxis\":{\"gridcolor\":\"white\",\"linecolor\":\"white\",\"ticks\":\"\"}},\"scene\":{\"xaxis\":{\"backgroundcolor\":\"#E5ECF6\",\"gridcolor\":\"white\",\"gridwidth\":2,\"linecolor\":\"white\",\"showbackground\":true,\"ticks\":\"\",\"zerolinecolor\":\"white\"},\"yaxis\":{\"backgroundcolor\":\"#E5ECF6\",\"gridcolor\":\"white\",\"gridwidth\":2,\"linecolor\":\"white\",\"showbackground\":true,\"ticks\":\"\",\"zerolinecolor\":\"white\"},\"zaxis\":{\"backgroundcolor\":\"#E5ECF6\",\"gridcolor\":\"white\",\"gridwidth\":2,\"linecolor\":\"white\",\"showbackground\":true,\"ticks\":\"\",\"zerolinecolor\":\"white\"}},\"shapedefaults\":{\"line\":{\"color\":\"#2a3f5f\"}},\"ternary\":{\"aaxis\":{\"gridcolor\":\"white\",\"linecolor\":\"white\",\"ticks\":\"\"},\"baxis\":{\"gridcolor\":\"white\",\"linecolor\":\"white\",\"ticks\":\"\"},\"bgcolor\":\"#E5ECF6\",\"caxis\":{\"gridcolor\":\"white\",\"linecolor\":\"white\",\"ticks\":\"\"}},\"title\":{\"x\":0.05},\"xaxis\":{\"automargin\":true,\"gridcolor\":\"white\",\"linecolor\":\"white\",\"ticks\":\"\",\"title\":{\"standoff\":15},\"zerolinecolor\":\"white\",\"zerolinewidth\":2},\"yaxis\":{\"automargin\":true,\"gridcolor\":\"white\",\"linecolor\":\"white\",\"ticks\":\"\",\"title\":{\"standoff\":15},\"zerolinecolor\":\"white\",\"zerolinewidth\":2}}},\"mapbox\":{\"domain\":{\"x\":[0.0,1.0],\"y\":[0.0,1.0]},\"center\":{\"lat\":12.973978820224719,\"lon\":77.61317094925339},\"zoom\":10.8,\"style\":\"open-street-map\"},\"legend\":{\"title\":{\"text\":\"Location\"},\"tracegroupgap\":0,\"itemsizing\":\"constant\"},\"title\":{\"text\":\"Region wise Average Votes in Restaurants\"},\"height\":900,\"width\":1200,\"margin\":{\"r\":0,\"t\":50,\"l\":0,\"b\":10}},                        {\"responsive\": true}                    ).then(function(){\n",
              "                            \n",
              "var gd = document.getElementById('21144d77-6135-4eec-b401-691d2a06120a');\n",
              "var x = new MutationObserver(function (mutations, observer) {{\n",
              "        var display = window.getComputedStyle(gd).display;\n",
              "        if (!display || display === 'none') {{\n",
              "            console.log([gd, 'removed!']);\n",
              "            Plotly.purge(gd);\n",
              "            observer.disconnect();\n",
              "        }}\n",
              "}});\n",
              "\n",
              "// Listen for the removal of the full notebook cells\n",
              "var notebookContainer = gd.closest('#notebook-container');\n",
              "if (notebookContainer) {{\n",
              "    x.observe(notebookContainer, {childList: true});\n",
              "}}\n",
              "\n",
              "// Listen for the clearing of the current output cell\n",
              "var outputEl = gd.closest('.output');\n",
              "if (outputEl) {{\n",
              "    x.observe(outputEl, {childList: true});\n",
              "}}\n",
              "\n",
              "                        })                };                            </script>        </div>\n",
              "</body>\n",
              "</html>"
            ]
          },
          "metadata": {}
        }
      ]
    },
    {
      "cell_type": "code",
      "source": [
        "#Top 10 location in Bangalore based on Average Votes\n",
        "top10_locby_avgvotes=df_pot.sort_values(by='avg votes',ascending=False)[:10]\n",
        "top10_locby_avgvotes[['Location','avg votes']]\n",
        "sns.barplot(x=top10_locby_avgvotes['Location'],y=top10_locby_avgvotes['avg votes'])\n",
        "plt.title('Region wise Average votes')\n",
        "plt.xticks(rotation=90)"
      ],
      "metadata": {
        "colab": {
          "base_uri": "https://localhost:8080/",
          "height": 436
        },
        "id": "TKG8ESvTiR4e",
        "outputId": "fbf699ff-ddae-4d8d-b342-59a5bba45575"
      },
      "execution_count": null,
      "outputs": [
        {
          "output_type": "execute_result",
          "data": {
            "text/plain": [
              "(array([0, 1, 2, 3, 4, 5, 6, 7, 8, 9]),\n",
              " <a list of 10 Text major ticklabel objects>)"
            ]
          },
          "metadata": {},
          "execution_count": 65
        },
        {
          "output_type": "display_data",
          "data": {
            "text/plain": [
              "<Figure size 432x288 with 1 Axes>"
            ],
            "image/png": "[encoded data removed]"
          },
          "metadata": {}
        }
      ]
    },
    {
      "cell_type": "code",
      "source": [
        "#Creating DataFrame containing Restaurant with the Top5 cuisine Type(North Indian, Chinese,South Indian, Fast Food and Biriyani)\n",
        "df_top5_cuisines=df_cuisine[df_cuisine['cuisines'].isin(df_cuisine['cuisines'].value_counts()[:5].index)]\n",
        "\n",
        "#Create DataFrame with total number of votes for Top 5 Cuisines in each location  \n",
        "df_cui_votes=pd.DataFrame(df_top5_cuisines.groupby(['location','cuisines'])['votes'].sum())\n",
        "df_cui_votes=df_cui_votes.reset_index()\n",
        "df_cui_votes.columns=['Location','Cuisine','Votes']\n",
        "\n",
        "#Create DataFrame with  number of outlets for Top 5 Cuisines in each location\n",
        "df_cui_count=pd.DataFrame(df_top5_cuisines.groupby(['location','cuisines']).size())\n",
        "df_cui_count=df_cui_count.reset_index()\n",
        "df_cui_count.columns=['Location','Cuisine','Count']\n",
        "\n",
        "#Create DataFrame with average votes for Top 5 Cuisines in each location\n",
        "df_cui_avgvote=pd.merge(df_cui_votes,df_cui_count,on=['Location','Cuisine'],how='outer')\n",
        "df_cui_avgvote['Avg Vote']=df_cui_avgvote['Votes']/df_cui_avgvote['Count']\n",
        "df_cui_avgvote\n",
        "\n",
        "#Create DataFrame containing Top 5 locations for each of the Top 5 Cuisine\n",
        "df_cui_avgvote=pd.DataFrame(df_cui_avgvote.sort_values(['Avg Vote'],ascending=False).groupby('Cuisine').head(5))\n",
        "df_cui_avgvote\n",
        "\n",
        "#Merge with the DataFrame containing the Latitude and Longitude of the Locations\n",
        "df_cui_avgvote=pd.merge(df_cui_avgvote,df_loc,on='Location',how='outer')\n",
        "\n",
        "#Drop Count column from the right Dataframe \n",
        "df_cui_avgvote=df_cui_avgvote.drop(['Count_x','Count_y'],axis=1).dropna()\n",
        "df_cui_avgvote"
      ],
      "metadata": {
        "colab": {
          "base_uri": "https://localhost:8080/",
          "height": 802
        },
        "id": "1Rv91u6P-4Lk",
        "outputId": "d2e9c551-99c4-4b4e-849f-839bc0cf9f74"
      },
      "execution_count": null,
      "outputs": [
        {
          "output_type": "execute_result",
          "data": {
            "text/plain": [
              "                 Location       Cuisine    Votes     Avg Vote   Latitude  \\\n",
              "0           Church Street       Chinese  18389.0  1838.900000  12.975800   \n",
              "1           Church Street  North Indian  19392.0  1020.631579  12.975800   \n",
              "2           Church Street  South Indian   5507.0   786.714286  12.975800   \n",
              "3   Koramangala 5th Block  North Indian  80817.0  1107.082192  12.934843   \n",
              "4   Koramangala 5th Block       Chinese  54894.0   795.565217  12.934843   \n",
              "5   Koramangala 5th Block       Biryani  18733.0   780.541667  12.934843   \n",
              "6   Koramangala 5th Block  South Indian  10767.0   633.352941  12.934843   \n",
              "7   Koramangala 5th Block     Fast Food  12942.0   331.846154  12.934843   \n",
              "8            Lavelle Road  North Indian   9803.0   816.916667  12.975006   \n",
              "9    Rajarajeshwari Nagar       Chinese    679.0   679.000000  12.927441   \n",
              "11  Koramangala 4th Block       Chinese  15802.0   632.080000  12.932778   \n",
              "12  Koramangala 4th Block  North Indian  20038.0   572.514286  12.932778   \n",
              "13       Race Course Road     Fast Food    631.0   631.000000  12.984307   \n",
              "14            Indiranagar  North Indian  86621.0   623.172662  12.973291   \n",
              "15            Indiranagar       Chinese  47616.0   529.066667  12.973291   \n",
              "16                MG Road  South Indian   4277.0   611.000000  12.975526   \n",
              "17          Sarjapur Road  South Indian  22753.0   568.825000  12.920441   \n",
              "18         Residency Road       Biryani   4982.0   553.555556  13.052948   \n",
              "19         West Bangalore       Biryani    537.0   537.000000  12.984852   \n",
              "20         West Bangalore     Fast Food    537.0   537.000000  12.984852   \n",
              "21        North Bangalore       Biryani    531.0   531.000000  12.976794   \n",
              "22              Jayanagar       Biryani  17096.0   488.457143  12.929273   \n",
              "23          Infantry Road     Fast Food   1255.0   418.333333  12.983788   \n",
              "24           Shivajinagar     Fast Food    399.0   399.000000  12.986391   \n",
              "\n",
              "    Longitude  \n",
              "0   77.601690  \n",
              "1   77.601690  \n",
              "2   77.601690  \n",
              "3   77.618977  \n",
              "4   77.618977  \n",
              "5   77.618977  \n",
              "6   77.618977  \n",
              "7   77.618977  \n",
              "8   77.599822  \n",
              "9   77.515522  \n",
              "11  77.629405  \n",
              "12  77.629405  \n",
              "13  77.587885  \n",
              "14  77.640467  \n",
              "15  77.640467  \n",
              "16  77.606790  \n",
              "17  77.665328  \n",
              "18  77.620606  \n",
              "19  77.540063  \n",
              "20  77.540063  \n",
              "21  77.590082  \n",
              "22  77.582423  \n",
              "23  77.594056  \n",
              "24  77.607542  "
            ],
            "text/html": [
              "\n",
              "  <div id=\"df-44a6fe9c-2a7d-45f3-afdf-d2c1760f57b7\">\n",
              "    <div class=\"colab-df-container\">\n",
              "      <div>\n",
              "<style scoped>\n",
              "    .dataframe tbody tr th:only-of-type {\n",
              "        vertical-align: middle;\n",
              "    }\n",
              "\n",
              "    .dataframe tbody tr th {\n",
              "        vertical-align: top;\n",
              "    }\n",
              "\n",
              "    .dataframe thead th {\n",
              "        text-align: right;\n",
              "    }\n",
              "</style>\n",
              "<table border=\"1\" class=\"dataframe\">\n",
              "  <thead>\n",
              "    <tr style=\"text-align: right;\">\n",
              "      <th></th>\n",
              "      <th>Location</th>\n",
              "      <th>Cuisine</th>\n",
              "      <th>Votes</th>\n",
              "      <th>Avg Vote</th>\n",
              "      <th>Latitude</th>\n",
              "      <th>Longitude</th>\n",
              "    </tr>\n",
              "  </thead>\n",
              "  <tbody>\n",
              "    <tr>\n",
              "      <th>0</th>\n",
              "      <td>Church Street</td>\n",
              "      <td>Chinese</td>\n",
              "      <td>18389.0</td>\n",
              "      <td>1838.900000</td>\n",
              "      <td>12.975800</td>\n",
              "      <td>77.601690</td>\n",
              "    </tr>\n",
              "    <tr>\n",
              "      <th>1</th>\n",
              "      <td>Church Street</td>\n",
              "      <td>North Indian</td>\n",
              "      <td>19392.0</td>\n",
              "      <td>1020.631579</td>\n",
              "      <td>12.975800</td>\n",
              "      <td>77.601690</td>\n",
              "    </tr>\n",
              "    <tr>\n",
              "      <th>2</th>\n",
              "      <td>Church Street</td>\n",
              "      <td>South Indian</td>\n",
              "      <td>5507.0</td>\n",
              "      <td>786.714286</td>\n",
              "      <td>12.975800</td>\n",
              "      <td>77.601690</td>\n",
              "    </tr>\n",
              "    <tr>\n",
              "      <th>3</th>\n",
              "      <td>Koramangala 5th Block</td>\n",
              "      <td>North Indian</td>\n",
              "      <td>80817.0</td>\n",
              "      <td>1107.082192</td>\n",
              "      <td>12.934843</td>\n",
              "      <td>77.618977</td>\n",
              "    </tr>\n",
              "    <tr>\n",
              "      <th>4</th>\n",
              "      <td>Koramangala 5th Block</td>\n",
              "      <td>Chinese</td>\n",
              "      <td>54894.0</td>\n",
              "      <td>795.565217</td>\n",
              "      <td>12.934843</td>\n",
              "      <td>77.618977</td>\n",
              "    </tr>\n",
              "    <tr>\n",
              "      <th>5</th>\n",
              "      <td>Koramangala 5th Block</td>\n",
              "      <td>Biryani</td>\n",
              "      <td>18733.0</td>\n",
              "      <td>780.541667</td>\n",
              "      <td>12.934843</td>\n",
              "      <td>77.618977</td>\n",
              "    </tr>\n",
              "    <tr>\n",
              "      <th>6</th>\n",
              "      <td>Koramangala 5th Block</td>\n",
              "      <td>South Indian</td>\n",
              "      <td>10767.0</td>\n",
              "      <td>633.352941</td>\n",
              "      <td>12.934843</td>\n",
              "      <td>77.618977</td>\n",
              "    </tr>\n",
              "    <tr>\n",
              "      <th>7</th>\n",
              "      <td>Koramangala 5th Block</td>\n",
              "      <td>Fast Food</td>\n",
              "      <td>12942.0</td>\n",
              "      <td>331.846154</td>\n",
              "      <td>12.934843</td>\n",
              "      <td>77.618977</td>\n",
              "    </tr>\n",
              "    <tr>\n",
              "      <th>8</th>\n",
              "      <td>Lavelle Road</td>\n",
              "      <td>North Indian</td>\n",
              "      <td>9803.0</td>\n",
              "      <td>816.916667</td>\n",
              "      <td>12.975006</td>\n",
              "      <td>77.599822</td>\n",
              "    </tr>\n",
              "    <tr>\n",
              "      <th>9</th>\n",
              "      <td>Rajarajeshwari Nagar</td>\n",
              "      <td>Chinese</td>\n",
              "      <td>679.0</td>\n",
              "      <td>679.000000</td>\n",
              "      <td>12.927441</td>\n",
              "      <td>77.515522</td>\n",
              "    </tr>\n",
              "    <tr>\n",
              "      <th>11</th>\n",
              "      <td>Koramangala 4th Block</td>\n",
              "      <td>Chinese</td>\n",
              "      <td>15802.0</td>\n",
              "      <td>632.080000</td>\n",
              "      <td>12.932778</td>\n",
              "      <td>77.629405</td>\n",
              "    </tr>\n",
              "    <tr>\n",
              "      <th>12</th>\n",
              "      <td>Koramangala 4th Block</td>\n",
              "      <td>North Indian</td>\n",
              "      <td>20038.0</td>\n",
              "      <td>572.514286</td>\n",
              "      <td>12.932778</td>\n",
              "      <td>77.629405</td>\n",
              "    </tr>\n",
              "    <tr>\n",
              "      <th>13</th>\n",
              "      <td>Race Course Road</td>\n",
              "      <td>Fast Food</td>\n",
              "      <td>631.0</td>\n",
              "      <td>631.000000</td>\n",
              "      <td>12.984307</td>\n",
              "      <td>77.587885</td>\n",
              "    </tr>\n",
              "    <tr>\n",
              "      <th>14</th>\n",
              "      <td>Indiranagar</td>\n",
              "      <td>North Indian</td>\n",
              "      <td>86621.0</td>\n",
              "      <td>623.172662</td>\n",
              "      <td>12.973291</td>\n",
              "      <td>77.640467</td>\n",
              "    </tr>\n",
              "    <tr>\n",
              "      <th>15</th>\n",
              "      <td>Indiranagar</td>\n",
              "      <td>Chinese</td>\n",
              "      <td>47616.0</td>\n",
              "      <td>529.066667</td>\n",
              "      <td>12.973291</td>\n",
              "      <td>77.640467</td>\n",
              "    </tr>\n",
              "    <tr>\n",
              "      <th>16</th>\n",
              "      <td>MG Road</td>\n",
              "      <td>South Indian</td>\n",
              "      <td>4277.0</td>\n",
              "      <td>611.000000</td>\n",
              "      <td>12.975526</td>\n",
              "      <td>77.606790</td>\n",
              "    </tr>\n",
              "    <tr>\n",
              "      <th>17</th>\n",
              "      <td>Sarjapur Road</td>\n",
              "      <td>South Indian</td>\n",
              "      <td>22753.0</td>\n",
              "      <td>568.825000</td>\n",
              "      <td>12.920441</td>\n",
              "      <td>77.665328</td>\n",
              "    </tr>\n",
              "    <tr>\n",
              "      <th>18</th>\n",
              "      <td>Residency Road</td>\n",
              "      <td>Biryani</td>\n",
              "      <td>4982.0</td>\n",
              "      <td>553.555556</td>\n",
              "      <td>13.052948</td>\n",
              "      <td>77.620606</td>\n",
              "    </tr>\n",
              "    <tr>\n",
              "      <th>19</th>\n",
              "      <td>West Bangalore</td>\n",
              "      <td>Biryani</td>\n",
              "      <td>537.0</td>\n",
              "      <td>537.000000</td>\n",
              "      <td>12.984852</td>\n",
              "      <td>77.540063</td>\n",
              "    </tr>\n",
              "    <tr>\n",
              "      <th>20</th>\n",
              "      <td>West Bangalore</td>\n",
              "      <td>Fast Food</td>\n",
              "      <td>537.0</td>\n",
              "      <td>537.000000</td>\n",
              "      <td>12.984852</td>\n",
              "      <td>77.540063</td>\n",
              "    </tr>\n",
              "    <tr>\n",
              "      <th>21</th>\n",
              "      <td>North Bangalore</td>\n",
              "      <td>Biryani</td>\n",
              "      <td>531.0</td>\n",
              "      <td>531.000000</td>\n",
              "      <td>12.976794</td>\n",
              "      <td>77.590082</td>\n",
              "    </tr>\n",
              "    <tr>\n",
              "      <th>22</th>\n",
              "      <td>Jayanagar</td>\n",
              "      <td>Biryani</td>\n",
              "      <td>17096.0</td>\n",
              "      <td>488.457143</td>\n",
              "      <td>12.929273</td>\n",
              "      <td>77.582423</td>\n",
              "    </tr>\n",
              "    <tr>\n",
              "      <th>23</th>\n",
              "      <td>Infantry Road</td>\n",
              "      <td>Fast Food</td>\n",
              "      <td>1255.0</td>\n",
              "      <td>418.333333</td>\n",
              "      <td>12.983788</td>\n",
              "      <td>77.594056</td>\n",
              "    </tr>\n",
              "    <tr>\n",
              "      <th>24</th>\n",
              "      <td>Shivajinagar</td>\n",
              "      <td>Fast Food</td>\n",
              "      <td>399.0</td>\n",
              "      <td>399.000000</td>\n",
              "      <td>12.986391</td>\n",
              "      <td>77.607542</td>\n",
              "    </tr>\n",
              "  </tbody>\n",
              "</table>\n",
              "</div>\n",
              "      <button class=\"colab-df-convert\" onclick=\"convertToInteractive('df-44a6fe9c-2a7d-45f3-afdf-d2c1760f57b7')\"\n",
              "              title=\"Convert this dataframe to an interactive table.\"\n",
              "              style=\"display:none;\">\n",
              "        \n",
              "  <svg xmlns=\"http://www.w3.org/2000/svg\" height=\"24px\"viewBox=\"0 0 24 24\"\n",
              "       width=\"24px\">\n",
              "    <path d=\"M0 0h24v24H0V0z\" fill=\"none\"/>\n",
              "    <path d=\"M18.56 5.44l.94 2.06.94-2.06 2.06-.94-2.06-.94-.94-2.06-.94 2.06-2.06.94zm-11 1L8.5 8.5l.94-2.06 2.06-.94-2.06-.94L8.5 2.5l-.94 2.06-2.06.94zm10 10l.94 2.06.94-2.06 2.06-.94-2.06-.94-.94-2.06-.94 2.06-2.06.94z\"/><path d=\"M17.41 7.96l-1.37-1.37c-.4-.4-.92-.59-1.43-.59-.52 0-1.04.2-1.43.59L10.3 9.45l-7.72 7.72c-.78.78-.78 2.05 0 2.83L4 21.41c.39.39.9.59 1.41.59.51 0 1.02-.2 1.41-.59l7.78-7.78 2.81-2.81c.8-.78.8-2.07 0-2.86zM5.41 20L4 18.59l7.72-7.72 1.47 1.35L5.41 20z\"/>\n",
              "  </svg>\n",
              "      </button>\n",
              "      \n",
              "  <style>\n",
              "    .colab-df-container {\n",
              "      display:flex;\n",
              "      flex-wrap:wrap;\n",
              "      gap: 12px;\n",
              "    }\n",
              "\n",
              "    .colab-df-convert {\n",
              "      background-color: #E8F0FE;\n",
              "      border: none;\n",
              "      border-radius: 50%;\n",
              "      cursor: pointer;\n",
              "      display: none;\n",
              "      fill: #1967D2;\n",
              "      height: 32px;\n",
              "      padding: 0 0 0 0;\n",
              "      width: 32px;\n",
              "    }\n",
              "\n",
              "    .colab-df-convert:hover {\n",
              "      background-color: #E2EBFA;\n",
              "      box-shadow: 0px 1px 2px rgba(60, 64, 67, 0.3), 0px 1px 3px 1px rgba(60, 64, 67, 0.15);\n",
              "      fill: #174EA6;\n",
              "    }\n",
              "\n",
              "    [theme=dark] .colab-df-convert {\n",
              "      background-color: #3B4455;\n",
              "      fill: #D2E3FC;\n",
              "    }\n",
              "\n",
              "    [theme=dark] .colab-df-convert:hover {\n",
              "      background-color: #434B5C;\n",
              "      box-shadow: 0px 1px 3px 1px rgba(0, 0, 0, 0.15);\n",
              "      filter: drop-shadow(0px 1px 2px rgba(0, 0, 0, 0.3));\n",
              "      fill: #FFFFFF;\n",
              "    }\n",
              "  </style>\n",
              "\n",
              "      <script>\n",
              "        const buttonEl =\n",
              "          document.querySelector('#df-44a6fe9c-2a7d-45f3-afdf-d2c1760f57b7 button.colab-df-convert');\n",
              "        buttonEl.style.display =\n",
              "          google.colab.kernel.accessAllowed ? 'block' : 'none';\n",
              "\n",
              "        async function convertToInteractive(key) {\n",
              "          const element = document.querySelector('#df-44a6fe9c-2a7d-45f3-afdf-d2c1760f57b7');\n",
              "          const dataTable =\n",
              "            await google.colab.kernel.invokeFunction('convertToInteractive',\n",
              "                                                     [key], {});\n",
              "          if (!dataTable) return;\n",
              "\n",
              "          const docLinkHtml = 'Like what you see? Visit the ' +\n",
              "            '<a target=\"_blank\" href=https://colab.research.google.com/notebooks/data_table.ipynb>data table notebook</a>'\n",
              "            + ' to learn more about interactive tables.';\n",
              "          element.innerHTML = '';\n",
              "          dataTable['output_type'] = 'display_data';\n",
              "          await google.colab.output.renderOutput(dataTable, element);\n",
              "          const docLink = document.createElement('div');\n",
              "          docLink.innerHTML = docLinkHtml;\n",
              "          element.appendChild(docLink);\n",
              "        }\n",
              "      </script>\n",
              "    </div>\n",
              "  </div>\n",
              "  "
            ]
          },
          "metadata": {},
          "execution_count": 66
        }
      ]
    },
    {
      "cell_type": "code",
      "source": [
        "#Mapping each location with marker size depending upon the average votes in the location\n",
        "fig=px.scatter_mapbox(df_cui_avgvote,\n",
        "                      lat=df_cui_avgvote['Latitude'],\n",
        "                      lon=df_cui_avgvote['Longitude'],\n",
        "                      zoom=10.8,\n",
        "                      hover_name=df_cui_avgvote['Location'],\n",
        "                      color=df_cui_avgvote['Cuisine'],\n",
        "                      size=df_cui_avgvote['Avg Vote'],\n",
        "                      color_continuous_scale=px.colors.cyclical.IceFire,\n",
        "                      opacity=0.95,\n",
        "                      width=1200,\n",
        "                      height=900,\n",
        "                      title='Top 5 Locations for each of the Top 5 Cuisine in Bangalore')\n",
        "fig.update_layout(mapbox_style='open-street-map')\n",
        "fig.update_layout(margin={\"r\":0,\"t\":50,\"l\":0,\"b\":10})\n",
        "fig.show()"
      ],
      "metadata": {
        "colab": {
          "base_uri": "https://localhost:8080/",
          "height": 917
        },
        "id": "uBsDOQbKN73Q",
        "outputId": "70ff12a1-898b-40c3-b69c-4ee929dcd75a"
      },
      "execution_count": null,
      "outputs": [
        {
          "output_type": "display_data",
          "data": {
            "text/html": [
              "<html>\n",
              "<head><meta charset=\"utf-8\" /></head>\n",
              "<body>\n",
              "    <div>            <script src=\"https://cdnjs.cloudflare.com/ajax/libs/mathjax/2.7.5/MathJax.js?config=TeX-AMS-MML_SVG\"></script><script type=\"text/javascript\">if (window.MathJax) {MathJax.Hub.Config({SVG: {font: \"STIX-Web\"}});}</script>                <script type=\"text/javascript\">window.PlotlyConfig = {MathJaxConfig: 'local'};</script>\n",
              "        <script src=\"https://cdn.plot.ly/plotly-2.8.3.min.js\"></script>                <div id=\"c90301e4-56dd-4780-b65d-be65690a75af\" class=\"plotly-graph-div\" style=\"height:900px; width:1200px;\"></div>            <script type=\"text/javascript\">                                    window.PLOTLYENV=window.PLOTLYENV || {};                                    if (document.getElementById(\"c90301e4-56dd-4780-b65d-be65690a75af\")) {                    Plotly.newPlot(                        \"c90301e4-56dd-4780-b65d-be65690a75af\",                        [{\"hovertemplate\":\"<b>%{hovertext}</b><br><br>Cuisine=Chinese<br>Avg Vote=%{marker.size}<br>Latitude=%{lat}<br>Longitude=%{lon}<extra></extra>\",\"hovertext\":[\"Church Street\",\"Koramangala 5th Block\",\"Rajarajeshwari Nagar\",\"Koramangala 4th Block\",\"Indiranagar\"],\"lat\":[12.9757996,12.9348429,12.9274413,12.9327778,12.9732913],\"legendgroup\":\"Chinese\",\"lon\":[77.6016904,77.6189768,77.5155224,77.6294052,77.6404672],\"marker\":{\"color\":\"#636efa\",\"opacity\":0.95,\"size\":[1838.9,790.3571428571429,679.0,632.08,530.967032967033],\"sizemode\":\"area\",\"sizeref\":4.59725},\"mode\":\"markers\",\"name\":\"Chinese\",\"showlegend\":true,\"subplot\":\"mapbox\",\"type\":\"scattermapbox\"},{\"hovertemplate\":\"<b>%{hovertext}</b><br><br>Cuisine=North Indian<br>Avg Vote=%{marker.size}<br>Latitude=%{lat}<br>Longitude=%{lon}<extra></extra>\",\"hovertext\":[\"Church Street\",\"Koramangala 5th Block\",\"Lavelle Road\",\"Koramangala 4th Block\",\"Indiranagar\"],\"lat\":[12.9757996,12.9348429,12.9750062,12.9327778,12.9732913],\"legendgroup\":\"North Indian\",\"lon\":[77.6016904,77.6189768,77.5998217,77.6294052,77.6404672],\"marker\":{\"color\":\"#EF553B\",\"opacity\":0.95,\"size\":[1020.6315789473684,1107.0821917808219,816.9166666666666,572.5142857142857,622.3571428571429],\"sizemode\":\"area\",\"sizeref\":4.59725},\"mode\":\"markers\",\"name\":\"North Indian\",\"showlegend\":true,\"subplot\":\"mapbox\",\"type\":\"scattermapbox\"},{\"hovertemplate\":\"<b>%{hovertext}</b><br><br>Cuisine=South Indian<br>Avg Vote=%{marker.size}<br>Latitude=%{lat}<br>Longitude=%{lon}<extra></extra>\",\"hovertext\":[\"Church Street\",\"Koramangala 5th Block\",\"MG Road\",\"Sarjapur Road\"],\"lat\":[12.9757996,12.9348429,12.9755264,12.920441],\"legendgroup\":\"South Indian\",\"lon\":[77.6016904,77.6189768,77.6067902,77.6653284],\"marker\":{\"color\":\"#00cc96\",\"opacity\":0.95,\"size\":[786.7142857142857,633.3529411764706,611.0,568.825],\"sizemode\":\"area\",\"sizeref\":4.59725},\"mode\":\"markers\",\"name\":\"South Indian\",\"showlegend\":true,\"subplot\":\"mapbox\",\"type\":\"scattermapbox\"},{\"hovertemplate\":\"<b>%{hovertext}</b><br><br>Cuisine=Biryani<br>Avg Vote=%{marker.size}<br>Latitude=%{lat}<br>Longitude=%{lon}<extra></extra>\",\"hovertext\":[\"Koramangala 5th Block\",\"Residency Road\",\"West Bangalore\",\"North Bangalore\",\"Jayanagar\"],\"lat\":[12.9348429,13.052791,12.9848519,12.9767936,12.9292731],\"legendgroup\":\"Biryani\",\"lon\":[77.6189768,77.6203393,77.5400626,77.590082,77.5824229],\"marker\":{\"color\":\"#ab63fa\",\"opacity\":0.95,\"size\":[780.5416666666666,553.5555555555555,537.0,531.0,488.45714285714286],\"sizemode\":\"area\",\"sizeref\":4.59725},\"mode\":\"markers\",\"name\":\"Biryani\",\"showlegend\":true,\"subplot\":\"mapbox\",\"type\":\"scattermapbox\"},{\"hovertemplate\":\"<b>%{hovertext}</b><br><br>Cuisine=Fast Food<br>Avg Vote=%{marker.size}<br>Latitude=%{lat}<br>Longitude=%{lon}<extra></extra>\",\"hovertext\":[\"Koramangala 5th Block\",\"Race Course Road\",\"West Bangalore\",\"Infantry Road\",\"Shivajinagar\"],\"lat\":[12.9348429,12.9843073,12.9848519,12.9834429,12.986391],\"legendgroup\":\"Fast Food\",\"lon\":[77.6189768,77.5878852,77.5400626,77.5950891,77.6075416],\"marker\":{\"color\":\"#FFA15A\",\"opacity\":0.95,\"size\":[331.84615384615387,631.0,537.0,418.3333333333333,399.0],\"sizemode\":\"area\",\"sizeref\":4.59725},\"mode\":\"markers\",\"name\":\"Fast Food\",\"showlegend\":true,\"subplot\":\"mapbox\",\"type\":\"scattermapbox\"}],                        {\"template\":{\"data\":{\"bar\":[{\"error_x\":{\"color\":\"#2a3f5f\"},\"error_y\":{\"color\":\"#2a3f5f\"},\"marker\":{\"line\":{\"color\":\"#E5ECF6\",\"width\":0.5},\"pattern\":{\"fillmode\":\"overlay\",\"size\":10,\"solidity\":0.2}},\"type\":\"bar\"}],\"barpolar\":[{\"marker\":{\"line\":{\"color\":\"#E5ECF6\",\"width\":0.5},\"pattern\":{\"fillmode\":\"overlay\",\"size\":10,\"solidity\":0.2}},\"type\":\"barpolar\"}],\"carpet\":[{\"aaxis\":{\"endlinecolor\":\"#2a3f5f\",\"gridcolor\":\"white\",\"linecolor\":\"white\",\"minorgridcolor\":\"white\",\"startlinecolor\":\"#2a3f5f\"},\"baxis\":{\"endlinecolor\":\"#2a3f5f\",\"gridcolor\":\"white\",\"linecolor\":\"white\",\"minorgridcolor\":\"white\",\"startlinecolor\":\"#2a3f5f\"},\"type\":\"carpet\"}],\"choropleth\":[{\"colorbar\":{\"outlinewidth\":0,\"ticks\":\"\"},\"type\":\"choropleth\"}],\"contour\":[{\"colorbar\":{\"outlinewidth\":0,\"ticks\":\"\"},\"colorscale\":[[0.0,\"#0d0887\"],[0.1111111111111111,\"#46039f\"],[0.2222222222222222,\"#7201a8\"],[0.3333333333333333,\"#9c179e\"],[0.4444444444444444,\"#bd3786\"],[0.5555555555555556,\"#d8576b\"],[0.6666666666666666,\"#ed7953\"],[0.7777777777777778,\"#fb9f3a\"],[0.8888888888888888,\"#fdca26\"],[1.0,\"#f0f921\"]],\"type\":\"contour\"}],\"contourcarpet\":[{\"colorbar\":{\"outlinewidth\":0,\"ticks\":\"\"},\"type\":\"contourcarpet\"}],\"heatmap\":[{\"colorbar\":{\"outlinewidth\":0,\"ticks\":\"\"},\"colorscale\":[[0.0,\"#0d0887\"],[0.1111111111111111,\"#46039f\"],[0.2222222222222222,\"#7201a8\"],[0.3333333333333333,\"#9c179e\"],[0.4444444444444444,\"#bd3786\"],[0.5555555555555556,\"#d8576b\"],[0.6666666666666666,\"#ed7953\"],[0.7777777777777778,\"#fb9f3a\"],[0.8888888888888888,\"#fdca26\"],[1.0,\"#f0f921\"]],\"type\":\"heatmap\"}],\"heatmapgl\":[{\"colorbar\":{\"outlinewidth\":0,\"ticks\":\"\"},\"colorscale\":[[0.0,\"#0d0887\"],[0.1111111111111111,\"#46039f\"],[0.2222222222222222,\"#7201a8\"],[0.3333333333333333,\"#9c179e\"],[0.4444444444444444,\"#bd3786\"],[0.5555555555555556,\"#d8576b\"],[0.6666666666666666,\"#ed7953\"],[0.7777777777777778,\"#fb9f3a\"],[0.8888888888888888,\"#fdca26\"],[1.0,\"#f0f921\"]],\"type\":\"heatmapgl\"}],\"histogram\":[{\"marker\":{\"pattern\":{\"fillmode\":\"overlay\",\"size\":10,\"solidity\":0.2}},\"type\":\"histogram\"}],\"histogram2d\":[{\"colorbar\":{\"outlinewidth\":0,\"ticks\":\"\"},\"colorscale\":[[0.0,\"#0d0887\"],[0.1111111111111111,\"#46039f\"],[0.2222222222222222,\"#7201a8\"],[0.3333333333333333,\"#9c179e\"],[0.4444444444444444,\"#bd3786\"],[0.5555555555555556,\"#d8576b\"],[0.6666666666666666,\"#ed7953\"],[0.7777777777777778,\"#fb9f3a\"],[0.8888888888888888,\"#fdca26\"],[1.0,\"#f0f921\"]],\"type\":\"histogram2d\"}],\"histogram2dcontour\":[{\"colorbar\":{\"outlinewidth\":0,\"ticks\":\"\"},\"colorscale\":[[0.0,\"#0d0887\"],[0.1111111111111111,\"#46039f\"],[0.2222222222222222,\"#7201a8\"],[0.3333333333333333,\"#9c179e\"],[0.4444444444444444,\"#bd3786\"],[0.5555555555555556,\"#d8576b\"],[0.6666666666666666,\"#ed7953\"],[0.7777777777777778,\"#fb9f3a\"],[0.8888888888888888,\"#fdca26\"],[1.0,\"#f0f921\"]],\"type\":\"histogram2dcontour\"}],\"mesh3d\":[{\"colorbar\":{\"outlinewidth\":0,\"ticks\":\"\"},\"type\":\"mesh3d\"}],\"parcoords\":[{\"line\":{\"colorbar\":{\"outlinewidth\":0,\"ticks\":\"\"}},\"type\":\"parcoords\"}],\"pie\":[{\"automargin\":true,\"type\":\"pie\"}],\"scatter\":[{\"marker\":{\"colorbar\":{\"outlinewidth\":0,\"ticks\":\"\"}},\"type\":\"scatter\"}],\"scatter3d\":[{\"line\":{\"colorbar\":{\"outlinewidth\":0,\"ticks\":\"\"}},\"marker\":{\"colorbar\":{\"outlinewidth\":0,\"ticks\":\"\"}},\"type\":\"scatter3d\"}],\"scattercarpet\":[{\"marker\":{\"colorbar\":{\"outlinewidth\":0,\"ticks\":\"\"}},\"type\":\"scattercarpet\"}],\"scattergeo\":[{\"marker\":{\"colorbar\":{\"outlinewidth\":0,\"ticks\":\"\"}},\"type\":\"scattergeo\"}],\"scattergl\":[{\"marker\":{\"colorbar\":{\"outlinewidth\":0,\"ticks\":\"\"}},\"type\":\"scattergl\"}],\"scattermapbox\":[{\"marker\":{\"colorbar\":{\"outlinewidth\":0,\"ticks\":\"\"}},\"type\":\"scattermapbox\"}],\"scatterpolar\":[{\"marker\":{\"colorbar\":{\"outlinewidth\":0,\"ticks\":\"\"}},\"type\":\"scatterpolar\"}],\"scatterpolargl\":[{\"marker\":{\"colorbar\":{\"outlinewidth\":0,\"ticks\":\"\"}},\"type\":\"scatterpolargl\"}],\"scatterternary\":[{\"marker\":{\"colorbar\":{\"outlinewidth\":0,\"ticks\":\"\"}},\"type\":\"scatterternary\"}],\"surface\":[{\"colorbar\":{\"outlinewidth\":0,\"ticks\":\"\"},\"colorscale\":[[0.0,\"#0d0887\"],[0.1111111111111111,\"#46039f\"],[0.2222222222222222,\"#7201a8\"],[0.3333333333333333,\"#9c179e\"],[0.4444444444444444,\"#bd3786\"],[0.5555555555555556,\"#d8576b\"],[0.6666666666666666,\"#ed7953\"],[0.7777777777777778,\"#fb9f3a\"],[0.8888888888888888,\"#fdca26\"],[1.0,\"#f0f921\"]],\"type\":\"surface\"}],\"table\":[{\"cells\":{\"fill\":{\"color\":\"#EBF0F8\"},\"line\":{\"color\":\"white\"}},\"header\":{\"fill\":{\"color\":\"#C8D4E3\"},\"line\":{\"color\":\"white\"}},\"type\":\"table\"}]},\"layout\":{\"annotationdefaults\":{\"arrowcolor\":\"#2a3f5f\",\"arrowhead\":0,\"arrowwidth\":1},\"autotypenumbers\":\"strict\",\"coloraxis\":{\"colorbar\":{\"outlinewidth\":0,\"ticks\":\"\"}},\"colorscale\":{\"diverging\":[[0,\"#8e0152\"],[0.1,\"#c51b7d\"],[0.2,\"#de77ae\"],[0.3,\"#f1b6da\"],[0.4,\"#fde0ef\"],[0.5,\"#f7f7f7\"],[0.6,\"#e6f5d0\"],[0.7,\"#b8e186\"],[0.8,\"#7fbc41\"],[0.9,\"#4d9221\"],[1,\"#276419\"]],\"sequential\":[[0.0,\"#0d0887\"],[0.1111111111111111,\"#46039f\"],[0.2222222222222222,\"#7201a8\"],[0.3333333333333333,\"#9c179e\"],[0.4444444444444444,\"#bd3786\"],[0.5555555555555556,\"#d8576b\"],[0.6666666666666666,\"#ed7953\"],[0.7777777777777778,\"#fb9f3a\"],[0.8888888888888888,\"#fdca26\"],[1.0,\"#f0f921\"]],\"sequentialminus\":[[0.0,\"#0d0887\"],[0.1111111111111111,\"#46039f\"],[0.2222222222222222,\"#7201a8\"],[0.3333333333333333,\"#9c179e\"],[0.4444444444444444,\"#bd3786\"],[0.5555555555555556,\"#d8576b\"],[0.6666666666666666,\"#ed7953\"],[0.7777777777777778,\"#fb9f3a\"],[0.8888888888888888,\"#fdca26\"],[1.0,\"#f0f921\"]]},\"colorway\":[\"#636efa\",\"#EF553B\",\"#00cc96\",\"#ab63fa\",\"#FFA15A\",\"#19d3f3\",\"#FF6692\",\"#B6E880\",\"#FF97FF\",\"#FECB52\"],\"font\":{\"color\":\"#2a3f5f\"},\"geo\":{\"bgcolor\":\"white\",\"lakecolor\":\"white\",\"landcolor\":\"#E5ECF6\",\"showlakes\":true,\"showland\":true,\"subunitcolor\":\"white\"},\"hoverlabel\":{\"align\":\"left\"},\"hovermode\":\"closest\",\"mapbox\":{\"style\":\"light\"},\"paper_bgcolor\":\"white\",\"plot_bgcolor\":\"#E5ECF6\",\"polar\":{\"angularaxis\":{\"gridcolor\":\"white\",\"linecolor\":\"white\",\"ticks\":\"\"},\"bgcolor\":\"#E5ECF6\",\"radialaxis\":{\"gridcolor\":\"white\",\"linecolor\":\"white\",\"ticks\":\"\"}},\"scene\":{\"xaxis\":{\"backgroundcolor\":\"#E5ECF6\",\"gridcolor\":\"white\",\"gridwidth\":2,\"linecolor\":\"white\",\"showbackground\":true,\"ticks\":\"\",\"zerolinecolor\":\"white\"},\"yaxis\":{\"backgroundcolor\":\"#E5ECF6\",\"gridcolor\":\"white\",\"gridwidth\":2,\"linecolor\":\"white\",\"showbackground\":true,\"ticks\":\"\",\"zerolinecolor\":\"white\"},\"zaxis\":{\"backgroundcolor\":\"#E5ECF6\",\"gridcolor\":\"white\",\"gridwidth\":2,\"linecolor\":\"white\",\"showbackground\":true,\"ticks\":\"\",\"zerolinecolor\":\"white\"}},\"shapedefaults\":{\"line\":{\"color\":\"#2a3f5f\"}},\"ternary\":{\"aaxis\":{\"gridcolor\":\"white\",\"linecolor\":\"white\",\"ticks\":\"\"},\"baxis\":{\"gridcolor\":\"white\",\"linecolor\":\"white\",\"ticks\":\"\"},\"bgcolor\":\"#E5ECF6\",\"caxis\":{\"gridcolor\":\"white\",\"linecolor\":\"white\",\"ticks\":\"\"}},\"title\":{\"x\":0.05},\"xaxis\":{\"automargin\":true,\"gridcolor\":\"white\",\"linecolor\":\"white\",\"ticks\":\"\",\"title\":{\"standoff\":15},\"zerolinecolor\":\"white\",\"zerolinewidth\":2},\"yaxis\":{\"automargin\":true,\"gridcolor\":\"white\",\"linecolor\":\"white\",\"ticks\":\"\",\"title\":{\"standoff\":15},\"zerolinecolor\":\"white\",\"zerolinewidth\":2}}},\"mapbox\":{\"domain\":{\"x\":[0.0,1.0],\"y\":[0.0,1.0]},\"center\":{\"lat\":12.962286212499999,\"lon\":77.603777},\"zoom\":10.8,\"style\":\"open-street-map\"},\"legend\":{\"title\":{\"text\":\"Cuisine\"},\"tracegroupgap\":0,\"itemsizing\":\"constant\"},\"title\":{\"text\":\"Top 5 Locations for each of the Top 5 Cuisine in Bangalore\"},\"height\":900,\"width\":1200,\"margin\":{\"r\":0,\"t\":50,\"l\":0,\"b\":10}},                        {\"responsive\": true}                    ).then(function(){\n",
              "                            \n",
              "var gd = document.getElementById('c90301e4-56dd-4780-b65d-be65690a75af');\n",
              "var x = new MutationObserver(function (mutations, observer) {{\n",
              "        var display = window.getComputedStyle(gd).display;\n",
              "        if (!display || display === 'none') {{\n",
              "            console.log([gd, 'removed!']);\n",
              "            Plotly.purge(gd);\n",
              "            observer.disconnect();\n",
              "        }}\n",
              "}});\n",
              "\n",
              "// Listen for the removal of the full notebook cells\n",
              "var notebookContainer = gd.closest('#notebook-container');\n",
              "if (notebookContainer) {{\n",
              "    x.observe(notebookContainer, {childList: true});\n",
              "}}\n",
              "\n",
              "// Listen for the clearing of the current output cell\n",
              "var outputEl = gd.closest('.output');\n",
              "if (outputEl) {{\n",
              "    x.observe(outputEl, {childList: true});\n",
              "}}\n",
              "\n",
              "                        })                };                            </script>        </div>\n",
              "</body>\n",
              "</html>"
            ]
          },
          "metadata": {}
        }
      ]
    }
  ],
  "metadata": {
    "colab": {
      "collapsed_sections": [],
      "provenance": [],
      "mount_file_id": "1IIO2tc_ITQHnP8tUoSDXl-lgmyxdnOIx",
      "authorship_tag": "ABX9TyONsRvMD5WFtGELOtocWQqj",
      "include_colab_link": true
    },
    "kernelspec": {
      "display_name": "Python 3",
      "name": "python3"
    },
    "language_info": {
      "name": "python"
    }
  },
  "nbformat": 4,
  "nbformat_minor": 0
}